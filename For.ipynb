{
 "cells": [
  {
   "cell_type": "markdown",
   "metadata": {},
   "source": [
    "<p style=\"text-align:center\">\n",
    "PSY 341K <b>Python Coding for Psychological Sciences</b>, Fall 2018\n",
    "\n",
    "<img src=\"https://www.python.org/static/community_logos/python-logo-master-v3-TM.png\" alt=\"Python logo\" width=\"200\">\n",
    "</p>\n",
    "\n",
    "\n",
    "<h1 style=\"text-align:center\"> For loop </h1>\n",
    "\n",
    "<h4 style=\"text-align:center\"> September 13 - 18, 2018 </h4>\n",
    "<hr style=\"height:5px;border:none\" />\n",
    "<p>"
   ]
  },
  {
   "cell_type": "markdown",
   "metadata": {},
   "source": [
    "# 1. For loop basic\n",
    "<hr style=\"height:1px;border:none\" />"
   ]
  },
  {
   "cell_type": "markdown",
   "metadata": {},
   "source": [
    "During the last class, we learned how to use a `while` loop to execute something repeatedly as long as a certain condition is satisfied. What if you simply want to repeat something for a number of times? We can use a `while` loop with a counter that keeps track of how many times something is executed."
   ]
  },
  {
   "cell_type": "markdown",
   "metadata": {},
   "source": [
    "`<RepeatWithWhile.py>`"
   ]
  },
  {
   "cell_type": "code",
   "execution_count": null,
   "metadata": {},
   "outputs": [],
   "source": [
    "counter = 10\n",
    "while counter>0:\n",
    "    print('Are we there yet?')\n",
    "    counter = counter - 1"
   ]
  },
  {
   "cell_type": "markdown",
   "metadata": {},
   "source": [
    "In this program, there is a variable called **`counter`**. It keeps track of how many times the block inside the `while` loop have been executed. Notice that we have to update `counter` every time the block is executed. This type of operation is fairly common, and people use a **`for`** loop for that purpose.\n",
    "```python\n",
    "for [variable name] in ([a sequence of the variable values]):\n",
    "\t[Execute some stuff]\n",
    "```\n",
    "Here is a simple example:"
   ]
  },
  {
   "cell_type": "markdown",
   "metadata": {},
   "source": [
    "`<AreWeThereYet.py>`"
   ]
  },
  {
   "cell_type": "code",
   "execution_count": null,
   "metadata": {
    "collapsed": true
   },
   "outputs": [],
   "source": [
    "for i in range(10):\n",
    "    print('Are we there yet?')"
   ]
  },
  {
   "cell_type": "markdown",
   "metadata": {},
   "source": [
    "This program prints out \"Are we there yet?\" 10 times. In this program, the **`range`** function (**`range(10)`**) tells that this loop is repeated 10 times. The value of the variable **`i`** is updated automatically every time the loop is run. You can also use the variable `i` inside the for loop. For example,"
   ]
  },
  {
   "cell_type": "markdown",
   "metadata": {},
   "source": [
    "`<Variable_i.py>`"
   ]
  },
  {
   "cell_type": "code",
   "execution_count": 2,
   "metadata": {},
   "outputs": [
    {
     "name": "stdout",
     "output_type": "stream",
     "text": [
      "The value of the variable i is 0\n",
      "The value of the variable i is 1\n",
      "The value of the variable i is 2\n",
      "The value of the variable i is 3\n",
      "The value of the variable i is 4\n",
      "The value of the variable i is 5\n",
      "The value of the variable i is 6\n",
      "The value of the variable i is 7\n",
      "The value of the variable i is 8\n",
      "The value of the variable i is 9\n"
     ]
    }
   ],
   "source": [
    "for i in range(10):\n",
    "    print('The value of the variable i is ' + str(i))"
   ]
  },
  {
   "cell_type": "markdown",
   "metadata": {},
   "source": [
    "This means that the `range(10)` function produces numbers between 0 and 9 in a sequence. The value of `i` inside the `for` loop reflects this sequence.\n",
    "\n",
    "Here is another interesting example:"
   ]
  },
  {
   "cell_type": "markdown",
   "metadata": {},
   "source": [
    "`<Stars.py>`"
   ]
  },
  {
   "cell_type": "code",
   "execution_count": null,
   "metadata": {
    "collapsed": true
   },
   "outputs": [],
   "source": [
    "for i in range(10):\n",
    "    print(\"*\" * i)"
   ]
  },
  {
   "cell_type": "markdown",
   "metadata": {},
   "source": [
    "produces"
   ]
  },
  {
   "cell_type": "markdown",
   "metadata": {},
   "source": [
    "```\n",
    "*\n",
    "**\n",
    "***\n",
    "****\n",
    "*****\n",
    "******\n",
    "*******\n",
    "********\n",
    "*********\n",
    "```\n",
    "\n",
    "You can also do a mathematical operation inside the `for` loop."
   ]
  },
  {
   "cell_type": "markdown",
   "metadata": {},
   "source": [
    "`<Balance.py>`"
   ]
  },
  {
   "cell_type": "code",
   "execution_count": null,
   "metadata": {},
   "outputs": [],
   "source": [
    "balance = 1000\n",
    "interest = 0.06\n",
    "for i in range(30):\n",
    "    balance = balance * (1+interest)\n",
    "    print('The balance for this year is $' + str(balance))"
   ]
  },
  {
   "cell_type": "markdown",
   "metadata": {},
   "source": [
    "This program shows how saving of `$`1000 grows over 30 years at the interest rate of 6%. "
   ]
  },
  {
   "cell_type": "markdown",
   "metadata": {},
   "source": [
    "### Exercise\n",
    "1. **Amoebae**. Say, as part of a biology experiment, you isolated a single individual of amoeba. This amoeba splits into two every 60 minutes. The resulting progeny amoebae are able to split at the same rate as the progenitor. Write a program to calculate the number of amoebae every hour for next 12 hours. You can assume that amoebae do not die during this period.  "
   ]
  },
  {
   "cell_type": "markdown",
   "metadata": {},
   "source": [
    "# 2. More on `range()` function\n",
    "<hr style=\"height:1px;border:none\" />"
   ]
  },
  {
   "cell_type": "markdown",
   "metadata": {},
   "source": [
    "The function **`range(X)`** generates a sequence of numbers 0, 1, 2, ..., `X-1` for a `for` loop. You can see this using the **`list()`** function."
   ]
  },
  {
   "cell_type": "code",
   "execution_count": 6,
   "metadata": {},
   "outputs": [
    {
     "data": {
      "text/plain": [
       "[0, 1, 2, 3, 4, 5, 6, 7]"
      ]
     },
     "execution_count": 6,
     "metadata": {},
     "output_type": "execute_result"
    }
   ],
   "source": [
    "list(range(8))"
   ]
  },
  {
   "cell_type": "markdown",
   "metadata": {},
   "source": [
    "You can also customize the sequence in a `range()` function. You can specify the starting value (`X`) and the ending value (`Y`) as `range(X, Y)`."
   ]
  },
  {
   "cell_type": "code",
   "execution_count": 7,
   "metadata": {},
   "outputs": [
    {
     "data": {
      "text/plain": [
       "[10, 11, 12, 13, 14, 15, 16, 17, 18, 19]"
      ]
     },
     "execution_count": 7,
     "metadata": {},
     "output_type": "execute_result"
    }
   ],
   "source": [
    "list(range(10,20))"
   ]
  },
  {
   "cell_type": "markdown",
   "metadata": {},
   "source": [
    "As you may notice, the `range` function does not produce the ending value (20 in this case), but one prior to that (19 in this case).\n",
    "\n",
    "You can also specify the step (`Z`) between the numbers in a sequence in a `range` function, by `range(X, Y, Z)`."
   ]
  },
  {
   "cell_type": "code",
   "execution_count": 8,
   "metadata": {},
   "outputs": [
    {
     "data": {
      "text/plain": [
       "[10, 20, 30, 40, 50, 60]"
      ]
     },
     "execution_count": 8,
     "metadata": {},
     "output_type": "execute_result"
    }
   ],
   "source": [
    "list(range(10, 65, 10))"
   ]
  },
  {
   "cell_type": "markdown",
   "metadata": {},
   "source": [
    "The following program generates a list of leap years between 2016 and 2050. "
   ]
  },
  {
   "cell_type": "markdown",
   "metadata": {},
   "source": [
    "`<LeapYear.py>`"
   ]
  },
  {
   "cell_type": "code",
   "execution_count": 4,
   "metadata": {},
   "outputs": [
    {
     "name": "stdout",
     "output_type": "stream",
     "text": [
      "Year 2016 is a leap year\n",
      "Year 2020 is a leap year\n",
      "Year 2024 is a leap year\n",
      "Year 2028 is a leap year\n",
      "Year 2032 is a leap year\n",
      "Year 2036 is a leap year\n",
      "Year 2040 is a leap year\n",
      "Year 2044 is a leap year\n",
      "Year 2048 is a leap year\n"
     ]
    }
   ],
   "source": [
    "for i in range(2016, 2051, 4):\n",
    "    print('Year ' + str(i) + ' is a leap year')"
   ]
  },
  {
   "cell_type": "markdown",
   "metadata": {},
   "source": [
    "You can also use a negative number for the step. If that is the case, the ending value has to be smaller than the starting value. "
   ]
  },
  {
   "cell_type": "code",
   "execution_count": 2,
   "metadata": {},
   "outputs": [
    {
     "data": {
      "text/plain": [
       "[10, 9, 8, 7, 6, 5, 4, 3, 2, 1, 0]"
      ]
     },
     "execution_count": 2,
     "metadata": {},
     "output_type": "execute_result"
    }
   ],
   "source": [
    "list(range(10,-1,-1))"
   ]
  },
  {
   "cell_type": "markdown",
   "metadata": {},
   "source": [
    "The following program shows the number of quarters left after each load of laundry at a Laundromat."
   ]
  },
  {
   "cell_type": "markdown",
   "metadata": {},
   "source": [
    "`<Laundry.py>`"
   ]
  },
  {
   "cell_type": "code",
   "execution_count": null,
   "metadata": {},
   "outputs": [],
   "source": [
    "qStart = 40  # You start from a roll of quarters ($10)\n",
    "qStep = -7  # it costs you 7 quarters to run a wash & dry cycle\n",
    "qStop = -1  # you have to stop after you run out of quarters\n",
    "for iCoin in range(qStart, qStop, qStep):\n",
    "    print('You have ' + str(iCoin) + ' quarters.')"
   ]
  },
  {
   "cell_type": "markdown",
   "metadata": {},
   "source": [
    "Notice that this program stops before all the quarters are used. "
   ]
  },
  {
   "cell_type": "markdown",
   "metadata": {},
   "source": [
    "### Exercise\n",
    "1. **Stimulus onset time**. In a 10-minute experiment, a certain stimulus is presented to the subject every 25 seconds for the duration of 10 seconds. The first stimulus is presented at t=10s from the beginning of the experiment. Thus, the subsequent stimuli are presented at\n",
    "```\n",
    "   t=10s\n",
    "   t=35s\n",
    "   t=60s\n",
    "   t=85s\n",
    "   ...\n",
    "```\n",
    "and so on. Write a program to print out all the stimulus onset times (in seconds) during this experiment.\n",
    "\n",
    "2. **Pattern**. Write a program to generate this pattern\n",
    "```\n",
    "=#==#==#==#==#==#==#==#=\n",
    "=#==#==#==#==#==#==#=\n",
    "=#==#==#==#==#==#=\n",
    "=#==#==#==#==#=\n",
    "=#==#==#==#=\n",
    "=#==#==#=\n",
    "=#==#=\n",
    "=#=\n",
    "```\n",
    "(***NB:*** *You must use a `for` loop.*)"
   ]
  },
  {
   "cell_type": "markdown",
   "metadata": {},
   "source": [
    "# 3. Nested `for` loops\n",
    "<hr style=\"height:1px;border:none\" />"
   ]
  },
  {
   "cell_type": "markdown",
   "metadata": {},
   "source": [
    "You can have a `for` loop inside another `for` loop. Here is an example "
   ]
  },
  {
   "cell_type": "markdown",
   "metadata": {},
   "source": [
    "`<NestedLoops.py>`"
   ]
  },
  {
   "cell_type": "code",
   "execution_count": null,
   "metadata": {
    "collapsed": true
   },
   "outputs": [],
   "source": [
    "for i in range(10):\n",
    "    for j in range(4):\n",
    "        print('i=' + str(i) + ',   j=' + str(j))"
   ]
  },
  {
   "cell_type": "markdown",
   "metadata": {},
   "source": [
    "And here is the output\n",
    "```\n",
    "i=0,   j=0\n",
    "i=0,   j=1\n",
    "i=0,   j=2\n",
    "i=0,   j=3\n",
    "i=1,   j=0\n",
    "i=1,   j=1\n",
    "i=1,   j=2\n",
    "i=1,   j=3\n",
    "i=2,   j=0\n",
    "i=2,   j=1\n",
    "i=2,   j=2\n",
    "i=2,   j=3\n",
    "....\n",
    "```\n",
    "You may notice that the value of the outer `for` loop (`i` in this case) remains constant while the value of the inner `for` loop iterates (`j` in this case). Once the inner `for` loop finishes, then the outer `for` loop proceeds to the next value. "
   ]
  },
  {
   "cell_type": "markdown",
   "metadata": {},
   "source": [
    "Here is another example of nested loops."
   ]
  },
  {
   "cell_type": "markdown",
   "metadata": {},
   "source": [
    "`<MultiTable.py>`"
   ]
  },
  {
   "cell_type": "code",
   "execution_count": null,
   "metadata": {
    "collapsed": true
   },
   "outputs": [],
   "source": [
    "for i in range(1,13):\n",
    "    print('Multiples of ' + str(i))\n",
    "    for j in range(1,13):\n",
    "        print(str(i) + ' x ' + str(j) + ' = ' + str(i*j))"
   ]
  },
  {
   "cell_type": "markdown",
   "metadata": {},
   "source": [
    "This program produces a multiplication table."
   ]
  },
  {
   "cell_type": "markdown",
   "metadata": {},
   "source": [
    "### Exercise\n",
    "1. **Combination lock**. You have a 3-digit combination lock. \n",
    "  * The first digit can be 1, 2, or 3.\n",
    "  * The second digit can be 4, 5, or 6.\n",
    "  * The third digit can be 7, 8, or 9\n",
    "  \n",
    "  Write a program to print out all possible combinations for this lock.\n",
    "2. **Triangles**. Generate the following triangle patterns of numbers up to 9.\n",
    "\n",
    "```\n",
    "1\n",
    "\n",
    "22\n",
    "2\n",
    "\n",
    "333\n",
    "33\n",
    "3\n",
    "\n",
    "4444\n",
    "444\n",
    "44\n",
    "4\n",
    "\n",
    "55555\n",
    "5555\n",
    "555\n",
    "55\n",
    "5\n",
    "...\n",
    "```\n",
    "\n",
    "  and so on.\n",
    "  "
   ]
  }
 ],
 "metadata": {
  "kernelspec": {
   "display_name": "Python 3",
   "language": "python",
   "name": "python3"
  },
  "language_info": {
   "codemirror_mode": {
    "name": "ipython",
    "version": 3
   },
   "file_extension": ".py",
   "mimetype": "text/x-python",
   "name": "python",
   "nbconvert_exporter": "python",
   "pygments_lexer": "ipython3",
   "version": "3.5.5"
  }
 },
 "nbformat": 4,
 "nbformat_minor": 2
}
