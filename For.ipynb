{
 "cells": [
  {
   "cell_type": "markdown",
   "metadata": {},
   "source": [
    "<p style=\"text-align:center\">\n",
    "PSY 341K <b>Python Coding for Psychological Sciences</b>, Fall 2019\n",
    "\n",
    "<img src=\"https://github.com/sathayas/JupyterPythonFall2019/blob/master/Images/PythonLogo.png?raw=true\" alt=\"Python logo\" width=\"400\">\n",
    "</p>\n",
    "\n",
    "\n",
    "\n",
    "<h1 style=\"text-align:center\"> For loop </h1>\n",
    "\n",
    "<h4 style=\"text-align:center\"> September 12, 2019 </h4>\n",
    "<hr style=\"height:5px;border:none\" />\n",
    "<p>"
   ]
  },
  {
   "cell_type": "markdown",
   "metadata": {},
   "source": [
    "# 1. For loop basic\n",
    "<hr style=\"height:1px;border:none\" />"
   ]
  },
  {
   "cell_type": "markdown",
   "metadata": {},
   "source": [
    "During the last class, we learned how to use a `while` loop to execute something repeatedly as long as a certain condition is satisfied. What if you simply want to repeat something for a number of times? We can use a `while` loop with a counter that keeps track of how many times something is executed."
   ]
  },
  {
   "cell_type": "markdown",
   "metadata": {},
   "source": [
    "[`<RepeatWithWhile.py>`](https://github.com/sathayas/PythonClassFall2019/blob/master/forExamples/RepeatWithWhile.py)"
   ]
  },
  {
   "cell_type": "code",
   "execution_count": 5,
   "metadata": {},
   "outputs": [
    {
     "name": "stdout",
     "output_type": "stream",
     "text": [
      "Are we there yet?\n",
      "Are we there yet?\n",
      "Are we there yet?\n",
      "Are we there yet?\n",
      "Are we there yet?\n",
      "Are we there yet?\n",
      "Are we there yet?\n",
      "Are we there yet?\n",
      "Are we there yet?\n",
      "Are we there yet?\n"
     ]
    }
   ],
   "source": [
    "counter = 10\n",
    "while counter>0:\n",
    "    print('Are we there yet?')\n",
    "    counter = counter - 1"
   ]
  },
  {
   "cell_type": "markdown",
   "metadata": {},
   "source": [
    "In this program, there is a variable called **`counter`**. It keeps track of how many times the block inside the `while` loop have been executed. Notice that we have to update `counter` every time the block is executed. This type of operation is fairly common, and people use a **`for`** loop for that purpose.\n",
    "```python\n",
    "for [variable name] in ([a sequence of the variable values]):\n",
    "\t[Execute some stuff]\n",
    "```\n",
    "Here is a simple example:"
   ]
  },
  {
   "cell_type": "markdown",
   "metadata": {},
   "source": [
    "[`<ForLoopExamples.py>`](https://github.com/sathayas/PythonClassFall2019/blob/master/forExamples/ForLoopExamples.py)"
   ]
  },
  {
   "cell_type": "code",
   "execution_count": 1,
   "metadata": {},
   "outputs": [
    {
     "name": "stdout",
     "output_type": "stream",
     "text": [
      "Are we there yet?\n",
      "Are we there yet?\n",
      "Are we there yet?\n",
      "Are we there yet?\n",
      "Are we there yet?\n",
      "Are we there yet?\n",
      "Are we there yet?\n",
      "Are we there yet?\n",
      "Are we there yet?\n",
      "Are we there yet?\n"
     ]
    }
   ],
   "source": [
    "# Printing are we there yet 10 times\n",
    "for i in range(10):\n",
    "    print('Are we there yet?')"
   ]
  },
  {
   "cell_type": "markdown",
   "metadata": {},
   "source": [
    "This program prints out \"Are we there yet?\" 10 times. In this program, the **`range`** function (**`range(10)`**) tells that this loop is repeated 10 times. The value of the variable **`i`** is updated automatically every time the loop is run. You can also use the variable `i` inside the for loop. For example,"
   ]
  },
  {
   "cell_type": "code",
   "execution_count": 2,
   "metadata": {},
   "outputs": [
    {
     "name": "stdout",
     "output_type": "stream",
     "text": [
      "The value of the variable i is 0\n",
      "The value of the variable i is 1\n",
      "The value of the variable i is 2\n",
      "The value of the variable i is 3\n",
      "The value of the variable i is 4\n",
      "The value of the variable i is 5\n",
      "The value of the variable i is 6\n",
      "The value of the variable i is 7\n",
      "The value of the variable i is 8\n",
      "The value of the variable i is 9\n"
     ]
    }
   ],
   "source": [
    "# printing i inside a for loop\n",
    "for i in range(10):\n",
    "    print('The value of the variable i is ' + str(i))"
   ]
  },
  {
   "cell_type": "markdown",
   "metadata": {},
   "source": [
    "This means that the `range(10)` function produces numbers between 0 and 9 in a sequence. The value of `i` inside the `for` loop reflects this sequence.\n",
    "\n",
    "Here is another interesting example:"
   ]
  },
  {
   "cell_type": "markdown",
   "metadata": {},
   "source": [
    "`<Stars.py>`"
   ]
  },
  {
   "cell_type": "code",
   "execution_count": 3,
   "metadata": {},
   "outputs": [
    {
     "name": "stdout",
     "output_type": "stream",
     "text": [
      "\n",
      "*\n",
      "**\n",
      "***\n",
      "****\n",
      "*****\n",
      "******\n",
      "*******\n",
      "********\n",
      "*********\n"
     ]
    }
   ],
   "source": [
    "# priting stars\n",
    "for i in range(10):\n",
    "    print(\"*\" * i)"
   ]
  },
  {
   "cell_type": "markdown",
   "metadata": {},
   "source": [
    "You can also do a mathematical operation inside the `for` loop."
   ]
  },
  {
   "cell_type": "code",
   "execution_count": 4,
   "metadata": {},
   "outputs": [
    {
     "name": "stdout",
     "output_type": "stream",
     "text": [
      "The balance for this year is $1060.0\n",
      "The balance for this year is $1123.6000000000001\n",
      "The balance for this year is $1191.0160000000003\n",
      "The balance for this year is $1262.4769600000004\n",
      "The balance for this year is $1338.2255776000004\n",
      "The balance for this year is $1418.5191122560004\n",
      "The balance for this year is $1503.6302589913605\n",
      "The balance for this year is $1593.8480745308423\n",
      "The balance for this year is $1689.4789590026928\n",
      "The balance for this year is $1790.8476965428545\n",
      "The balance for this year is $1898.298558335426\n",
      "The balance for this year is $2012.1964718355516\n",
      "The balance for this year is $2132.928260145685\n",
      "The balance for this year is $2260.903955754426\n",
      "The balance for this year is $2396.558193099692\n",
      "The balance for this year is $2540.3516846856733\n",
      "The balance for this year is $2692.7727857668137\n",
      "The balance for this year is $2854.3391529128226\n",
      "The balance for this year is $3025.599502087592\n",
      "The balance for this year is $3207.1354722128476\n",
      "The balance for this year is $3399.5636005456186\n",
      "The balance for this year is $3603.537416578356\n",
      "The balance for this year is $3819.7496615730574\n",
      "The balance for this year is $4048.9346412674413\n",
      "The balance for this year is $4291.870719743488\n",
      "The balance for this year is $4549.382962928097\n",
      "The balance for this year is $4822.3459407037835\n",
      "The balance for this year is $5111.68669714601\n",
      "The balance for this year is $5418.387898974771\n",
      "The balance for this year is $5743.491172913257\n"
     ]
    }
   ],
   "source": [
    "# calculation inside for loop\n",
    "balance = 1000\n",
    "interest = 0.06\n",
    "for i in range(30):\n",
    "    balance = balance * (1+interest)\n",
    "    print('The balance for this year is $' + str(balance))"
   ]
  },
  {
   "cell_type": "markdown",
   "metadata": {},
   "source": [
    "This program shows how saving of `$`1000 grows over 30 years at the interest rate of 6%. "
   ]
  },
  {
   "cell_type": "markdown",
   "metadata": {},
   "source": [
    "### Exercise\n",
    "1. **Allowance**. A teenager tells his parents that he is OK with \\$1 as his allowance for this month. However, he asks that the allowance to be doubled every month. In other words, \\$1 this month, \\$2 next month, \\$4 the following month, and so on. Write a program with a for loop to calculate his allowances for the next 2 years.  "
   ]
  },
  {
   "cell_type": "markdown",
   "metadata": {},
   "source": [
    "# 2. More on `range()` function\n",
    "<hr style=\"height:1px;border:none\" />"
   ]
  },
  {
   "cell_type": "markdown",
   "metadata": {},
   "source": [
    "The function **`range(X)`** generates a sequence of numbers 0, 1, 2, ..., `X-1` for a `for` loop. You can see this using the **`list()`** function."
   ]
  },
  {
   "cell_type": "code",
   "execution_count": 6,
   "metadata": {},
   "outputs": [
    {
     "data": {
      "text/plain": [
       "[0, 1, 2, 3, 4, 5, 6, 7]"
      ]
     },
     "execution_count": 6,
     "metadata": {},
     "output_type": "execute_result"
    }
   ],
   "source": [
    "list(range(8))"
   ]
  },
  {
   "cell_type": "markdown",
   "metadata": {},
   "source": [
    "You can also customize the sequence in a `range()` function. You can specify the starting value (`X`) and the ending value (`Y`) as `range(X, Y)`."
   ]
  },
  {
   "cell_type": "code",
   "execution_count": 7,
   "metadata": {},
   "outputs": [
    {
     "data": {
      "text/plain": [
       "[10, 11, 12, 13, 14, 15, 16, 17, 18, 19]"
      ]
     },
     "execution_count": 7,
     "metadata": {},
     "output_type": "execute_result"
    }
   ],
   "source": [
    "list(range(10,20))"
   ]
  },
  {
   "cell_type": "markdown",
   "metadata": {},
   "source": [
    "As you may notice, the `range` function does not produce the ending value (20 in this case), but one prior to that (19 in this case).\n",
    "\n",
    "You can also specify the step (`Z`) between the numbers in a sequence in a `range` function, by `range(X, Y, Z)`."
   ]
  },
  {
   "cell_type": "code",
   "execution_count": 8,
   "metadata": {},
   "outputs": [
    {
     "data": {
      "text/plain": [
       "[10, 20, 30, 40, 50, 60]"
      ]
     },
     "execution_count": 8,
     "metadata": {},
     "output_type": "execute_result"
    }
   ],
   "source": [
    "list(range(10, 65, 10))"
   ]
  },
  {
   "cell_type": "markdown",
   "metadata": {},
   "source": [
    "The following program generates a list of leap years between 2016 and 2050. "
   ]
  },
  {
   "cell_type": "markdown",
   "metadata": {},
   "source": [
    "[`<LeapYear.py>`](https://github.com/sathayas/PythonClassFall2019/blob/master/forExamples/LeapYear.py)"
   ]
  },
  {
   "cell_type": "code",
   "execution_count": 10,
   "metadata": {},
   "outputs": [
    {
     "name": "stdout",
     "output_type": "stream",
     "text": [
      "Year 2016 is a leap year\n",
      "Year 2020 is a leap year\n",
      "Year 2024 is a leap year\n",
      "Year 2028 is a leap year\n",
      "Year 2032 is a leap year\n",
      "Year 2036 is a leap year\n",
      "Year 2040 is a leap year\n",
      "Year 2044 is a leap year\n",
      "Year 2048 is a leap year\n"
     ]
    }
   ],
   "source": [
    "for i in range(2016, 2051, 4):\n",
    "    print('Year ' + str(i) + ' is a leap year')"
   ]
  },
  {
   "cell_type": "markdown",
   "metadata": {},
   "source": [
    "You can also use a negative number for the step. If that is the case, the ending value has to be smaller than the starting value. "
   ]
  },
  {
   "cell_type": "code",
   "execution_count": 2,
   "metadata": {},
   "outputs": [
    {
     "data": {
      "text/plain": [
       "[10, 9, 8, 7, 6, 5, 4, 3, 2, 1, 0]"
      ]
     },
     "execution_count": 2,
     "metadata": {},
     "output_type": "execute_result"
    }
   ],
   "source": [
    "list(range(10,-1,-1))"
   ]
  },
  {
   "cell_type": "markdown",
   "metadata": {},
   "source": [
    "### Exercise\n",
    "1. **Halley's Comet**. Halley's Comet orbits around the Sun, and becomes visible from the Earth every 76 years. The last time the comet approached the Earth was 1986. Using a for loop, calculate future returns of the comet until year 2500."
   ]
  },
  {
   "cell_type": "markdown",
   "metadata": {},
   "source": [
    "# 3. Nested `for` loops\n",
    "<hr style=\"height:1px;border:none\" />"
   ]
  },
  {
   "cell_type": "markdown",
   "metadata": {},
   "source": [
    "You can have a `for` loop inside another `for` loop. Here is an example "
   ]
  },
  {
   "cell_type": "markdown",
   "metadata": {},
   "source": [
    "[`<NestedLoops.py>`](https://github.com/sathayas/PythonClassFall2019/blob/master/forExamples/NestedLoops.py)"
   ]
  },
  {
   "cell_type": "code",
   "execution_count": 11,
   "metadata": {},
   "outputs": [
    {
     "name": "stdout",
     "output_type": "stream",
     "text": [
      "i=0,   j=0\n",
      "i=0,   j=1\n",
      "i=0,   j=2\n",
      "i=0,   j=3\n",
      "i=1,   j=0\n",
      "i=1,   j=1\n",
      "i=1,   j=2\n",
      "i=1,   j=3\n",
      "i=2,   j=0\n",
      "i=2,   j=1\n",
      "i=2,   j=2\n",
      "i=2,   j=3\n",
      "i=3,   j=0\n",
      "i=3,   j=1\n",
      "i=3,   j=2\n",
      "i=3,   j=3\n",
      "i=4,   j=0\n",
      "i=4,   j=1\n",
      "i=4,   j=2\n",
      "i=4,   j=3\n",
      "i=5,   j=0\n",
      "i=5,   j=1\n",
      "i=5,   j=2\n",
      "i=5,   j=3\n",
      "i=6,   j=0\n",
      "i=6,   j=1\n",
      "i=6,   j=2\n",
      "i=6,   j=3\n",
      "i=7,   j=0\n",
      "i=7,   j=1\n",
      "i=7,   j=2\n",
      "i=7,   j=3\n",
      "i=8,   j=0\n",
      "i=8,   j=1\n",
      "i=8,   j=2\n",
      "i=8,   j=3\n",
      "i=9,   j=0\n",
      "i=9,   j=1\n",
      "i=9,   j=2\n",
      "i=9,   j=3\n"
     ]
    }
   ],
   "source": [
    "for i in range(10):\n",
    "    for j in range(4):\n",
    "        print('i=' + str(i) + ',   j=' + str(j))"
   ]
  },
  {
   "cell_type": "markdown",
   "metadata": {},
   "source": [
    "You may notice that the value of the outer `for` loop (`i` in this case) remains constant while the value of the inner `for` loop iterates (`j` in this case). Once the inner `for` loop finishes, then the outer `for` loop proceeds to the next value. "
   ]
  },
  {
   "cell_type": "markdown",
   "metadata": {},
   "source": [
    "Here is another example of nested loops."
   ]
  },
  {
   "cell_type": "markdown",
   "metadata": {},
   "source": [
    "[`<MultiTable.py>`](https://github.com/sathayas/PythonClassFall2019/blob/master/forExamples/MultiTable.py)"
   ]
  },
  {
   "cell_type": "code",
   "execution_count": null,
   "metadata": {
    "collapsed": true
   },
   "outputs": [],
   "source": [
    "for i in range(1,13):\n",
    "    print('Multiples of ' + str(i))\n",
    "    for j in range(1,13):\n",
    "        print(str(i) + ' x ' + str(j) + ' = ' + str(i*j))"
   ]
  },
  {
   "cell_type": "markdown",
   "metadata": {},
   "source": [
    "This program produces a multiplication table."
   ]
  },
  {
   "cell_type": "markdown",
   "metadata": {},
   "source": [
    "### Exercise\n",
    "1. **Rolling dice**. Assume you roll two dice, and calculate the product of the resulting numbers. You want to make a list of all possible outcomes. For example,\n",
    "```\n",
    "(1, 1) = 1\n",
    "(1, 2) = 2\n",
    ". . .\n",
    "(1, 6) = 6\n",
    "(2, 2) = 4\n",
    "(2, 3) = 6\n",
    ". . .\n",
    "```\n",
    "and so on. In your table, you don't have to list redundant outcomes. For example, you don't list `(5, 2) = 10`, since this is already represented by `(2, 5) = 10`."
   ]
  }
 ],
 "metadata": {
  "kernelspec": {
   "display_name": "Python 3",
   "language": "python",
   "name": "python3"
  },
  "language_info": {
   "codemirror_mode": {
    "name": "ipython",
    "version": 3
   },
   "file_extension": ".py",
   "mimetype": "text/x-python",
   "name": "python",
   "nbconvert_exporter": "python",
   "pygments_lexer": "ipython3",
   "version": "3.6.5"
  }
 },
 "nbformat": 4,
 "nbformat_minor": 2
}
