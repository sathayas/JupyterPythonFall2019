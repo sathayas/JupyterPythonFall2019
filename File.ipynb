{
 "cells": [
  {
   "cell_type": "markdown",
   "metadata": {},
   "source": [
    "<p style=\"text-align:center\">\n",
    "PSY 341K <b>Python Coding for Psychological Sciences</b>, Fall 2019\n",
    "\n",
    "<img src=\"https://github.com/sathayas/JupyterPythonFall2019/blob/master/Images/PythonLogo.png?raw=true\" alt=\"Python logo\" width=\"400\">\n",
    "</p>\n",
    "\n",
    "<h1 style=\"text-align:center\"> Files </h1>\n",
    "\n",
    "<h4 style=\"text-align:center\"> October 3 - 8, 2019 </h4>\n",
    "<hr style=\"height:5px;border:none\" />\n",
    "<p>"
   ]
  },
  {
   "cell_type": "markdown",
   "metadata": {},
   "source": [
    "# 1. Directories, files, and paths\n",
    "<hr style=\"height:1px;border:none\" />"
   ]
  },
  {
   "cell_type": "markdown",
   "metadata": {},
   "source": [
    "### Path\n",
    "\n",
    "On a computer, files are organized under different directories. For example,\n",
    "\n",
    "<img src=\"https://github.com/sathayas/JupyterPythonFall2019/blob/master/Images/File_Folders.png?raw=true\" alt=\"Python shell\" style=\"width: 500px; float: center;\"/>\n",
    "\n",
    "The document **`project.docx`** is under a directory (or folder) **`Documents`**, under a directory **`asweigart`**, under a folder **`Users`**, under the drive **`C:\\`**. The file and all the directories leading up to the file can be addressed by\n",
    "```\n",
    "C:\\Users\\asweigart\\Documents\\project.docx\n",
    "```\n",
    "This notation is known as a **file path**. This type of path is used by Windows computers. For Mac OS X and Linux, let’s say the file `project.docx` is located under a directory **`Documents`**, under a directory **`hayasaka`**, under a directory **`Users`**, under the root directory **`/`**. The path to this file is denoted as\n",
    "```\n",
    "/Users/hayasaka/Documents/project.docx\n",
    "```\n",
    "\n",
    "### Creating a path with `os.path.join()`\n",
    "\n",
    "On Windows, a backslash (`\\`) is used between directories on a path, whereas a slash (`/`) is used on Mac OS X and Linux computers. If you are writing a Python program that can be ran on any platform, then we can use **`os.path.join()`** function to create a path. The `path.join()` function is in a module **`os`**. \n",
    "\n",
    "Here is an example to demonstrate the use of `os.path.join()`."
   ]
  },
  {
   "cell_type": "markdown",
   "metadata": {},
   "source": [
    "[`<OsPathJoin.py>`](https://github.com/sathayas/PythonClassFall2019/blob/master/fileExamples/OsPathJoin.py)"
   ]
  },
  {
   "cell_type": "code",
   "execution_count": 9,
   "metadata": {},
   "outputs": [
    {
     "name": "stdout",
     "output_type": "stream",
     "text": [
      "Some_home_directory/sub001/congruent.txt\n",
      "Some_home_directory/sub001/incongruent.txt\n",
      "Some_home_directory/sub001/mixed.txt\n",
      "Some_home_directory/sub003/congruent.txt\n",
      "Some_home_directory/sub003/incongruent.txt\n",
      "Some_home_directory/sub003/mixed.txt\n",
      "Some_home_directory/sub005/congruent.txt\n",
      "Some_home_directory/sub005/incongruent.txt\n",
      "Some_home_directory/sub005/mixed.txt\n"
     ]
    }
   ],
   "source": [
    "# import the os module\n",
    "import os\n",
    "\n",
    "# Home directory\n",
    "homeDir = 'Some_home_directory'\n",
    "# Directories for subjects \n",
    "subjects = ['sub001', 'sub003', 'sub005']\n",
    "# Experiment outcome data files\n",
    "expData = ['congruent.txt', 'incongruent.txt', 'mixed.txt']\n",
    "\n",
    "for iSubj in subjects:\n",
    "    for iExp in expData:\n",
    "        dataFullPath = os.path.join(homeDir, iSubj, iExp)\n",
    "        print(dataFullPath)"
   ]
  },
  {
   "cell_type": "markdown",
   "metadata": {},
   "source": [
    "You may have a different output, depending on your computer's OS."
   ]
  },
  {
   "cell_type": "markdown",
   "metadata": {},
   "source": [
    "### Current working directory\n",
    "Your Python shell is running on the current working directory. To see at\n",
    "which directory you are working on, you can use **`os.getcwd()`**. "
   ]
  },
  {
   "cell_type": "code",
   "execution_count": 10,
   "metadata": {},
   "outputs": [
    {
     "data": {
      "text/plain": [
       "'/home/satoru/Teaching/Python_Fall_2019'"
      ]
     },
     "execution_count": 10,
     "metadata": {},
     "output_type": "execute_result"
    }
   ],
   "source": [
    "os.getcwd()"
   ]
  },
  {
   "cell_type": "markdown",
   "metadata": {},
   "source": [
    "When you run a code in your Python shell, the current working directory is automatically\n",
    "changed to the directory where your code is saved.\n",
    "\n",
    "### Exercise\n",
    "1. Using `os.getcwd()`, find out which directory you are working on right now on the Python shell."
   ]
  },
  {
   "cell_type": "markdown",
   "metadata": {},
   "source": [
    "### Absolute and relative paths\n",
    "\n",
    "<img src=\"https://github.com/sathayas/JupyterPythonFall2018/blob/master/images/File_Paths.png?raw=true\" alt=\"Python shell\" style=\"width: 500px; float: center;\"/>\n",
    "\n",
    "\n",
    "To change a the current working directory, you can use **`os.chdir()`** function.\n",
    "Say, if I want to change my Python shell to work on a directory named\n",
    "`images`, then"
   ]
  },
  {
   "cell_type": "code",
   "execution_count": 12,
   "metadata": {},
   "outputs": [
    {
     "data": {
      "text/plain": [
       "'/home/satoru/Teaching/Python_Fall_2019/Notes/Images'"
      ]
     },
     "execution_count": 12,
     "metadata": {},
     "output_type": "execute_result"
    }
   ],
   "source": [
    "os.chdir('Images')\n",
    "os.getcwd()"
   ]
  },
  {
   "cell_type": "markdown",
   "metadata": {},
   "source": [
    "If I want to go up one directory, then I can do"
   ]
  },
  {
   "cell_type": "code",
   "execution_count": 13,
   "metadata": {},
   "outputs": [
    {
     "data": {
      "text/plain": [
       "'/home/satoru/Teaching/Python_Fall_2019/Notes'"
      ]
     },
     "execution_count": 13,
     "metadata": {},
     "output_type": "execute_result"
    }
   ],
   "source": [
    "os.chdir('..')\n",
    "os.getcwd()"
   ]
  },
  {
   "cell_type": "markdown",
   "metadata": {},
   "source": [
    "The notation **`'..'`** refers to the parent directory, or the directory above the\n",
    "current directory. Say, under the directory `Python_Fall_2019`, there is a directory called `Codes`. To change the working directory to `Codes`, you can do one of the following:"
   ]
  },
  {
   "cell_type": "code",
   "execution_count": 14,
   "metadata": {},
   "outputs": [
    {
     "data": {
      "text/plain": [
       "'/home/satoru/Teaching/Python_Fall_2019/Codes'"
      ]
     },
     "execution_count": 14,
     "metadata": {},
     "output_type": "execute_result"
    }
   ],
   "source": [
    "os.chdir('../Codes')\n",
    "os.getcwd()"
   ]
  },
  {
   "cell_type": "markdown",
   "metadata": {},
   "source": [
    "Or"
   ]
  },
  {
   "cell_type": "code",
   "execution_count": 15,
   "metadata": {},
   "outputs": [
    {
     "data": {
      "text/plain": [
       "'/home/satoru/Teaching/Python_Fall_2019/Codes'"
      ]
     },
     "execution_count": 15,
     "metadata": {},
     "output_type": "execute_result"
    }
   ],
   "source": [
    "os.chdir('/home/satoru/Teaching/Python_Fall_2019/Codes')\n",
    "os.getcwd()"
   ]
  },
  {
   "cell_type": "markdown",
   "metadata": {},
   "source": [
    "The first one is an example of a ***relative path***, whereas the latter is an example of an ***absolute path***. A *relative path* describes the location of a file or a directory relative from the current working directory, whereas an *absolute path* describes the location without any reference to a particular directory. Conceptually you can think\n",
    "  * **Relative path** -- directions to get to a desired location\n",
    "  * **Absolute path** -- the physical address of a desired location\n",
    "  \n",
    "### Exercise\n",
    "1. Change the current working directory to its parent directory, using a\n",
    "relative path.\n",
    "2. Change the current working directory again to its parent directory (or the\n",
    "grandparent directory of where you started), using a relative path.\n",
    "3. Go back to the directory you started (recall the earlier exercise), using a\n",
    "relative path.\n",
    "4. Change the current working directory to its parent directory, using an\n",
    "absolute path.\n",
    "5. Change the current working directory again to its parent directory (or the\n",
    "grandparent directory of where you started), using an absolute path.\n",
    "6. Go back to the directory you started (recall the earlier exercise), using an\n",
    "absolute path."
   ]
  },
  {
   "cell_type": "markdown",
   "metadata": {},
   "source": [
    "# 2. Reading a file\n",
    "<hr style=\"height:1px;border:none\" />"
   ]
  },
  {
   "cell_type": "markdown",
   "metadata": {},
   "source": [
    "### Preparation\n",
    "Before we get into this topic, please download the file [**`TestData.zip`**](https://github.com/sathayas/PythonClassFall2019/blob/master/fileExamples/TestData.zip) under\n",
    "[**`fileExamples`**](https://github.com/sathayas/PythonClassFall2019/tree/master/fileExamples) in the [**Codes GitHub**](https://github.com/sathayas/PythonClassFall2019) page and save them in the directory where you save your codes. Then upzip the file. That should create a directory called **`TestData`** containing test data sets for this module.\n",
    "\n",
    "If you have cloned my note repository or my code repository from GitHub, then the `TestData` directory is already available in those repositories. "
   ]
  },
  {
   "cell_type": "markdown",
   "metadata": {},
   "source": [
    "### Reading one line of file\n",
    "To read a file `SingleLineData.txt`, which contains one line of data, you can do the\n",
    "following:"
   ]
  },
  {
   "cell_type": "markdown",
   "metadata": {},
   "source": [
    "[`<ReadOneLine.py>`](https://github.com/sathayas/PythonClassFall2019/blob/master/fileExamples/ReadOneLine.py)"
   ]
  },
  {
   "cell_type": "code",
   "execution_count": 2,
   "metadata": {},
   "outputs": [],
   "source": [
    "import os\n",
    "\n",
    "# first, open the file\n",
    "f = open(os.path.join('TestData','SingleLineData.txt'), 'r')\n",
    "# read a line, then put in a variable called line\n",
    "line = f.readline()\n",
    "# always close the file you opened\n",
    "f.close()"
   ]
  },
  {
   "cell_type": "markdown",
   "metadata": {},
   "source": [
    "To read a file, first you need to open the file by the **`open()`** function. You supply the file name (with a path if not located in the current directory), and the mode **`'r'`** for reading.\n",
    "```python\n",
    "f = open(os.path.join('TestData','SingleLineData.txt'), 'r')\n",
    "```\n",
    "The `open()` function returns a file object (in this case, called **`f`**). You can name the file object with whatever the name you would like, just the way you name a\n",
    "variable. Once the file is open, then you can read one line of data with the\n",
    "**`readline()`** method for the file object.\n",
    "```python\n",
    "line = f.readline()\n",
    "```\n",
    "Here, the variable called **`line`** is storing the content of the read line. At this point, you are done reading the file, so you must close the file with the **`close()`** method.\n",
    "```python\n",
    "f.close()\n",
    "```\n",
    "Now you can take a look at what was read from the file on the Python shell."
   ]
  },
  {
   "cell_type": "code",
   "execution_count": 3,
   "metadata": {},
   "outputs": [
    {
     "data": {
      "text/plain": [
       "'  1  35  98  '"
      ]
     },
     "execution_count": 3,
     "metadata": {},
     "output_type": "execute_result"
    }
   ],
   "source": [
    "line"
   ]
  },
  {
   "cell_type": "markdown",
   "metadata": {},
   "source": [
    "It seems like the string line has spaces at the beginning and at the end. The\n",
    "**`strip()`** method for a string removes these spaces."
   ]
  },
  {
   "cell_type": "code",
   "execution_count": 4,
   "metadata": {},
   "outputs": [
    {
     "data": {
      "text/plain": [
       "'1  35  98'"
      ]
     },
     "execution_count": 4,
     "metadata": {},
     "output_type": "execute_result"
    }
   ],
   "source": [
    "line.strip()"
   ]
  },
  {
   "cell_type": "markdown",
   "metadata": {},
   "source": [
    "Now, you want to split these numbers from a single string into individual\n",
    "numbers."
   ]
  },
  {
   "cell_type": "code",
   "execution_count": 5,
   "metadata": {},
   "outputs": [
    {
     "data": {
      "text/plain": [
       "['1', '35', '98']"
      ]
     },
     "execution_count": 5,
     "metadata": {},
     "output_type": "execute_result"
    }
   ],
   "source": [
    "line.strip().split()"
   ]
  },
  {
   "cell_type": "markdown",
   "metadata": {},
   "source": [
    "Notice that these numbers are still strings. So you need to convert them into\n",
    "integers with the `int()` function. You can write a for loop to do that. Or, you\n",
    "can do this."
   ]
  },
  {
   "cell_type": "code",
   "execution_count": 6,
   "metadata": {},
   "outputs": [
    {
     "data": {
      "text/plain": [
       "[1, 35, 98]"
      ]
     },
     "execution_count": 6,
     "metadata": {},
     "output_type": "execute_result"
    }
   ],
   "source": [
    "inString = line.strip().split()\n",
    "inNumber = [int(i) for i in inString]\n",
    "inNumber"
   ]
  },
  {
   "cell_type": "markdown",
   "metadata": {},
   "source": [
    "So the expression \n",
    "```python\n",
    "inNumber = [int(i) for i in inString] \n",
    "```\n",
    "is equivalent to\n",
    "```python\n",
    "inNumber = []\n",
    "for i in inString:\n",
    "    inNumber.append(int(i))\n",
    "```\n",
    "It is a short-hand notation for Python. At this point, you can put these numbers to\n",
    "different variables. For example,"
   ]
  },
  {
   "cell_type": "code",
   "execution_count": 7,
   "metadata": {},
   "outputs": [],
   "source": [
    "trial = inNumber[0]\n",
    "onsetTime = inNumber[1]\n",
    "respTime = inNumber[2]"
   ]
  },
  {
   "cell_type": "markdown",
   "metadata": {},
   "source": [
    "### Exercise\n",
    "1. **Read one-line data**. Write a program to read a data file\n",
    "`ExerciseData_OneLine.txt` under `TestData` directory. Upon reading the file, store the data into the following lists:\n",
    "  * First set of 3 numbers to a list `trial`\n",
    "  * Second set of 3 numbers to a list `onsetTime`\n",
    "  * Third set of 3 numbers to a list `respTime`\n",
    "  * Last set of 3 numbers to a list `score`\n",
    "2. **State list**. Write a program to read a data file `StateList.txt` under `TestData` directory, which includes the names of 50 states separated by a comma. Then print out a list of states."
   ]
  },
  {
   "cell_type": "markdown",
   "metadata": {},
   "source": [
    "### Reading a file with multiple lines\n",
    "There are at least three different approaches to read a file with multiple lines.\n",
    "You can read everything in the file at once by the **`read()`** method for a file\n",
    "object."
   ]
  },
  {
   "cell_type": "markdown",
   "metadata": {},
   "source": [
    "[`<ReadWithRead.py>`](https://github.com/sathayas/PythonClassFall2019/blob/master/fileExamples/ReadWithRead.py)"
   ]
  },
  {
   "cell_type": "code",
   "execution_count": 8,
   "metadata": {},
   "outputs": [],
   "source": [
    "import os\n",
    "\n",
    "# first, open the file\n",
    "f = open(os.path.join('TestData','MultiLineData.txt'), 'r')\n",
    "# read the entire file content into a string variable fileData\n",
    "fileData = f.read()\n",
    "# always close the file you opened\n",
    "f.close()"
   ]
  },
  {
   "cell_type": "markdown",
   "metadata": {},
   "source": [
    "This will result in a string variable containing the entire content of a file."
   ]
  },
  {
   "cell_type": "code",
   "execution_count": 9,
   "metadata": {},
   "outputs": [
    {
     "data": {
      "text/plain": [
       "'  1  35  98  \\n  2  45  102  \\n  3  55  101  \\n  4  65  89  \\n  5  75  93  '"
      ]
     },
     "execution_count": 9,
     "metadata": {},
     "output_type": "execute_result"
    }
   ],
   "source": [
    "fileData"
   ]
  },
  {
   "cell_type": "markdown",
   "metadata": {},
   "source": [
    "You can split lines by the `split()` method."
   ]
  },
  {
   "cell_type": "code",
   "execution_count": 10,
   "metadata": {},
   "outputs": [
    {
     "data": {
      "text/plain": [
       "['  1  35  98  ',\n",
       " '  2  45  102  ',\n",
       " '  3  55  101  ',\n",
       " '  4  65  89  ',\n",
       " '  5  75  93  ']"
      ]
     },
     "execution_count": 10,
     "metadata": {},
     "output_type": "execute_result"
    }
   ],
   "source": [
    "fileData.split('\\n')"
   ]
  },
  {
   "cell_type": "markdown",
   "metadata": {},
   "source": [
    "Or, you can read the content of a file into a list, with each item being each line.\n",
    "To do this, we can use the **`readlines()`** method"
   ]
  },
  {
   "cell_type": "markdown",
   "metadata": {},
   "source": [
    "[`<ReadWithReadlines.py>`](https://github.com/sathayas/PythonClassFall2019/blob/master/fileExamples/ReadWithReadlines.py)"
   ]
  },
  {
   "cell_type": "code",
   "execution_count": 11,
   "metadata": {},
   "outputs": [],
   "source": [
    "import os\n",
    "\n",
    "# first, open the file\n",
    "f = open(os.path.join('TestData','MultiLineData.txt'), 'r')\n",
    "# read the file into a list called fileData.\n",
    "fileData = f.readlines()\n",
    "# always close the file you opened\n",
    "f.close()"
   ]
  },
  {
   "cell_type": "markdown",
   "metadata": {},
   "source": [
    "You can see that lines are broken up into a list."
   ]
  },
  {
   "cell_type": "code",
   "execution_count": 12,
   "metadata": {},
   "outputs": [
    {
     "data": {
      "text/plain": [
       "['  1  35  98  \\n',\n",
       " '  2  45  102  \\n',\n",
       " '  3  55  101  \\n',\n",
       " '  4  65  89  \\n',\n",
       " '  5  75  93  ']"
      ]
     },
     "execution_count": 12,
     "metadata": {},
     "output_type": "execute_result"
    }
   ],
   "source": [
    "fileData"
   ]
  },
  {
   "cell_type": "markdown",
   "metadata": {},
   "source": [
    "Finally, you can read one line at a time using the **`readline()`** method."
   ]
  },
  {
   "cell_type": "markdown",
   "metadata": {},
   "source": [
    "[`<ReadLineByLine.py>`](https://github.com/sathayas/PythonClassFall2019/blob/master/fileExamples/ReadLineByLine.py)"
   ]
  },
  {
   "cell_type": "code",
   "execution_count": 13,
   "metadata": {},
   "outputs": [],
   "source": [
    "import os\n",
    "\n",
    "# first, open the file\n",
    "f = open(os.path.join('TestData','MultiLineData.txt'), 'r')\n",
    "# initializing lists\n",
    "trial = []\n",
    "onsetTime = []\n",
    "respTime = []\n",
    "# reading one line at a time, then processing\n",
    "line = f.readline()\n",
    "while line:\n",
    "    inString = line.strip().split()\n",
    "    inNumber = [int(i) for i in inString]\n",
    "    trial.append(inNumber[0])\n",
    "    onsetTime.append(inNumber[1])\n",
    "    respTime.append(inNumber[2])\n",
    "    # read the next line\n",
    "    line = f.readline()\n",
    "    \n",
    "# always close the file you opened\n",
    "f.close()"
   ]
  },
  {
   "cell_type": "markdown",
   "metadata": {},
   "source": [
    "Notice in the `while` loop, **`while line:`** is **True** when the variable `line` is not\n",
    "empty. In this case, each line is processed right after it is read, and its values are\n",
    "placed into appropriate lists. This will continue until an empty line (indicating the\n",
    "end of the file) is read.\n",
    "\n",
    "Another thing to remember. When you read a file with multiple lines with `readline()` function, then you have to process the line that is read from the file BEFORE you read the subsequent line. In our example above, data are added to different lists while we are reading lines."
   ]
  },
  {
   "cell_type": "code",
   "execution_count": 14,
   "metadata": {},
   "outputs": [
    {
     "data": {
      "text/plain": [
       "[1, 2, 3, 4, 5]"
      ]
     },
     "execution_count": 14,
     "metadata": {},
     "output_type": "execute_result"
    }
   ],
   "source": [
    "trial"
   ]
  },
  {
   "cell_type": "code",
   "execution_count": 15,
   "metadata": {},
   "outputs": [
    {
     "data": {
      "text/plain": [
       "[35, 45, 55, 65, 75]"
      ]
     },
     "execution_count": 15,
     "metadata": {},
     "output_type": "execute_result"
    }
   ],
   "source": [
    "onsetTime"
   ]
  },
  {
   "cell_type": "code",
   "execution_count": 16,
   "metadata": {},
   "outputs": [
    {
     "data": {
      "text/plain": [
       "[98, 102, 101, 89, 93]"
      ]
     },
     "execution_count": 16,
     "metadata": {},
     "output_type": "execute_result"
    }
   ],
   "source": [
    "respTime"
   ]
  },
  {
   "cell_type": "markdown",
   "metadata": {},
   "source": [
    "### Exercise\n",
    "1. **State capitals**. Write a program to read a data file\n",
    "`StateCapitalList.txt` under `TestData` directory. In this file, each line lists a state and its capital separated by a comma. Then print out state capitals and states in the following format:\n",
    "```\n",
    "Montgomery (Alabama)\n",
    "Juneau (Alaska)\n",
    "...\n",
    "Cheyenne (Wyoming)\n",
    "```"
   ]
  },
  {
   "cell_type": "markdown",
   "metadata": {},
   "source": [
    "# 3. Content of a directory\n",
    "<hr style=\"height:1px;border:none\" />"
   ]
  },
  {
   "cell_type": "markdown",
   "metadata": {},
   "source": [
    "You can get file names in a directory directly using the **`os.listdir()`** function, which returns the content of the directory as a list."
   ]
  },
  {
   "cell_type": "code",
   "execution_count": 17,
   "metadata": {},
   "outputs": [
    {
     "data": {
      "text/plain": [
       "['Intro.ipynb',\n",
       " 'For.ipynb',\n",
       " 'Images',\n",
       " 'List.ipynb',\n",
       " 'Function.ipynb',\n",
       " 'Installation.ipynb',\n",
       " 'README.md',\n",
       " 'While.ipynb',\n",
       " '.gitignore',\n",
       " '.ipynb_checkpoints',\n",
       " 'Operators.ipynb',\n",
       " '.git',\n",
       " 'String.ipynb',\n",
       " 'If.ipynb',\n",
       " 'Dictionary.ipynb',\n",
       " 'File.ipynb',\n",
       " 'TestData']"
      ]
     },
     "execution_count": 17,
     "metadata": {},
     "output_type": "execute_result"
    }
   ],
   "source": [
    "import os\n",
    "\n",
    "os.listdir()"
   ]
  },
  {
   "cell_type": "markdown",
   "metadata": {},
   "source": [
    "Without any input, `os.listdir()` prints out the content of the current directory.\n",
    "You can also specify another directory (either by a relative or an absolute path)."
   ]
  },
  {
   "cell_type": "code",
   "execution_count": 18,
   "metadata": {},
   "outputs": [
    {
     "data": {
      "text/plain": [
       "['StateCapitalList.txt',\n",
       " 'StudySubjects.csv',\n",
       " 'SingleLineData.txt',\n",
       " 'StateCapitalList.csv',\n",
       " 'ExerciseData_OneLine.txt',\n",
       " 'MultiLineData.txt',\n",
       " 'StateList.txt']"
      ]
     },
     "execution_count": 18,
     "metadata": {},
     "output_type": "execute_result"
    }
   ],
   "source": [
    "os.listdir('TestData')"
   ]
  },
  {
   "cell_type": "markdown",
   "metadata": {},
   "source": [
    "# 4. Formatting numbers and strings\n",
    "<hr style=\"height:1px;border:none\" />"
   ]
  },
  {
   "cell_type": "markdown",
   "metadata": {},
   "source": [
    "## Formatting numbers\n",
    "\n",
    "Remember from some exercises earlier in the semester, a simple calculation in\n",
    "Python may produce a number with many decimal places. For example,"
   ]
  },
  {
   "cell_type": "code",
   "execution_count": 19,
   "metadata": {},
   "outputs": [
    {
     "name": "stdout",
     "output_type": "stream",
     "text": [
      "21.11111111111111\n"
     ]
    }
   ],
   "source": [
    "tempF=70\n",
    "tempC=(tempF-32)*5/9\n",
    "print(tempC)"
   ]
  },
  {
   "cell_type": "markdown",
   "metadata": {},
   "source": [
    "To limit decimal places, you can do this:"
   ]
  },
  {
   "cell_type": "code",
   "execution_count": 20,
   "metadata": {},
   "outputs": [
    {
     "name": "stdout",
     "output_type": "stream",
     "text": [
      "21.1\n"
     ]
    }
   ],
   "source": [
    "print('%.1f' % tempC)"
   ]
  },
  {
   "cell_type": "markdown",
   "metadata": {},
   "source": [
    "In this case, the number before **`f`** inside the quotation marks sets how many\n",
    "decimal places you want in your output. Then the variable `tempC` is printed with\n",
    "this specification."
   ]
  },
  {
   "cell_type": "code",
   "execution_count": 21,
   "metadata": {},
   "outputs": [
    {
     "name": "stdout",
     "output_type": "stream",
     "text": [
      "21.111\n"
     ]
    }
   ],
   "source": [
    "print('%.3f' % tempC)"
   ]
  },
  {
   "cell_type": "code",
   "execution_count": 22,
   "metadata": {},
   "outputs": [
    {
     "name": "stdout",
     "output_type": "stream",
     "text": [
      "21.11111\n"
     ]
    }
   ],
   "source": [
    "print('%.5f' % tempC)"
   ]
  },
  {
   "cell_type": "code",
   "execution_count": 23,
   "metadata": {},
   "outputs": [
    {
     "name": "stdout",
     "output_type": "stream",
     "text": [
      "21.1111111111\n"
     ]
    }
   ],
   "source": [
    "print('%.10f' % tempC)"
   ]
  },
  {
   "cell_type": "markdown",
   "metadata": {},
   "source": [
    "You can also specify the total length of a number as well, with a number before\n",
    "**`'.'`** inside the quotation marks."
   ]
  },
  {
   "cell_type": "markdown",
   "metadata": {},
   "source": [
    "`<PrintRandNum.py>`"
   ]
  },
  {
   "cell_type": "code",
   "execution_count": 24,
   "metadata": {},
   "outputs": [
    {
     "name": "stdout",
     "output_type": "stream",
     "text": [
      " 226.372\n",
      "  12.158\n",
      " 242.875\n",
      "   137.541\n",
      "   237.846\n",
      "   289.366\n",
      "     261.515\n",
      "      53.007\n",
      "     262.495\n"
     ]
    }
   ],
   "source": [
    "import random\n",
    "\n",
    "for i in range(3):\n",
    "    a = random.random() * 300\n",
    "    print('%8.3f' % a)\n",
    "\n",
    "for i in range(3):\n",
    "    a = random.random() * 300\n",
    "    print('%10.3f' % a)\n",
    "\n",
    "for i in range(3):\n",
    "    a = random.random() * 300\n",
    "    print('%12.3f' % a)"
   ]
  },
  {
   "cell_type": "markdown",
   "metadata": {},
   "source": [
    "If the total length is 12 but there are only 7 digits, then spaces are added at the\n",
    "beginning. Alternatively, you can pad a number with leading zeros by adding a\n",
    "zero after **`%`**."
   ]
  },
  {
   "cell_type": "code",
   "execution_count": 37,
   "metadata": {},
   "outputs": [
    {
     "data": {
      "text/plain": [
       "'0012'"
      ]
     },
     "execution_count": 37,
     "metadata": {},
     "output_type": "execute_result"
    }
   ],
   "source": [
    "'%04.0f' % 12"
   ]
  },
  {
   "cell_type": "code",
   "execution_count": 38,
   "metadata": {},
   "outputs": [
    {
     "data": {
      "text/plain": [
       "'00000012'"
      ]
     },
     "execution_count": 38,
     "metadata": {},
     "output_type": "execute_result"
    }
   ],
   "source": [
    "'%08.0f' % 12"
   ]
  },
  {
   "cell_type": "markdown",
   "metadata": {},
   "source": [
    "Or you can also use d, if there is no decimal place."
   ]
  },
  {
   "cell_type": "code",
   "execution_count": 39,
   "metadata": {},
   "outputs": [
    {
     "data": {
      "text/plain": [
       "'00000012'"
      ]
     },
     "execution_count": 39,
     "metadata": {},
     "output_type": "execute_result"
    }
   ],
   "source": [
    "'%08d' % 12"
   ]
  },
  {
   "cell_type": "code",
   "execution_count": 40,
   "metadata": {},
   "outputs": [
    {
     "data": {
      "text/plain": [
       "'00000012'"
      ]
     },
     "execution_count": 40,
     "metadata": {},
     "output_type": "execute_result"
    }
   ],
   "source": [
    "'%08d' % 12.5"
   ]
  },
  {
   "cell_type": "markdown",
   "metadata": {},
   "source": [
    "### Exercise\n",
    "1. **ID numbers**. Say, in your experiment, there are 40 subjects. Each subject is assigned an ID with the format `sub-001`, `sub-002`, ... `sub-040`. Write a program to generate their IDs and print those out."
   ]
  },
  {
   "cell_type": "markdown",
   "metadata": {},
   "source": [
    "## Formatting strings\n",
    "\n",
    "Like numbers, you can specify how many places a string can occupy. For example,"
   ]
  },
  {
   "cell_type": "code",
   "execution_count": 26,
   "metadata": {},
   "outputs": [
    {
     "name": "stdout",
     "output_type": "stream",
     "text": [
      "123456789012345678901234567890\n",
      "        Wyoming       Cheyenne\n"
     ]
    }
   ],
   "source": [
    "state = 'Wyoming'\n",
    "capital = \"Cheyenne\"\n",
    "print('123456789012345678901234567890')\n",
    "print('%15s' % state + '%15s' % capital)"
   ]
  },
  {
   "cell_type": "markdown",
   "metadata": {},
   "source": [
    "This is to show that each of these strings occupy 15 spaces. The first line is to show the location of the strings. \n",
    "\n",
    "By default, strings are printed out, right-justified. This means that a string occupies the right side of the space allocated for that string with `'%15%s'`. If you want to print a string aligned to the left, or left-justified', you can use a negative number for the allocated space (e.g., `'%-15%s'`). For example,"
   ]
  },
  {
   "cell_type": "code",
   "execution_count": 27,
   "metadata": {},
   "outputs": [
    {
     "name": "stdout",
     "output_type": "stream",
     "text": [
      "123456789012345678901234567890\n",
      "Wyoming        Cheyenne       \n"
     ]
    }
   ],
   "source": [
    "print('123456789012345678901234567890')\n",
    "print('%-15s' % state + '%-15s' % capital)"
   ]
  },
  {
   "cell_type": "markdown",
   "metadata": {},
   "source": [
    "Although 15 spaces have been allocated for each of these strings, because of the negative length, the strings are printed on the left of the allocated space."
   ]
  },
  {
   "cell_type": "markdown",
   "metadata": {},
   "source": [
    "# 5. Writing a file\n",
    "<hr style=\"height:1px;border:none\" />"
   ]
  },
  {
   "cell_type": "markdown",
   "metadata": {},
   "source": [
    "Say, if you want to write to a file 5-digit ID numbers, ranging from `00010` to\n",
    "`00025`. The process is very similar to reading a file."
   ]
  },
  {
   "cell_type": "markdown",
   "metadata": {},
   "source": [
    "[`<WriteIDs.py>`](https://github.com/sathayas/PythonClassFall2019/blob/master/fileExamples/WriteIDs.py)"
   ]
  },
  {
   "cell_type": "code",
   "execution_count": 28,
   "metadata": {},
   "outputs": [],
   "source": [
    "f = open('IDs.txt','w')\n",
    "for i in range(10,26):\n",
    "    f.write('%05d' % i + '\\n')\n",
    "    \n",
    "f.close()"
   ]
  },
  {
   "cell_type": "markdown",
   "metadata": {},
   "source": [
    "The file is opened with **`'w'`** option. This means that the file will be written. Each line of a file is written by the **`write()`** method.\n",
    "```python\n",
    "f.write('%05d' % i + '\\n')\n",
    "```\n",
    "The `write()` method writes a string inside the brackets. It is very similar to the\n",
    "`print()` function, but you have to *manually* output a new line **`\\n`**. You can\n",
    "check the content of the `IDs.txt` file.\n",
    "```\n",
    "00010\n",
    "00011\n",
    "00012\n",
    ". . .\n",
    "00024\n",
    "00025\n",
    "```\n",
    "You can also append additional data to a file with the **`'a'`** option with the\n",
    "`write()` method. For example,"
   ]
  },
  {
   "cell_type": "code",
   "execution_count": 29,
   "metadata": {},
   "outputs": [],
   "source": [
    "f = open('IDs.txt','a')\n",
    "for i in range(110,126):\n",
    "    f.write('%05d' % i + '\\n')\n",
    "    \n",
    "f.close()"
   ]
  },
  {
   "cell_type": "markdown",
   "metadata": {},
   "source": [
    "This program adds ID numbers ranging from `00110` to `00125` to the existing file\n",
    "`IDs.txt`.\n",
    "```\n",
    "00010\n",
    "00011\n",
    ". . .\n",
    "00024\n",
    "00025\n",
    "00110\n",
    "00111\n",
    "00112\n",
    ". . .\n",
    "00124\n",
    "00125\n",
    "```\n",
    "\n",
    "### Exercise\n",
    "1. **State capitals, revisited**. Earlier you wrote a program to read a data file `StateCapitalList.txt` under `TestData` directory, a list of states and their capitals. That program printed out the state capitals in the format:\n",
    "```\n",
    "Montgomery (Alabama)\n",
    "Juneau (Alaska)\n",
    "...\n",
    "Cheyenne (Wyoming)\n",
    "```\n",
    "Modify the program so that it writes to a file in the same format."
   ]
  },
  {
   "cell_type": "markdown",
   "metadata": {},
   "source": [
    "# 6. With statement\n",
    "<hr style=\"height:1px;border:none\" />"
   ]
  },
  {
   "cell_type": "markdown",
   "metadata": {},
   "source": [
    "Instead of opening and closing a file with the `open()` and `close()` methods,\n",
    "you can use a **`with`** statement to open a file, perform a necessary operation, and\n",
    "close the file. A `with` statement includes a block of code to be executed while\n",
    "the file is open. When the block is done, then the file is closed automatically.\n",
    "Here is an example."
   ]
  },
  {
   "cell_type": "markdown",
   "metadata": {},
   "source": [
    "[`<WithExample.py>`](https://github.com/sathayas/PythonClassFall2019/blob/master/fileExamples/WithExample.py)"
   ]
  },
  {
   "cell_type": "code",
   "execution_count": 43,
   "metadata": {},
   "outputs": [
    {
     "name": "stdout",
     "output_type": "stream",
     "text": [
      "State: Alabama        \tCapital: Montgomery\n",
      "State: Alaska         \tCapital: Juneau\n",
      "State: Arizona        \tCapital: Phoenix\n",
      "State: Arkansas       \tCapital: Little Rock\n",
      "State: California     \tCapital: Sacramento\n",
      "State: Colorado       \tCapital: Denver\n",
      "State: Connecticut    \tCapital: Hartford\n",
      "State: Delaware       \tCapital: Dover\n",
      "State: Florida        \tCapital: Tallahassee\n",
      "State: Georgia        \tCapital: Atlanta\n",
      "State: Hawaii         \tCapital: Honolulu\n",
      "State: Idaho          \tCapital: Boise\n",
      "State: Illinois       \tCapital: Springfield\n",
      "State: Indiana        \tCapital: Indianapolis\n",
      "State: Iowa           \tCapital: Des Moines\n",
      "State: Kansas         \tCapital: Topeka\n",
      "State: Kentucky       \tCapital: Frankfort\n",
      "State: Louisiana      \tCapital: Baton Rouge\n",
      "State: Maine          \tCapital: Augusta\n",
      "State: Maryland       \tCapital: Annapolis\n",
      "State: Massachusetts  \tCapital: Boston\n",
      "State: Michigan       \tCapital: Lansing\n",
      "State: Minnesota      \tCapital: Saint Paul\n",
      "State: Mississippi    \tCapital: Jackson\n",
      "State: Missouri       \tCapital: Jefferson City\n",
      "State: Montana        \tCapital: Helena\n",
      "State: Nebraska       \tCapital: Lincoln\n",
      "State: Nevada         \tCapital: Carson City\n",
      "State: New Hampshire  \tCapital: Concord\n",
      "State: New Jersey     \tCapital: Trenton\n",
      "State: New Mexico     \tCapital: Santa Fe\n",
      "State: New York       \tCapital: Albany\n",
      "State: North Carolina \tCapital: Raleigh\n",
      "State: North Dakota   \tCapital: Bismarck\n",
      "State: Ohio           \tCapital: Columbus\n",
      "State: Oklahoma       \tCapital: Oklahoma City\n",
      "State: Oregon         \tCapital: Salem\n",
      "State: Pennsylvania   \tCapital: Harrisburg\n",
      "State: Rhode Island   \tCapital: Providence\n",
      "State: South Carolina \tCapital: Columbia\n",
      "State: South Dakota   \tCapital: Pierre\n",
      "State: Tennessee      \tCapital: Nashville\n",
      "State: Texas          \tCapital: Austin\n",
      "State: Utah           \tCapital: Salt Lake City\n",
      "State: Vermont        \tCapital: Montpelier\n",
      "State: Virginia       \tCapital: Richmond\n",
      "State: Washington     \tCapital: Olympia\n",
      "State: West Virginia  \tCapital: Charleston\n",
      "State: Wisconsin      \tCapital: Madison\n",
      "State: Wyoming        \tCapital: Cheyenne\n"
     ]
    }
   ],
   "source": [
    "import os\n",
    "\n",
    "stateList = []\n",
    "capitalList = []\n",
    "with open(os.path.join('TestData','StateCapitalList.txt'),'r') as infile:\n",
    "    for line in infile:\n",
    "        state, capital = line.strip().split(',')\n",
    "        stateList.append(state)\n",
    "        capitalList.append(capital)\n",
    "        print('State: ' + '%-15s' % state + '\\tCapital: ' + capital)\n",
    "\n",
    "with open(os.path.join('TestData','FormatStateList.txt'),'w') as outfile:\n",
    "    for i, state in enumerate(stateList):\n",
    "        outfile.write('State: ' + '%-15s' % state + '\\tCapital: ' + capitalList[i])\n",
    "        outfile.write('\\n')"
   ]
  },
  {
   "cell_type": "markdown",
   "metadata": {},
   "source": [
    "The with statement opens a file `StateCapitalList.txt` under `TestData`\n",
    "directory and assigns the file object `infile` to this file. The file is read line by\n",
    "line using a `for` loop.\n",
    "\n",
    "Then a file `FormatStateList.txt` under `TestData` directory is opened as a file object `outfile`. Then, in a `for` loop, each state and its capital are written out."
   ]
  }
 ],
 "metadata": {
  "kernelspec": {
   "display_name": "Python 3",
   "language": "python",
   "name": "python3"
  },
  "language_info": {
   "codemirror_mode": {
    "name": "ipython",
    "version": 3
   },
   "file_extension": ".py",
   "mimetype": "text/x-python",
   "name": "python",
   "nbconvert_exporter": "python",
   "pygments_lexer": "ipython3",
   "version": "3.5.6"
  }
 },
 "nbformat": 4,
 "nbformat_minor": 2
}
