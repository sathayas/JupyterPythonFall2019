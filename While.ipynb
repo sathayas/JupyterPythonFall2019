{
 "cells": [
  {
   "cell_type": "markdown",
   "metadata": {},
   "source": [
    "<p style=\"text-align:center\">\n",
    "PSY 341K <b>Python Coding for Psychological Sciences</b>, Fall 2019\n",
    "\n",
    "<img src=\"https://github.com/sathayas/JupyterPythonFall2019/blob/master/Images/PythonLogo.png?raw=true\" alt=\"Python logo\" width=\"400\">\n",
    "</p>\n",
    "\n",
    "<h1 style=\"text-align:center\"> While loops </h1>\n",
    "\n",
    "<h4 style=\"text-align:center\"> September 10, 2019 </h4>\n",
    "<hr style=\"height:5px;border:none\" />\n",
    "<p>"
   ]
  },
  {
   "cell_type": "markdown",
   "metadata": {},
   "source": [
    "# 1. While statement basic\n",
    "<hr style=\"height:1px;border:none\" />"
   ]
  },
  {
   "cell_type": "markdown",
   "metadata": {},
   "source": [
    "During the last class, we learned about `if`, `else`, and `elif` statements. These\n",
    "statements execute a block of codes only once, depending on whether a\n",
    "condition is met. What if you want to repeat a block as long as the condition is\n",
    "met? We use a **`while`** loop for that purpose.\n",
    "\n",
    "```python\n",
    "while [Condition]:\n",
    "    [Execute something]\n",
    "```\n",
    "\n",
    "Here is an example of a while loop."
   ]
  },
  {
   "cell_type": "markdown",
   "metadata": {},
   "source": [
    "[`<YourName.py>`](https://github.com/sathayas/PythonClassFall2019/blob/master/whileExamples/YourName.py)"
   ]
  },
  {
   "cell_type": "code",
   "execution_count": 2,
   "metadata": {},
   "outputs": [
    {
     "name": "stdout",
     "output_type": "stream",
     "text": [
      "Please type your name. Satoru\n",
      "Please type your name. Hayasaka\n",
      "Please type your name. your name\n",
      "Thank you!\n"
     ]
    }
   ],
   "source": [
    "name = ''                           \n",
    "while name != 'your name':          \n",
    "    name = input('Please type your name. ')                  \n",
    "print('Thank you!')                 "
   ]
  },
  {
   "cell_type": "markdown",
   "metadata": {},
   "source": [
    "In this program, the `while` loop is repeated until you type 'your name',\n",
    "literally. Here is another example of the `while` loop."
   ]
  },
  {
   "cell_type": "markdown",
   "metadata": {},
   "source": [
    "[`<SecurityCode.py>`](https://github.com/sathayas/PythonClassFall2019/blob/master/whileExamples/SecurityCode.py)"
   ]
  },
  {
   "cell_type": "code",
   "execution_count": 1,
   "metadata": {},
   "outputs": [
    {
     "name": "stdout",
     "output_type": "stream",
     "text": [
      "Please enter the security code 1234\n",
      "Invalid security code! Try again.\n",
      "Please enter the security code 0123\n",
      "Invalid security code! Try again.\n",
      "Please enter the security code 8577\n",
      "Congrats! You entered the correct security code!\n"
     ]
    }
   ],
   "source": [
    "# the secret security code\n",
    "securityCode = '8577'\n",
    "# ask the user to enter a code\n",
    "userCode = input('Please enter the security code ')\n",
    "\n",
    "# the while loop\n",
    "while userCode != securityCode:\n",
    "\n",
    "    # invalid code was entered\n",
    "    print('Invalid security code! Try again.')\n",
    "\n",
    "    # asking the user to re-enter the code\n",
    "    userCode = input('Please enter the security code ')\n",
    "    \n",
    "# After you figure out the security code\n",
    "print('Congrats! You entered the correct security code!')"
   ]
  },
  {
   "cell_type": "markdown",
   "metadata": {},
   "source": [
    "In this program, the `while` loop is repeated as long as the entered code does\n",
    "not match the true security code."
   ]
  },
  {
   "cell_type": "markdown",
   "metadata": {},
   "source": [
    "### Exercise\n",
    "1. **Guess the number game**. Write a program that asks the user to guess a secret number (an integer between 1 and 20, chosen by you). If the entered number is greater than the secret number, then the program prints out the message \"too high\" and asks the user to guess the number again. If the entered number is smaller than the secret number, then the program prints out the message \"too low\" and asks the user to guess again. The user keeps entering a guess until the correct number is guessed. At that point, the program prints out a message \"You guessed it!\"\n",
    "\n",
    "***Hint:*** *You need an `if...else` statement inside the while loop to figure out if the entered number is too high or too low.*"
   ]
  },
  {
   "cell_type": "markdown",
   "metadata": {},
   "source": [
    "# 2. Break\n",
    "<hr style=\"height:1px;border:none\" />"
   ]
  },
  {
   "cell_type": "markdown",
   "metadata": {},
   "source": [
    "Using a **`break`** statement, you can exit a `while` loop. This is very helpful if you want to exit the `while` loop as soon as the condition is met, as opposed to doing all the rest of stuff in the `while` loop. Here is a revised version of an earlier example with a `break` statement."
   ]
  },
  {
   "cell_type": "markdown",
   "metadata": {},
   "source": [
    "[`<YourNameBreak.py>`](https://github.com/sathayas/PythonClassFall2019/blob/master/whileExamples/YourNameBreak.py)"
   ]
  },
  {
   "cell_type": "code",
   "execution_count": null,
   "metadata": {
    "collapsed": true
   },
   "outputs": [],
   "source": [
    "while True:\n",
    "    name = input('Please type your name. ')\n",
    "    if name=='your name':\n",
    "        break\n",
    "print('Thank you!')                 "
   ]
  },
  {
   "cell_type": "markdown",
   "metadata": {},
   "source": [
    "The statement **`while True:`** creates an infinite loop. That means inside the `while` loop is repeated indefinitely. A `break` statement is the only way out."
   ]
  },
  {
   "cell_type": "markdown",
   "metadata": {},
   "source": [
    "### Exercise\n",
    "\n",
    "1. **Video game arcade**. Say, you are at a video game arcade, and you have 40 tokens. Your programs asks how many tokens you want to use to play a game, and you enter a number. The entered number is subtracted from the number of tokens you have. If your newly calculated balance is 0 or greater, then the program updates the current balance and prints out how many tokens you have. Then it keeps asking how many tokens you want to use again and the process is repeated. If the balance falls below 0, then it prints out a message 'you don't have enough tokens left' and the program ends. You must use a `while` loop with a `break` statement.\n",
    "2. **Guess the number game, revisited**. Revise the \"guess the number game\" from the previous exercise with a `break` statement."
   ]
  }
 ],
 "metadata": {
  "kernelspec": {
   "display_name": "Python 3",
   "language": "python",
   "name": "python3"
  },
  "language_info": {
   "codemirror_mode": {
    "name": "ipython",
    "version": 3
   },
   "file_extension": ".py",
   "mimetype": "text/x-python",
   "name": "python",
   "nbconvert_exporter": "python",
   "pygments_lexer": "ipython3",
   "version": "3.6.5"
  }
 },
 "nbformat": 4,
 "nbformat_minor": 2
}
