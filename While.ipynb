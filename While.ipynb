{
 "cells": [
  {
   "cell_type": "markdown",
   "metadata": {},
   "source": [
    "<p style=\"text-align:center\">\n",
    "PSY 341K <b>Python Coding for Psychological Sciences</b>, Fall 2018\n",
    "\n",
    "<img src=\"https://www.python.org/static/community_logos/python-logo-master-v3-TM.png\" alt=\"Python logo\" width=\"200\">\n",
    "</p>\n",
    "\n",
    "<h1 style=\"text-align:center\"> While loops </h1>\n",
    "\n",
    "<h4 style=\"text-align:center\"> September 11, 2018 </h4>\n",
    "<hr style=\"height:5px;border:none\" />\n",
    "<p>"
   ]
  },
  {
   "cell_type": "markdown",
   "metadata": {},
   "source": [
    "# 1. While statement basic\n",
    "<hr style=\"height:1px;border:none\" />"
   ]
  },
  {
   "cell_type": "markdown",
   "metadata": {},
   "source": [
    "During the last class, we learned about `if`, `else`, and `elif` statements. These\n",
    "statements execute a block of codes only once, depending on whether a\n",
    "condition is met. What if you want to repeat a block as long as the condition is\n",
    "met? We use a **`while`** loop for that purpose.\n",
    "\n",
    "```python\n",
    "while [Condition]:\n",
    "    [Execute something]\n",
    "```\n",
    "\n",
    "Here is an example of a while loop."
   ]
  },
  {
   "cell_type": "markdown",
   "metadata": {},
   "source": [
    "`<YourName.py>`"
   ]
  },
  {
   "cell_type": "code",
   "execution_count": 1,
   "metadata": {},
   "outputs": [
    {
     "name": "stdout",
     "output_type": "stream",
     "text": [
      "Please type your name. hayasaka\n",
      "Please type your name. satoru\n",
      "Please type your name. your name\n",
      "Thank you!\n"
     ]
    }
   ],
   "source": [
    "name = ''                           \n",
    "while name != 'your name':          \n",
    "    name = input('Please type your name. ')                  \n",
    "print('Thank you!')                 "
   ]
  },
  {
   "cell_type": "markdown",
   "metadata": {},
   "source": [
    "In this program, the `while` loop is repeated until you type 'your name',\n",
    "literally. Here is another example of the `while` loop."
   ]
  },
  {
   "cell_type": "markdown",
   "metadata": {},
   "source": [
    "`<SecurityCode.py>`"
   ]
  },
  {
   "cell_type": "code",
   "execution_count": 2,
   "metadata": {},
   "outputs": [
    {
     "name": "stdout",
     "output_type": "stream",
     "text": [
      "Please enter the security code 1234\n",
      "That is not a secure security code!\n",
      "Please enter the security code 2468\n",
      "Invalid security code! Try again.\n",
      "Please enter the security code 8577\n",
      "Congrats! You entered the correct security code!\n"
     ]
    }
   ],
   "source": [
    "# the secret security code\n",
    "securityCode = '8577'\n",
    "# ask the user to enter a code\n",
    "userCode = input('Please enter the security code ')\n",
    "\n",
    "# the while loop\n",
    "while userCode != securityCode:\n",
    "\n",
    "    # printing out a message depending on the entered code\n",
    "    if userCode == '1234' or userCode == '9999':\n",
    "        print('That is not a secure security code!')\n",
    "    else:\n",
    "        print('Invalid security code! Try again.')\n",
    "\n",
    "    # asking the user to re-enter the code\n",
    "    userCode = input('Please enter the security code ')\n",
    "    \n",
    "# After you figure out the security code\n",
    "print('Congrats! You entered the correct security code!')"
   ]
  },
  {
   "cell_type": "markdown",
   "metadata": {},
   "source": [
    "In this program, the `while` loop is repeated as long as the entered code does\n",
    "not match the true security code."
   ]
  },
  {
   "cell_type": "markdown",
   "metadata": {},
   "source": [
    "### Exercise\n",
    "1. **Guess the number game**. Write a program that asks the user to guess a secret number (an integer between 1 and 20). If the entered number is greater than the secret number (of your choice, integer between 1 and 20), then the program prints out the message \"too high\" and asks the user to guess the number again. If the entered number is smaller than the secret number, then the program prints out the message \"too low\" and asks the user to guess again. The user keeps entering a guess until the correct number is guessed. At that point, the program prints out a message \"You guessed it!\""
   ]
  },
  {
   "cell_type": "markdown",
   "metadata": {},
   "source": [
    "# 2. Break\n",
    "<hr style=\"height:1px;border:none\" />"
   ]
  },
  {
   "cell_type": "markdown",
   "metadata": {},
   "source": [
    "Using a **`break`** statement, you can exit a `while` loop. This is very helpful if you want to exit the `while` loop as soon as the condition is met, as opposed to doing all the rest of stuff in the `while` loop. Here is a revised version of an earlier example with a `break` statement."
   ]
  },
  {
   "cell_type": "markdown",
   "metadata": {},
   "source": [
    "`<YourNameBreak.py>`"
   ]
  },
  {
   "cell_type": "code",
   "execution_count": null,
   "metadata": {
    "collapsed": true
   },
   "outputs": [],
   "source": [
    "while True:\n",
    "    name = input('Please type your name. ')\n",
    "    if name=='your name':\n",
    "        break\n",
    "print('Thank you!')                 "
   ]
  },
  {
   "cell_type": "markdown",
   "metadata": {},
   "source": [
    "The statement **`while True:`** creates an infinite loop. That means inside the `while` loop is repeated indefinitely. A `break` statement is the only way out."
   ]
  },
  {
   "cell_type": "markdown",
   "metadata": {},
   "source": [
    "### Exercise\n",
    "1. **Guess the number game, revisited**. Rewrite the program from the earlier exercise (Guess the number game) with a `break` statement inside a `while` loop.\n",
    "2. **Cumulative exposure log**. At a certain chemical plant, workers have to record their weekly exposure level to a certain radioactive chemical. If the cumulative exposure dose exceeds 150 units, then workers need to be re-assigned to another plant to avoid further exposure. Write a program to ask a worker to enter the exposure dose for that week. The entered dose is added to the cumulative dose. The program keeps asking the worker to enter the weekly dose, until the cumulative dose exceeds 150. At that point, the program prints out a message \"Exposure limite exceeded.\" Use a `while` loop and a `break` statement."
   ]
  },
  {
   "cell_type": "markdown",
   "metadata": {},
   "source": [
    "# 3. Continue\n",
    "<hr style=\"height:1px;border:none\" />"
   ]
  },
  {
   "cell_type": "markdown",
   "metadata": {},
   "source": [
    "Using a **`continue`** statement, we can go back to the beginning of the `while` loop.\n",
    "Here is an example of a continue statement."
   ]
  },
  {
   "cell_type": "markdown",
   "metadata": {},
   "source": [
    "`<ContinueExample.py>`"
   ]
  },
  {
   "cell_type": "code",
   "execution_count": null,
   "metadata": {},
   "outputs": [],
   "source": [
    "while True:\n",
    "  print('Who are you?')\n",
    "  name = input()\n",
    "  if name != 'Joe':\n",
    "    continue\n",
    "  print('Hello, Joe. What is the password? (It is a fish.)') \n",
    "  password = input()\n",
    "  if password == 'swordfish':\n",
    "    break\n",
    "print('Access granted.')"
   ]
  },
  {
   "cell_type": "markdown",
   "metadata": {},
   "source": [
    "In this program, if the name is not Joe, then the `while` loop re-starts with a\n",
    "`continue` statement. If the name is Joe, then the program asks for a password."
   ]
  },
  {
   "cell_type": "markdown",
   "metadata": {},
   "source": [
    "### Exercise\n",
    "1. **Guess the number game, revisited again**. Re-write the revised guess the number game again. This time, you do not have to give a feedback \"too high\" or \"too low\", but use a **`continue`** statement to go back to the beginning of the `while` loop. If the correct number is entered, the program prints out the number of attempts until the correct entry and gets out of the `while` loop using a `break` statement."
   ]
  }
 ],
 "metadata": {
  "kernelspec": {
   "display_name": "Python 3",
   "language": "python",
   "name": "python3"
  },
  "language_info": {
   "codemirror_mode": {
    "name": "ipython",
    "version": 3
   },
   "file_extension": ".py",
   "mimetype": "text/x-python",
   "name": "python",
   "nbconvert_exporter": "python",
   "pygments_lexer": "ipython3",
   "version": "3.5.5"
  }
 },
 "nbformat": 4,
 "nbformat_minor": 2
}
