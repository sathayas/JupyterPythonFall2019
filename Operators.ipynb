{
 "cells": [
  {
   "cell_type": "markdown",
   "metadata": {},
   "source": [
    "<p style=\"text-align:center\">\n",
    "PSY 341K <b>Python Coding for Psychological Sciences</b>, Fall 2019\n",
    "\n",
    "<img src=\"https://github.com/sathayas/JupyterPythonFall2019/blob/master/Images/PythonLogo.png?raw=true\" alt=\"Python logo\" width=\"400\">\n",
    "</p>\n",
    "\n",
    "<h1 style=\"text-align:center\"> Hello World & operators </h1>\n",
    "\n",
    "<h4 style=\"text-align:center\"> September 3, 2019 </h4>\n",
    "<hr style=\"height:5px;border:none\" />\n",
    "<p>"
   ]
  },
  {
   "cell_type": "markdown",
   "metadata": {},
   "source": [
    "# 1. Hello World\n",
    "<hr style=\"height:1px;border:none\" />\n",
    "\n",
    "## Typing a command\n",
    "\n",
    "Now let’s play with Python a little bit. Start Python (or Jupyter notebook, if you prefer). In the Python shell window, you should see a prompt ``>>>``. You can type in a command (or one line of program) at the prompt. Try this:"
   ]
  },
  {
   "cell_type": "code",
   "execution_count": null,
   "metadata": {},
   "outputs": [],
   "source": [
    "print('Hello World')"
   ]
  },
  {
   "cell_type": "markdown",
   "metadata": {},
   "source": [
    "And hit the enter key. What happens next? The **`print`** command prints out\n",
    "inside the brackets **`()`**.\n",
    "\n",
    "### Exercise\n",
    "1. Change the word **`World`** to your name in the print command above, and run it. What happens next?\n",
    "2. Change the single quotation marks (**`'`**) to double quotation marks (**`\"`**). Does the command still run?\n",
    "3. Drop the quotation marks from the command. Does it still run?\n",
    "\n",
    "You may have seen your first error message:\n",
    "\n",
    "**`SyntaxError: invalid syntax`**\n",
    "\n",
    "This means the command you typed in does not conform to the standard syntax\n",
    "of Python. In other words, your command was grammatically incorrect\n",
    "(figuratively speaking). When we encounter an error (a.k.a., bug), we debug the\n",
    "problem."
   ]
  },
  {
   "cell_type": "markdown",
   "metadata": {},
   "source": [
    "## Writing a program\n",
    "\n",
    "So far, we’ve run a few commands. But let’s say you want to do something\n",
    "slightly more complicated. Open the program editor (or Jupyter notebook). In the editor, type this simple program:"
   ]
  },
  {
   "cell_type": "markdown",
   "metadata": {},
   "source": [
    "[`<HelloWorld.py>`](https://github.com/sathayas/PythonClassFall2019/blob/master/operatorExamples/HelloWorld.py)"
   ]
  },
  {
   "cell_type": "code",
   "execution_count": null,
   "metadata": {},
   "outputs": [],
   "source": [
    "print(\"Hello World!\")\n",
    "yourname = 'Satoru'\n",
    "print(\"Hello, \" + yourname + \"!!\")"
   ]
  },
  {
   "cell_type": "markdown",
   "metadata": {},
   "source": [
    "After you are done, you can run the program. Depending on your which Python editor / shell you use, you may need to figure out how to run your code. After running the program, what output do you see?\n",
    "\n",
    "One benefit of writing a program is that you don’t have to re-type everything. All\n",
    "you need to do is to change the part you want to modify.\n",
    "\n",
    "### Exercise\n",
    "1. Change the variable **`yourname`** to your last name. Then run the program again.\n",
    "2. Change the variable **`yourname`** to your full name. Then run the program again."
   ]
  },
  {
   "cell_type": "markdown",
   "metadata": {},
   "source": [
    "# 2. Math operators\n",
    "<hr style=\"height:1px;border:none\" />\n",
    "\n",
    "In your Python shell, try typing the following."
   ]
  },
  {
   "cell_type": "code",
   "execution_count": 2,
   "metadata": {},
   "outputs": [
    {
     "data": {
      "text/plain": [
       "4"
      ]
     },
     "execution_count": 2,
     "metadata": {},
     "output_type": "execute_result"
    }
   ],
   "source": [
    "2 + 2"
   ]
  },
  {
   "cell_type": "markdown",
   "metadata": {},
   "source": [
    "This is a simple example of expression. An expression is an instruction\n",
    "consisting of numbers (e.g., 2) and mathematical **operators** (e.g. +). Any space in\n",
    "an expression is ignored. So you can get the same results by typing:"
   ]
  },
  {
   "cell_type": "code",
   "execution_count": null,
   "metadata": {},
   "outputs": [],
   "source": [
    "2+2"
   ]
  },
  {
   "cell_type": "code",
   "execution_count": null,
   "metadata": {},
   "outputs": [],
   "source": [
    "2 + 2"
   ]
  },
  {
   "cell_type": "code",
   "execution_count": null,
   "metadata": {},
   "outputs": [],
   "source": [
    "2+   2"
   ]
  },
  {
   "cell_type": "markdown",
   "metadata": {},
   "source": [
    "I usually put a space between a number and an operator, for the sake of\n",
    "readability later. But that’s up to your personal preference.\n",
    "There are other basic mathematical operators as well. The ones you may use\n",
    "are:\n",
    "  * **Addition (`+`):**\n",
    "  * **Subtraction (`-`):**\n",
    "  * **Multiplication (`*`):**\n",
    "  * **Integer division** (returns the answer in an integer, or a whole number) **(`//`):**\n",
    "  * **Division (`/`):**\n",
    "  * **Exponent (`**`):**\n",
    "  \n",
    "You can use multiple operators in a single expression. If you do so, some\n",
    "operators will be calculated before others. The order is very similar to a typical\n",
    "mathematical expression. Here is the order:\n",
    "\n",
    "  * Parentheses `( )`\n",
    "  * Exponent (`**`)\n",
    "  * Division (`/`, `//`) and multiplication (`*`)\n",
    "  * Addition (`+`) and subtraction (`-`)"
   ]
  },
  {
   "cell_type": "markdown",
   "metadata": {},
   "source": [
    "## Application\n",
    "Now consider the following scenario. You bought lunch for 3 of your friends and\n",
    "yourself. Each person had a sandwich (\\$6.50) and a soda (\\$1.50). How much in\n",
    "total did you pay?\n",
    "\n",
    "In this scenario, you pay \\$6.50 + \\$1.50 per person. Since there are 4 of you, you\n",
    "paid"
   ]
  },
  {
   "cell_type": "code",
   "execution_count": 3,
   "metadata": {},
   "outputs": [
    {
     "data": {
      "text/plain": [
       "32.0"
      ]
     },
     "execution_count": 3,
     "metadata": {},
     "output_type": "execute_result"
    }
   ],
   "source": [
    "(6.50 + 1.50) * 4"
   ]
  },
  {
   "cell_type": "markdown",
   "metadata": {},
   "source": [
    "On the following day, you bought lunch for 2 of your friends and yourself. Each\n",
    "person had a slice of pizza (\\$3.00) and a bottled water (\\$1.25). How much in\n",
    "total did you pay for lunch for both days?"
   ]
  },
  {
   "cell_type": "code",
   "execution_count": 4,
   "metadata": {},
   "outputs": [
    {
     "data": {
      "text/plain": [
       "44.75"
      ]
     },
     "execution_count": 4,
     "metadata": {},
     "output_type": "execute_result"
    }
   ],
   "source": [
    "(6.50 + 1.50) * 4 + (3.00 + 1.25) * 3"
   ]
  },
  {
   "cell_type": "markdown",
   "metadata": {},
   "source": [
    "### Exercise\n",
    "\n",
    "1. **Temperature conversion, F to C**. A temperature in Fahrenheit (F) can be converted to Celsius (C) by this formula:\n",
    "$$C = (F – 32) \\times 5/9$$\n",
    "If the temperature outside is 92F, what is the temperature in Celsius?\n",
    "2. One British pound is equal to US\\$1.21. If you have a 20-pound bill, how much is it in US\\$?\n",
    "3. The cargo space of a moving truck is 6 ft wide, 12 ft long, and 8 ft tall. How much cargo can you fit it in this truck, in terms of cubic feet?\n"
   ]
  },
  {
   "cell_type": "markdown",
   "metadata": {},
   "source": [
    "# 3. String operators\n",
    "<hr style=\"height:1px;border:none\" />\n",
    "\n",
    "In addition to numerical data, Python can also handle text data, also known as\n",
    "strings. A string is a series of characters (including space), and often denoted\n",
    "with quotation marks (`'` or `\"`). These are examples of strings:\n",
    "```python\n",
    "'a', 'AA', 'Aaaargh!', 'Hello World!', '24', '24 x 7'\n",
    "```\n",
    "\n",
    "You can concatenate two strings with `+`. For example,"
   ]
  },
  {
   "cell_type": "code",
   "execution_count": 5,
   "metadata": {},
   "outputs": [
    {
     "data": {
      "text/plain": [
       "'SatoruHayasaka'"
      ]
     },
     "execution_count": 5,
     "metadata": {},
     "output_type": "execute_result"
    }
   ],
   "source": [
    "'Satoru' + 'Hayasaka'"
   ]
  },
  {
   "cell_type": "code",
   "execution_count": 6,
   "metadata": {},
   "outputs": [
    {
     "data": {
      "text/plain": [
       "'Maroon5'"
      ]
     },
     "execution_count": 6,
     "metadata": {},
     "output_type": "execute_result"
    }
   ],
   "source": [
    "'Maroon' + '5'"
   ]
  },
  {
   "cell_type": "markdown",
   "metadata": {},
   "source": [
    "You can put a space between two strings to make it more readable."
   ]
  },
  {
   "cell_type": "code",
   "execution_count": 7,
   "metadata": {},
   "outputs": [
    {
     "data": {
      "text/plain": [
       "'Satoru Hayasaka'"
      ]
     },
     "execution_count": 7,
     "metadata": {},
     "output_type": "execute_result"
    }
   ],
   "source": [
    "'Satoru' + ' Hayasaka'"
   ]
  },
  {
   "cell_type": "markdown",
   "metadata": {},
   "source": [
    "You can also repeat string data with `*`. For example,"
   ]
  },
  {
   "cell_type": "code",
   "execution_count": 8,
   "metadata": {},
   "outputs": [
    {
     "data": {
      "text/plain": [
       "'Yuck! Yuck! Yuck! Yuck! Yuck! '"
      ]
     },
     "execution_count": 8,
     "metadata": {},
     "output_type": "execute_result"
    }
   ],
   "source": [
    "'Yuck! ' * 5"
   ]
  },
  {
   "cell_type": "markdown",
   "metadata": {},
   "source": [
    "# 4. Variables\n",
    "<hr style=\"height:1px;border:none\" />\n",
    "\n",
    "When you write a program, it is easier to store your numerical and string data to\n",
    "variables. A variable can be considered as a box where you store your data. For\n",
    "example,"
   ]
  },
  {
   "cell_type": "code",
   "execution_count": 9,
   "metadata": {},
   "outputs": [],
   "source": [
    "age = 23"
   ]
  },
  {
   "cell_type": "markdown",
   "metadata": {},
   "source": [
    "This statement puts 23 into a variable called **`age`**. If you type the variable name, then you can see what's in it."
   ]
  },
  {
   "cell_type": "code",
   "execution_count": 10,
   "metadata": {},
   "outputs": [
    {
     "data": {
      "text/plain": [
       "23"
      ]
     },
     "execution_count": 10,
     "metadata": {},
     "output_type": "execute_result"
    }
   ],
   "source": [
    "age"
   ]
  },
  {
   "cell_type": "markdown",
   "metadata": {},
   "source": [
    "You can store a string into a variable. For example, in the variable called name,"
   ]
  },
  {
   "cell_type": "code",
   "execution_count": 11,
   "metadata": {},
   "outputs": [],
   "source": [
    "name = 'Hayasaka'"
   ]
  },
  {
   "cell_type": "code",
   "execution_count": 12,
   "metadata": {},
   "outputs": [
    {
     "data": {
      "text/plain": [
       "'Hayasaka'"
      ]
     },
     "execution_count": 12,
     "metadata": {},
     "output_type": "execute_result"
    }
   ],
   "source": [
    "name"
   ]
  },
  {
   "cell_type": "markdown",
   "metadata": {},
   "source": [
    "You can use variables in numerical and string operations. For example,"
   ]
  },
  {
   "cell_type": "code",
   "execution_count": 13,
   "metadata": {},
   "outputs": [
    {
     "data": {
      "text/plain": [
       "28"
      ]
     },
     "execution_count": 13,
     "metadata": {},
     "output_type": "execute_result"
    }
   ],
   "source": [
    "age + 5"
   ]
  },
  {
   "cell_type": "code",
   "execution_count": 14,
   "metadata": {},
   "outputs": [
    {
     "data": {
      "text/plain": [
       "'My name is Hayasaka'"
      ]
     },
     "execution_count": 14,
     "metadata": {},
     "output_type": "execute_result"
    }
   ],
   "source": [
    "'My name is ' + name"
   ]
  },
  {
   "cell_type": "markdown",
   "metadata": {},
   "source": [
    "The value of the variable remains the same, until you replace it with something\n",
    "else."
   ]
  },
  {
   "cell_type": "code",
   "execution_count": 15,
   "metadata": {},
   "outputs": [
    {
     "data": {
      "text/plain": [
       "35"
      ]
     },
     "execution_count": 15,
     "metadata": {},
     "output_type": "execute_result"
    }
   ],
   "source": [
    "age = 35\n",
    "age"
   ]
  },
  {
   "cell_type": "code",
   "execution_count": 16,
   "metadata": {},
   "outputs": [
    {
     "data": {
      "text/plain": [
       "'John Doe'"
      ]
     },
     "execution_count": 16,
     "metadata": {},
     "output_type": "execute_result"
    }
   ],
   "source": [
    "name = 'John Doe'\n",
    "name"
   ]
  },
  {
   "cell_type": "markdown",
   "metadata": {},
   "source": [
    "A variable is created when you assign a value to that variable using **`=`** (i.e., a single equal sign). You can\n",
    "name the variable any way you want. But there are certain rules you need to\n",
    "follow.\n",
    "  1. Variable names can contain only alphabets, numbers, and underscore (`_`).\n",
    "  2. Variable names cannot start with a number.\n",
    "  3. Variable names cannot contain a space\n",
    "  4. Variable names are case sensitive. For example, **`Name`** and **`name`** are two different variables.\n",
    "  5. You cannot use certain keywords reserved for Python.\n",
    "  "
   ]
  },
  {
   "cell_type": "markdown",
   "metadata": {},
   "source": [
    "|        |      |       |      |        |\n",
    "|:--:    |:--:  |:--:   |:--:  |:--:    |\n",
    "|and     |del   |finally|in    |print   |\n",
    "|assert  |elif  |for    |is    |raise   |\n",
    "|break   |else  |from   |lambda|return  |\n",
    "|class   |except|global |not   |try     |\n",
    "|continue|exec  |if     |or    |True    |\n",
    "|def     |False |import |pass  |while   |\n",
    "|        |      |       |      |yield   |\n",
    "|        |      |       |      |        |"
   ]
  },
  {
   "cell_type": "markdown",
   "metadata": {},
   "source": [
    "Here are some guidelines when you name variables.\n",
    "  1. Be descriptive.\n",
    "       - If your variable name is **`data1`**, then it is hard to figure out what is stored.\n",
    "  2. Use lower case with underscores or camel case\n",
    "       - **`max_response_time`** (lower case with underscore)\n",
    "       - **`maxResponseTime`** (camel case)\n",
    "  3. Avoid using \"`I`\" (upper case i), \"`l`\" (lower case L), or \"`O`\" (upper case o) alone."
   ]
  },
  {
   "cell_type": "markdown",
   "metadata": {},
   "source": [
    "### Exercise\n",
    "Which of these variable names are valid?\n",
    "\n",
    "|          |         |           |                 |\n",
    "|:--:      |:--:     |:--:       |:--:             |\n",
    "|two       |old_name |2step      |mystery_number_55|\n",
    "|height    |@height  |MXDCGR     |SF36_score       |\n",
    "|SF36-score|US`$`    |`%`increase| myName          |"
   ]
  },
  {
   "cell_type": "markdown",
   "metadata": {},
   "source": [
    "# 5. Applications\n",
    "<hr style=\"height:1px;border:none\" />\n",
    "\n",
    "## Temperature Conversion\n",
    "Now let’s try using what we learned today in a program. Here is a program that\n",
    "converts a temperature in Fahrenheit to Celsius."
   ]
  },
  {
   "cell_type": "markdown",
   "metadata": {},
   "source": [
    "[`<F2C.py>`](https://github.com/sathayas/PythonClassFall2019/blob/master/operatorExamples/F2C.py)"
   ]
  },
  {
   "cell_type": "code",
   "execution_count": 18,
   "metadata": {},
   "outputs": [
    {
     "name": "stdout",
     "output_type": "stream",
     "text": [
      "What is the temperature [F]? 92\n",
      "The temperature is 33.333333333333336 Celsius.\n"
     ]
    }
   ],
   "source": [
    "# input of temperature in Fahrenheit\n",
    "tempF = int(input('What is the temperature [F]? '))\n",
    "# the formula for conversion\n",
    "tempC = (tempF - 32) * 5 / 9\n",
    "# the output\n",
    "print('The temperature is ' + str(tempC) + ' Celsius.')"
   ]
  },
  {
   "cell_type": "markdown",
   "metadata": {},
   "source": [
    "In the program, the lines preceded with **`#`** are omitted by the Python shell. These\n",
    "lines are used to **comment** on the program. These comments are good reminders\n",
    "of what the program is doing, when you re-open the program later.\n",
    "This program asks the user what the temperature is in Fahrenheit. Then converts\n",
    "it to Celsius, and prints it out.\n",
    "\n",
    "Here are things to note in this program:\n",
    "* Anything you enter with **`input()`** is treated as a string, even if it is a number.\n",
    "* We use the **`int()`** function, in addition to the `input()` function, to convert a string to a number.\n",
    "* The variable **`tempC`** is a number. To concatenate this number to a string, you have to use **`str()`** function, which converts a number to a string.\n",
    "\n",
    "***Side note***: When you print a float (or a non-integer number) in Python, you may see many decimal places, as you can see in the earlier example. For a cleaner output with a small number of decimal places, you can run this **`print`** statement instead."
   ]
  },
  {
   "cell_type": "code",
   "execution_count": 19,
   "metadata": {},
   "outputs": [
    {
     "name": "stdout",
     "output_type": "stream",
     "text": [
      "The temperature is  33.3 Celsius\n"
     ]
    }
   ],
   "source": [
    "print('The temperature is %5.1f Celsius' % tempC)"
   ]
  },
  {
   "cell_type": "markdown",
   "metadata": {},
   "source": [
    "We will cover details on how to format print-outs of numbers later in the semester."
   ]
  },
  {
   "cell_type": "markdown",
   "metadata": {},
   "source": [
    "## Burritos\n",
    "Now let’s try another program. This program asks the user how much money is in\n",
    "the wallet and how much a burrito is, then calculates how many burritos he or\n",
    "she can buy."
   ]
  },
  {
   "cell_type": "markdown",
   "metadata": {},
   "source": [
    "[`<Burrito.py>`](https://github.com/sathayas/PythonClassFall2019/blob/master/operatorExamples/Burrito.py)"
   ]
  },
  {
   "cell_type": "code",
   "execution_count": 21,
   "metadata": {},
   "outputs": [
    {
     "name": "stdout",
     "output_type": "stream",
     "text": [
      "How much money do you have?28\n",
      "How much is a burito?7.25\n",
      "You can buy 3 burito\n"
     ]
    }
   ],
   "source": [
    "wallet = float(input('How much money do you have?'))\n",
    "burito = float(input('How much is a burito?'))\n",
    "numBurito = wallet // burito\n",
    "print('You can buy ' + str(int(numBurito)) + ' burito')"
   ]
  },
  {
   "cell_type": "markdown",
   "metadata": {},
   "source": [
    "One thing to note here is that, the price of a burrito is likely a float, not an integer\n",
    "or a whole number. Also, there may be some change in the wallet, thus the\n",
    "money in the wallet may not be a whole number. So we need to use the\n",
    "**`float()`** function to convert the input into a float."
   ]
  },
  {
   "cell_type": "markdown",
   "metadata": {},
   "source": [
    "### Exercise\n",
    "1. **How far can you go**. Write a program to ask the user to enter the amount of gas in his/her car (in gallons). Then this program calculates how far the user can drive, assuming that the user's car can travel 25 miles per gallon.\n",
    "2. **A word, repeated 5 times**. Write a program to ask the user to enter a word (as a string). Then the program prints out a the word repeated 5 times:\n",
    "\n",
    "    e.g. \n",
    "    * If `'quack'` is entered, then `'quack quack quack quack quack'` is printed.\n",
    "    \n",
    "  *Notice that there is a space between two words, but not before the first word or after the last word.*"
   ]
  }
 ],
 "metadata": {
  "kernelspec": {
   "display_name": "Python 3",
   "language": "python",
   "name": "python3"
  },
  "language_info": {
   "codemirror_mode": {
    "name": "ipython",
    "version": 3
   },
   "file_extension": ".py",
   "mimetype": "text/x-python",
   "name": "python",
   "nbconvert_exporter": "python",
   "pygments_lexer": "ipython3",
   "version": "3.6.5"
  }
 },
 "nbformat": 4,
 "nbformat_minor": 2
}
