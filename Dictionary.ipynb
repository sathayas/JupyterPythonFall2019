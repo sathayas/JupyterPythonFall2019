{
 "cells": [
  {
   "cell_type": "markdown",
   "metadata": {},
   "source": [
    "<p style=\"text-align:center\">\n",
    "PSY 341K <b>Python Coding for Psychological Sciences</b>, Fall 2018\n",
    "\n",
    "<img src=\"https://www.python.org/static/community_logos/python-logo-master-v3-TM.png\" alt=\"Python logo\" width=\"200\">\n",
    "</p>\n",
    "\n",
    "<h1 style=\"text-align:center\"> Dictionaries </h1>\n",
    "\n",
    "<h4 style=\"text-align:center\"> October 4, 2018 </h4>\n",
    "<hr style=\"height:5px;border:none\" />\n",
    "<p>"
   ]
  },
  {
   "cell_type": "markdown",
   "metadata": {},
   "source": [
    "# 1. What is a dictionary?\n",
    "<hr style=\"height:1px;border:none\" />"
   ]
  },
  {
   "cell_type": "markdown",
   "metadata": {},
   "source": [
    "A **dictionary** is like a list. But unlike a list whose items are indexed by a number, we can refer items in a dictionary with **keys**. Here is an example of a dictionary."
   ]
  },
  {
   "cell_type": "code",
   "execution_count": 1,
   "metadata": {
    "collapsed": true
   },
   "outputs": [],
   "source": [
    "dinner = { 'salad':'cobb', 'entree':'mahi mahi', 'dessert':'ice cream'}"
   ]
  },
  {
   "cell_type": "markdown",
   "metadata": {},
   "source": [
    "Each item is a pair of a **key** and a **value**, separated by a colon (`:`). Items are separated by commas (`,`) like a list. And the entire dictionary is contained in braces `{}`. \n",
    "\n",
    "The dictionary dinner has keys `'salad'`, `'entree'`, and `'dessert'`. The corresponding values are `'cobb`', `'mahi mahi'`, and `'ice cream'`, respectively. \n",
    "\n",
    "You can refer an item by its key. For example,"
   ]
  },
  {
   "cell_type": "code",
   "execution_count": 2,
   "metadata": {},
   "outputs": [
    {
     "data": {
      "text/plain": [
       "'cobb'"
      ]
     },
     "execution_count": 2,
     "metadata": {},
     "output_type": "execute_result"
    }
   ],
   "source": [
    "dinner['salad']"
   ]
  },
  {
   "cell_type": "code",
   "execution_count": 3,
   "metadata": {},
   "outputs": [
    {
     "data": {
      "text/plain": [
       "'mahi mahi'"
      ]
     },
     "execution_count": 3,
     "metadata": {},
     "output_type": "execute_result"
    }
   ],
   "source": [
    "dinner['entree']"
   ]
  },
  {
   "cell_type": "markdown",
   "metadata": {},
   "source": [
    "But you cannot refer them by indices."
   ]
  },
  {
   "cell_type": "code",
   "execution_count": 4,
   "metadata": {},
   "outputs": [
    {
     "ename": "KeyError",
     "evalue": "0",
     "output_type": "error",
     "traceback": [
      "\u001b[0;31m---------------------------------------------------------------------------\u001b[0m",
      "\u001b[0;31mKeyError\u001b[0m                                  Traceback (most recent call last)",
      "\u001b[0;32m<ipython-input-4-7be8cc8bb61e>\u001b[0m in \u001b[0;36m<module>\u001b[0;34m()\u001b[0m\n\u001b[0;32m----> 1\u001b[0;31m \u001b[0mdinner\u001b[0m\u001b[0;34m[\u001b[0m\u001b[0;36m0\u001b[0m\u001b[0;34m]\u001b[0m\u001b[0;34m\u001b[0m\u001b[0m\n\u001b[0m",
      "\u001b[0;31mKeyError\u001b[0m: 0"
     ]
    }
   ],
   "source": [
    "dinner[0]"
   ]
  },
  {
   "cell_type": "markdown",
   "metadata": {},
   "source": [
    "You can have numbers as keys."
   ]
  },
  {
   "cell_type": "code",
   "execution_count": 5,
   "metadata": {
    "collapsed": true
   },
   "outputs": [],
   "source": [
    "special = {1:'hot dog', 2:'bacon', 3:'tacos'}"
   ]
  },
  {
   "cell_type": "code",
   "execution_count": 6,
   "metadata": {},
   "outputs": [
    {
     "data": {
      "text/plain": [
       "'bacon'"
      ]
     },
     "execution_count": 6,
     "metadata": {},
     "output_type": "execute_result"
    }
   ],
   "source": [
    "special[2]"
   ]
  },
  {
   "cell_type": "markdown",
   "metadata": {},
   "source": [
    "But you can't slice a dictionary like a list."
   ]
  },
  {
   "cell_type": "code",
   "execution_count": 7,
   "metadata": {},
   "outputs": [
    {
     "ename": "TypeError",
     "evalue": "unhashable type: 'slice'",
     "output_type": "error",
     "traceback": [
      "\u001b[0;31m---------------------------------------------------------------------------\u001b[0m",
      "\u001b[0;31mTypeError\u001b[0m                                 Traceback (most recent call last)",
      "\u001b[0;32m<ipython-input-7-3faa2644c2ab>\u001b[0m in \u001b[0;36m<module>\u001b[0;34m()\u001b[0m\n\u001b[0;32m----> 1\u001b[0;31m \u001b[0mspecial\u001b[0m\u001b[0;34m[\u001b[0m\u001b[0;36m1\u001b[0m\u001b[0;34m:\u001b[0m\u001b[0;36m3\u001b[0m\u001b[0;34m]\u001b[0m\u001b[0;34m\u001b[0m\u001b[0m\n\u001b[0m",
      "\u001b[0;31mTypeError\u001b[0m: unhashable type: 'slice'"
     ]
    }
   ],
   "source": [
    "special[1:3]"
   ]
  },
  {
   "cell_type": "markdown",
   "metadata": {},
   "source": [
    "You can add an item to a dictionary by specifying a new key. For example,"
   ]
  },
  {
   "cell_type": "code",
   "execution_count": 8,
   "metadata": {},
   "outputs": [
    {
     "data": {
      "text/plain": [
       "{'dessert': 'ice cream',\n",
       " 'entree': 'mahi mahi',\n",
       " 'salad': 'cobb',\n",
       " 'soup': 'chowder'}"
      ]
     },
     "execution_count": 8,
     "metadata": {},
     "output_type": "execute_result"
    }
   ],
   "source": [
    "dinner['soup'] = 'chowder'\n",
    "dinner"
   ]
  },
  {
   "cell_type": "code",
   "execution_count": 9,
   "metadata": {},
   "outputs": [
    {
     "data": {
      "text/plain": [
       "{1: 'hot dog', 2: 'bacon', 3: 'tacos', 4: 'chili'}"
      ]
     },
     "execution_count": 9,
     "metadata": {},
     "output_type": "execute_result"
    }
   ],
   "source": [
    "special[4] = 'chili'\n",
    "special"
   ]
  },
  {
   "cell_type": "markdown",
   "metadata": {},
   "source": [
    "Finally, you can delete an item from a dictionary using a **`del`** statement. For example,"
   ]
  },
  {
   "cell_type": "code",
   "execution_count": 10,
   "metadata": {},
   "outputs": [
    {
     "data": {
      "text/plain": [
       "{'dessert': 'ice cream', 'entree': 'mahi mahi', 'soup': 'chowder'}"
      ]
     },
     "execution_count": 10,
     "metadata": {},
     "output_type": "execute_result"
    }
   ],
   "source": [
    "del dinner['salad']\n",
    "dinner"
   ]
  },
  {
   "cell_type": "markdown",
   "metadata": {},
   "source": [
    "### Exercise\n",
    "1. Create a dictionary **`subject`** with the following key-value combinations.\n",
    "\n",
    "|         |            |\n",
    "|:--      |:--         |\n",
    "|**Key**  |**Value**   |\n",
    "|'age'    |23          |\n",
    "|'hand'   |'right'     |\n",
    "|'glasses'|'yes’       |\n",
    "\n",
    "  * To dictionary `subject`, add a new item with the key `'RT'` and the value `235`.\n",
    "  * From the dictionary `subject`, delete the item `'hand':'right'`."
   ]
  },
  {
   "cell_type": "markdown",
   "metadata": {},
   "source": [
    "# 2. `keys()`, `values()`, and `items()` methods\n",
    "<hr style=\"height:1px;border:none\" />"
   ]
  },
  {
   "cell_type": "markdown",
   "metadata": {},
   "source": [
    "There are methods associated with a dictionary object. Some of these methods can be used to extract information from a dictionary.\n",
    "\n",
    "### `keys()` method\n",
    "\n",
    "If you are only interested in keys in a dictionary, you can use the **`keys()`** method. This method returns only the keys from a dictionary. "
   ]
  },
  {
   "cell_type": "code",
   "execution_count": 12,
   "metadata": {},
   "outputs": [
    {
     "data": {
      "text/plain": [
       "dict_keys(['breed', 'color', 'age'])"
      ]
     },
     "execution_count": 12,
     "metadata": {},
     "output_type": "execute_result"
    }
   ],
   "source": [
    "dog = {'breed':'puggle', 'color':'white', 'age':3}\n",
    "dog.keys()"
   ]
  },
  {
   "cell_type": "markdown",
   "metadata": {},
   "source": [
    "If you want to create a list of keys, then you need to use the **`list()`** function."
   ]
  },
  {
   "cell_type": "code",
   "execution_count": 13,
   "metadata": {},
   "outputs": [
    {
     "data": {
      "text/plain": [
       "['breed', 'color', 'age']"
      ]
     },
     "execution_count": 13,
     "metadata": {},
     "output_type": "execute_result"
    }
   ],
   "source": [
    "list(dog.keys())"
   ]
  },
  {
   "cell_type": "markdown",
   "metadata": {},
   "source": [
    "### `values()` method\n",
    "\n",
    "If you are only interested in values in a dictionary, you can use the **`values()`** method. "
   ]
  },
  {
   "cell_type": "code",
   "execution_count": 14,
   "metadata": {},
   "outputs": [
    {
     "data": {
      "text/plain": [
       "dict_values([250, 189, 132])"
      ]
     },
     "execution_count": 14,
     "metadata": {},
     "output_type": "execute_result"
    }
   ],
   "source": [
    "respTime = {'congruent':132, 'incongruent':250, 'mixed':189}\n",
    "respTime.values()"
   ]
  },
  {
   "cell_type": "code",
   "execution_count": 15,
   "metadata": {},
   "outputs": [
    {
     "data": {
      "text/plain": [
       "[250, 189, 132]"
      ]
     },
     "execution_count": 15,
     "metadata": {},
     "output_type": "execute_result"
    }
   ],
   "source": [
    "list(respTime.values())"
   ]
  },
  {
   "cell_type": "markdown",
   "metadata": {},
   "source": [
    "Again, you need a `list()` function to generate a list."
   ]
  },
  {
   "cell_type": "markdown",
   "metadata": {},
   "source": [
    "### `items()` method\n",
    "\n",
    "To get information on both keys and values, you can use the **`items()`** method."
   ]
  },
  {
   "cell_type": "code",
   "execution_count": 16,
   "metadata": {},
   "outputs": [
    {
     "data": {
      "text/plain": [
       "dict_items([('breed', 'puggle'), ('color', 'white'), ('age', 3)])"
      ]
     },
     "execution_count": 16,
     "metadata": {},
     "output_type": "execute_result"
    }
   ],
   "source": [
    "dog = {'breed':'puggle', 'color':'white', 'age':3}\n",
    "dog.items()"
   ]
  },
  {
   "cell_type": "code",
   "execution_count": 17,
   "metadata": {},
   "outputs": [
    {
     "data": {
      "text/plain": [
       "[('breed', 'puggle'), ('color', 'white'), ('age', 3)]"
      ]
     },
     "execution_count": 17,
     "metadata": {},
     "output_type": "execute_result"
    }
   ],
   "source": [
    "list(dog.items())"
   ]
  },
  {
   "cell_type": "markdown",
   "metadata": {},
   "source": [
    "You can use a `list()` function to convert the output to a list. However, the list is a collection of **tuples**. A *tuple* is a data type that is similar to a list, but denoted by parentheses `()` instead of square brackets `[]`."
   ]
  },
  {
   "cell_type": "code",
   "execution_count": 18,
   "metadata": {},
   "outputs": [
    {
     "data": {
      "text/plain": [
       "('breed', 'puggle')"
      ]
     },
     "execution_count": 18,
     "metadata": {},
     "output_type": "execute_result"
    }
   ],
   "source": [
    "list(dog.items())[0]"
   ]
  },
  {
   "cell_type": "markdown",
   "metadata": {},
   "source": [
    "### Dictionaries and for loop\n",
    "\n",
    "You can use dictionaries for a `for` loop just like using a list for a `for` loop. You can use the keys only."
   ]
  },
  {
   "cell_type": "markdown",
   "metadata": {},
   "source": [
    "`<forLoopKeys.py>`"
   ]
  },
  {
   "cell_type": "code",
   "execution_count": 20,
   "metadata": {},
   "outputs": [
    {
     "name": "stdout",
     "output_type": "stream",
     "text": [
      "Condition: incongruent\n",
      "Condition: mixed\n",
      "Condition: congruent\n"
     ]
    }
   ],
   "source": [
    "respTime = {'congruent':132, 'incongruent':250, 'mixed':189}\n",
    "for iKey in respTime.keys():\n",
    "    print('Condition: ' + iKey)"
   ]
  },
  {
   "cell_type": "markdown",
   "metadata": {},
   "source": [
    "Or you can use the values only."
   ]
  },
  {
   "cell_type": "markdown",
   "metadata": {},
   "source": [
    "`<forLoopValues.py>`"
   ]
  },
  {
   "cell_type": "code",
   "execution_count": 22,
   "metadata": {},
   "outputs": [
    {
     "name": "stdout",
     "output_type": "stream",
     "text": [
      "Repsponse times:\n",
      "250\n",
      "189\n",
      "132\n"
     ]
    }
   ],
   "source": [
    "respTime = {'congruent':132, 'incongruent':250, 'mixed':189}\n",
    "print('Repsponse times:')\n",
    "for iValue in respTime.values():\n",
    "    print(iValue)"
   ]
  },
  {
   "cell_type": "markdown",
   "metadata": {},
   "source": [
    "You may notice that the order of items is not the same as the order when the dictionary is initially defined. Unlike a list, a dictionary does not have particular ordering of items.\n",
    "\n",
    "To keep both keys and values together, you can use the **`item()`** method for a for loop as well. "
   ]
  },
  {
   "cell_type": "markdown",
   "metadata": {},
   "source": [
    "`<forLoopItems.py>`"
   ]
  },
  {
   "cell_type": "code",
   "execution_count": 24,
   "metadata": {},
   "outputs": [
    {
     "name": "stdout",
     "output_type": "stream",
     "text": [
      "Repsponse times:\n",
      "250 (incongruent)\n",
      "189 (mixed)\n",
      "132 (congruent)\n"
     ]
    }
   ],
   "source": [
    "respTime = {'congruent':132, 'incongruent':250, 'mixed':189}\n",
    "print('Repsponse times:')\n",
    "for iKey, iValue in respTime.items():\n",
    "    print(str(iValue) + ' (' + iKey + ')')"
   ]
  },
  {
   "cell_type": "markdown",
   "metadata": {},
   "source": [
    "### Exercise\n",
    "**Total time**. You have a dictionary called **`washer`** with the following items indicating the amount of time required for different cycles:\n",
    "```python\n",
    "washer = {'soak':10, 'wash':20, 'rinse':12, 'spin':6}\n",
    "```\n",
    "Write a program to calculate the total time required to run all the cycles. Then the program adds a new item to `washer`, with **`total time`** as the key and the total time calculated earlier as the value."
   ]
  },
  {
   "cell_type": "markdown",
   "metadata": {},
   "source": [
    "# 3. Checking if something exists\n",
    "<hr style=\"height:1px;border:none\" />"
   ]
  },
  {
   "cell_type": "markdown",
   "metadata": {},
   "source": [
    "You can check whether something exists as a key or as a value in a dictionary using the **`in`** and **`not in`** operators, just like a list. "
   ]
  },
  {
   "cell_type": "code",
   "execution_count": 1,
   "metadata": {},
   "outputs": [
    {
     "data": {
      "text/plain": [
       "True"
      ]
     },
     "execution_count": 1,
     "metadata": {},
     "output_type": "execute_result"
    }
   ],
   "source": [
    "dog = {'breed':'puggle', 'color':'white', 'age':3}\n",
    "'breed' in dog.keys()"
   ]
  },
  {
   "cell_type": "code",
   "execution_count": 2,
   "metadata": {},
   "outputs": [
    {
     "data": {
      "text/plain": [
       "False"
      ]
     },
     "execution_count": 2,
     "metadata": {},
     "output_type": "execute_result"
    }
   ],
   "source": [
    "'puggle' in dog.keys()"
   ]
  },
  {
   "cell_type": "code",
   "execution_count": 3,
   "metadata": {},
   "outputs": [
    {
     "data": {
      "text/plain": [
       "True"
      ]
     },
     "execution_count": 3,
     "metadata": {},
     "output_type": "execute_result"
    }
   ],
   "source": [
    "'puggle' in dog.values()"
   ]
  },
  {
   "cell_type": "markdown",
   "metadata": {},
   "source": [
    "If you omit the method and just refer the dictionary by its name, then only the keys are examined."
   ]
  },
  {
   "cell_type": "code",
   "execution_count": 4,
   "metadata": {},
   "outputs": [
    {
     "data": {
      "text/plain": [
       "True"
      ]
     },
     "execution_count": 4,
     "metadata": {},
     "output_type": "execute_result"
    }
   ],
   "source": [
    "'breed' in dog"
   ]
  },
  {
   "cell_type": "code",
   "execution_count": 5,
   "metadata": {},
   "outputs": [
    {
     "data": {
      "text/plain": [
       "False"
      ]
     },
     "execution_count": 5,
     "metadata": {},
     "output_type": "execute_result"
    }
   ],
   "source": [
    "'puggle' in dog"
   ]
  },
  {
   "cell_type": "markdown",
   "metadata": {},
   "source": [
    "You can check if an item exists before you access it in the dictionary. Alternatively, you can use the **`get()`** method. The `get()` method checks whether the item exists. If the item exists, it returns its value. If not, then it returns an alternate value. For example,"
   ]
  },
  {
   "cell_type": "code",
   "execution_count": 6,
   "metadata": {},
   "outputs": [
    {
     "data": {
      "text/plain": [
       "10"
      ]
     },
     "execution_count": 6,
     "metadata": {},
     "output_type": "execute_result"
    }
   ],
   "source": [
    "washer = {'soak':10, 'wash':20, 'rinse':12, 'spin':6}\n",
    "washer.get('soak',0)"
   ]
  },
  {
   "cell_type": "code",
   "execution_count": 7,
   "metadata": {},
   "outputs": [
    {
     "data": {
      "text/plain": [
       "0"
      ]
     },
     "execution_count": 7,
     "metadata": {},
     "output_type": "execute_result"
    }
   ],
   "source": [
    "washer.get('presoak',0)"
   ]
  },
  {
   "cell_type": "markdown",
   "metadata": {},
   "source": [
    "The item `'soak'` exists in the library, so the `get()` method returns its value. On the other hand, the item `'presoak'` does not exist in the library, thus the alternate value (0 in this case) is returned.\n",
    "\n",
    "The `get()` function does not alter the dictionary. However, you may want to add an item to a dictionary if it doesn't exist. In that case, you can use the **`setdefault()`** method. The `setdefault()` method adds an item to a dictionary if it doesn't exist, while it doesn't modify the dictionary if the item already exists. For example"
   ]
  },
  {
   "cell_type": "code",
   "execution_count": 8,
   "metadata": {},
   "outputs": [
    {
     "data": {
      "text/plain": [
       "5"
      ]
     },
     "execution_count": 8,
     "metadata": {},
     "output_type": "execute_result"
    }
   ],
   "source": [
    "washer = {'soak':10, 'wash':20, 'rinse':12, 'spin':6}\n",
    "washer.setdefault('presoak', 5)"
   ]
  },
  {
   "cell_type": "code",
   "execution_count": 9,
   "metadata": {},
   "outputs": [
    {
     "data": {
      "text/plain": [
       "{'presoak': 5, 'rinse': 12, 'soak': 10, 'spin': 6, 'wash': 20}"
      ]
     },
     "execution_count": 9,
     "metadata": {},
     "output_type": "execute_result"
    }
   ],
   "source": [
    "washer"
   ]
  },
  {
   "cell_type": "markdown",
   "metadata": {},
   "source": [
    "In this case, the item `'presoak'` did not exist, so the `setdefault()` method added that item to the dictionary with the corresponding value 5. "
   ]
  },
  {
   "cell_type": "code",
   "execution_count": 10,
   "metadata": {},
   "outputs": [
    {
     "data": {
      "text/plain": [
       "5"
      ]
     },
     "execution_count": 10,
     "metadata": {},
     "output_type": "execute_result"
    }
   ],
   "source": [
    "washer.setdefault('presoak',25)"
   ]
  },
  {
   "cell_type": "code",
   "execution_count": 12,
   "metadata": {},
   "outputs": [
    {
     "data": {
      "text/plain": [
       "{'presoak': 5, 'rinse': 12, 'soak': 10, 'spin': 6, 'wash': 20}"
      ]
     },
     "execution_count": 12,
     "metadata": {},
     "output_type": "execute_result"
    }
   ],
   "source": [
    "washer"
   ]
  },
  {
   "cell_type": "markdown",
   "metadata": {},
   "source": [
    "If you try to run the `setdefault()` method again, since `'presoak'` already exists, no change is made to the dictionary."
   ]
  },
  {
   "cell_type": "markdown",
   "metadata": {},
   "source": [
    "# 4. Application\n",
    "<hr style=\"height:1px;border:none\" />"
   ]
  },
  {
   "cell_type": "markdown",
   "metadata": {},
   "source": [
    "**Service vehicles**. A certain company had 11 service vehicles, named A, B, C, ..., K. The number of accidents involving each of these vehicles is stored in a dictionary:\n",
    "```python\n",
    "numAccident = {'A':5, 'C':2, 'D':1, 'F':2, 'H':1}\n",
    "```\n",
    "We want to calculate the total number of accidents for all the vehicles for this company. Notice that not all the vehicles have been involved in accidents before. We can calculate this by using the `get()` method."
   ]
  },
  {
   "cell_type": "markdown",
   "metadata": {},
   "source": [
    "`<getExample.py>`"
   ]
  },
  {
   "cell_type": "code",
   "execution_count": 14,
   "metadata": {},
   "outputs": [
    {
     "name": "stdout",
     "output_type": "stream",
     "text": [
      "Total accidents: 11\n"
     ]
    }
   ],
   "source": [
    "numAccident = {'A':5, 'C':2, 'D':1, 'F':2, 'H':1}\n",
    "totalAccident = 0\n",
    "for i in 'ABCDEGFHIJK':\n",
    "    totalAccident = totalAccident + numAccident.get(i,0)\n",
    "\n",
    "print('Total accidents: ' + str(totalAccident))"
   ]
  },
  {
   "cell_type": "markdown",
   "metadata": {},
   "source": [
    "**Letter frequency count**. You want to count the frequency of letters used in a message. \n",
    "```python\n",
    "message = 'the quick brown fox jumps over the lazy dog'\n",
    "```\n",
    "We do this by creating a dictionary of frequency counts with the `setdefault()` method."
   ]
  },
  {
   "cell_type": "markdown",
   "metadata": {},
   "source": [
    "`<setdefaultExample.py>`"
   ]
  },
  {
   "cell_type": "code",
   "execution_count": 17,
   "metadata": {},
   "outputs": [],
   "source": [
    "message = 'the quick brown fox jumps over the lazy dog'\n",
    "count = {}   # initializing the counter\n",
    "for iLetter in message:\n",
    "    count.setdefault(iLetter,0)\n",
    "    count[iLetter] += 1"
   ]
  },
  {
   "cell_type": "markdown",
   "metadata": {},
   "source": [
    "Notice that the statement **`count = {}`** is initializing an empty dictionary named `count`. The expression\n",
    "```python\n",
    "count[iLetter] += 1\n",
    "```\n",
    "is a shorthand version of \n",
    "```python\n",
    "count[iLetter] = count[iLetter] + 1\n",
    "```\n",
    "Once the frequencies of letters are counted, then you can print out the contents of the resulting dictionary"
   ]
  },
  {
   "cell_type": "code",
   "execution_count": null,
   "metadata": {},
   "outputs": [],
   "source": [
    "print('Frequency counts of letters')\n",
    "for iKey, iValue in count.items():\n",
    "    print(iKey + ': ' + str(iValue))"
   ]
  },
  {
   "cell_type": "markdown",
   "metadata": {},
   "source": [
    "### Exercise\n",
    "1. **Total assets**. A dictionary **`inventory`** contains the inventory of major equipments in a certain lab. Another dictionary, **`unitPrice`** contains information on the estimated values of various lab equipments. \n",
    "```python\n",
    "inventory = {\n",
    "    'computer': 5,\n",
    "    'centrifuge': 4,\n",
    "    'freezer': 1,\n",
    "    'incubator': 2,\n",
    "    'microscope': 2\n",
    "}\n",
    "unitPrice = {\n",
    "    'computer': 1800,\n",
    "    'centrifuge': 2000,\n",
    "    'freezer': 1300,\n",
    "    'microscope': 4500,\n",
    "    'refrigerator': 1800,\n",
    "    'incubaror': 500,\n",
    "    'scale': 400,\n",
    "    'spectrometer': 2100\n",
    "}\n",
    "```\n",
    "Write a program to generate a dictionary with total estimated values, **`totalEstValue`**, in which each item corresponding to a particular type of equipment. In other words, a key corresponds to a type of equipments (e.g., computer) and a value corresponds to unit price * quantity. If a certain type of equipment is not included in `inventory` but appears in `unitPrice`, then that item should be included in `totalEstValue`."
   ]
  }
 ],
 "metadata": {
  "kernelspec": {
   "display_name": "Python 3",
   "language": "python",
   "name": "python3"
  },
  "language_info": {
   "codemirror_mode": {
    "name": "ipython",
    "version": 3
   },
   "file_extension": ".py",
   "mimetype": "text/x-python",
   "name": "python",
   "nbconvert_exporter": "python",
   "pygments_lexer": "ipython3",
   "version": "3.5.5"
  }
 },
 "nbformat": 4,
 "nbformat_minor": 2
}
