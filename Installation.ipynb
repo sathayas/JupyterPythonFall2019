{
 "cells": [
  {
   "cell_type": "markdown",
   "metadata": {},
   "source": [
    "<p style=\"text-align:center\">\n",
    "PSY 341K <b>Python Coding for Psychological Sciences</b>, Fall 2018\n",
    "\n",
    "<img src=\"https://www.python.org/static/community_logos/python-logo-master-v3-TM.png\" alt=\"Python logo\" width=\"200\">\n",
    "</p>\n",
    "\n",
    "<h1 style=\"text-align:center\"> Installating Python Modules </h1>\n",
    "\n",
    "<hr style=\"height:5px;border:none\" />\n",
    "<p>"
   ]
  },
  {
   "cell_type": "markdown",
   "metadata": {},
   "source": [
    "# Python shell and editor\n",
    "<hr style=\"height:1px;border:none\" />"
   ]
  },
  {
   "cell_type": "markdown",
   "metadata": {},
   "source": [
    "***NB: Please install Python 3.5 or later.***\n",
    "\n",
    "### Python IDLE\n",
    "\n",
    "This is a Python package that comes with a Python shell and an editor. It runs on almost any computers, and doesn't require large memory or fast CPU. However, it does not come with other Python modules, thus you need to install other modules on your own. I will use this as part of my demonstrations during the class throughout the semester. Instructions for installation can be found on their web site at https://www.python.org/downloads/.\n",
    "\n",
    "### Anaconda Python\n",
    "\n",
    "This is another popular distribution of Python. It comes with a nice interactive editor / shell environment called **Spyder**. It also comes with a number of modules already installed. So you don't have to worry about the installation instructions below (except Git). However, as a result, Anaconda requires a large disk space (2+GB) and a sufficiently fast CPU. Moreover, it is known that Anaconda may over overwrite some software tools on Mac. You can download Anaconda Python from https://anaconda.org/anaconda/python. Computers in the classroom have Anaconda Python already installed."
   ]
  },
  {
   "cell_type": "markdown",
   "metadata": {},
   "source": [
    "\n",
    "### Other Python distributions\n",
    "\n",
    "There are other Python distributions that come with their own Python shell and editor, some of which may be more user friendly than IDLE. \n",
    "\n",
    "- **Enthought Canopy** (https://www.enthought.com/products/canopy)\n",
    "- Others that I am not aware of. Let me know if you find a good package!\n"
   ]
  },
  {
   "cell_type": "markdown",
   "metadata": {},
   "source": [
    "# Jupyter notebook (optional, but highly recommended)\n",
    "<hr style=\"height:1px;border:none\" />"
   ]
  },
  {
   "cell_type": "markdown",
   "metadata": {},
   "source": [
    "***This is already installed on Anaconda.***\n",
    "\n",
    "You can edit and run Python code inside a Jupyter notebook document. In order to open a Jupyter notebook document (`.ipynb`), you need Jupyter notebook on your computer in addition to a Python shell. To install, you need to run these commands on a Terminal (Mac) or a Command Prompt (Windows):\n",
    "```\n",
    "pip3 install --upgrade pip\n",
    "pip3 install jupyter\n",
    "```\n",
    "\n",
    "To test the installation, you can try running Jupyter notebook by following the instructions provided during the first day of the class.\n"
   ]
  },
  {
   "cell_type": "markdown",
   "metadata": {},
   "source": [
    "# IPython (optional)\n",
    "<hr style=\"height:1px;border:none\" />"
   ]
  },
  {
   "cell_type": "markdown",
   "metadata": {},
   "source": [
    "***This is already installed on Anaconda.***\n",
    "\n",
    "IPython shell has more user-friendly features than IDLE's Python shell. I like to use IPython because it lets me copy, paste, and run multiple lines of codes at once, unlike IDLE. To install, you need to run this command on a Terminal (Mac) or a Command Prompt (Windows):\n",
    "```\n",
    "pip3 install ipython\n",
    "```\n",
    "\n",
    "To check the installation, you can run IPython by typing the command\n",
    "```\n",
    "ipython\n",
    "```\n",
    "on a Terminal (Mac) or a Command Prompt (Windows). It should look very similar with IDLE's Python shell, but more colorful."
   ]
  },
  {
   "cell_type": "markdown",
   "metadata": {},
   "source": [
    "# NumPy (required) and SciPy (optional)\n",
    "<hr style=\"height:1px;border:none\" />"
   ]
  },
  {
   "cell_type": "markdown",
   "metadata": {},
   "source": [
    "***These are already installed on Anaconda.***\n",
    "\n",
    "\n",
    "**NumPy** is a Python library with functionalities associated with numerical data. **SciPy** is a Python library with a number of scientific calculation and analysis functions. When you are handling numerical data, it is a good idea to have both NumPy and SciPy.\n",
    "\n",
    "Before you install NumPy and/or SciPy, you may want to check if you already have these libraries on your computer. On your Python shell, run the following commands:\n",
    "```python\n",
    "import scipy\n",
    "import numpy\n",
    "```\n",
    "If either of these is not installed, you will get an error message. Then you need to install SciPy, since a SciPy distribution includes both SciPy and NumPy.\n"
   ]
  },
  {
   "cell_type": "markdown",
   "metadata": {},
   "source": [
    "### Mac OS X with IDLE\n",
    "\n",
    "Open the Terminal app. At the command prompt, type:\n",
    "```\n",
    "python3 -m pip install --upgrade pip\n",
    "```\n",
    "After the installation is complete, type:\n",
    "```\n",
    "pip3 install scipy\n",
    "```\n",
    "And that should install both SciPy and NumPy."
   ]
  },
  {
   "cell_type": "markdown",
   "metadata": {},
   "source": [
    "### Windows\n",
    "\n",
    "Unfortunately you cannot install SciPy on a Windows computer using the `pip3` command. It is recommended that you install a Python distribution that includes SciPy already (see the list under **Python shell and editor**).\n",
    "\n",
    "However, there is a third party version of SciPy available for Windows. This is not a genuine SciPy product, so please **proceed with caution and at your own risk**. Find an appropriate SciPy for your computer from the list at http://www.lfd.uci.edu/%7Egohlke/pythonlibs/. Those with Python 3.5 (3.6) should choose the `cp35` (`cp36`) version. Most computers nowadays have a 64-bit CPU (thus choose `win_amd64`), but if you are still using a 32-bit computer, choose `win32`."
   ]
  },
  {
   "cell_type": "markdown",
   "metadata": {},
   "source": [
    "# matplotlib (required)\n",
    "<hr style=\"height:1px;border:none\" />"
   ]
  },
  {
   "cell_type": "markdown",
   "metadata": {},
   "source": [
    "***This is already installed on Anaconda.***\n",
    "\n",
    "The module **`matplotlib`** contains functions to create graphs and plots. While some Python distribution includes `matplotlib` by default, in some cases (e.g., using IDLE), you may need to install it on your own. To check whether you have `matplotlib` already, you can run \n",
    "```python\n",
    "import matplotlib\n",
    "```\n",
    "If you don’t have `matplotlib`, then you will get an error message. Then you need to install it."
   ]
  },
  {
   "cell_type": "markdown",
   "metadata": {},
   "source": [
    "### Mac OS X with IDLE\n",
    "Open the Terminal app. At the command prompt, type:\n",
    "```\n",
    "pip3 install matplotlib\n",
    "```"
   ]
  },
  {
   "cell_type": "markdown",
   "metadata": {},
   "source": [
    "### Windows\n",
    "Open the Command Prompt. Then type the following commands:\n",
    "```\n",
    "python -m pip install -U pip setuptools\n",
    "python -m pip install matplotlib \n",
    "```"
   ]
  },
  {
   "cell_type": "markdown",
   "metadata": {},
   "source": [
    "### Checking installation\n",
    "To see whether matplotlib has been installed appropriately, you can run the following: "
   ]
  },
  {
   "cell_type": "code",
   "execution_count": 2,
   "metadata": {},
   "outputs": [
    {
     "data": {
      "image/png": "[encoded data removed]",
      "text/plain": [
       "<matplotlib.figure.Figure at 0x1082d4438>"
      ]
     },
     "metadata": {},
     "output_type": "display_data"
    }
   ],
   "source": [
    "import matplotlib.pyplot as plt \n",
    "plt.plot([0,1,2,5],[0,1,4,25]) \n",
    "plt.title('Some plot')\n",
    "plt.show() "
   ]
  },
  {
   "cell_type": "markdown",
   "metadata": {},
   "source": [
    "This should produce a plot like this in a new window. "
   ]
  },
  {
   "cell_type": "markdown",
   "metadata": {},
   "source": [
    "# Pandas (required)\n",
    "<hr style=\"height:1px;border:none\" />"
   ]
  },
  {
   "cell_type": "markdown",
   "metadata": {},
   "source": [
    "***This is already installed on Anaconda.***\n",
    "\n",
    "The module **`pandas`** contains functions to organize data as data frames. While some Python distribution includes `pandas` by default, in some cases (e.g., using IDLE), you may need to install it on your own. To check whether you have `pandas` already, you can run\n",
    "```python\n",
    "import pandas\n",
    "```\n",
    "If you don’t have `pandas`, then you will get an error message. Then you need to install it."
   ]
  },
  {
   "cell_type": "markdown",
   "metadata": {},
   "source": [
    "### Mac OS X with IDLE\n",
    "\n",
    "Open the Terminal app. At the command prompt, type:\n",
    "```\n",
    "pip3 install pandas\n",
    "```"
   ]
  },
  {
   "cell_type": "markdown",
   "metadata": {},
   "source": [
    "### Windows\n",
    "\n",
    "Open the Command Prompt. Then type the following command:\n",
    "```\n",
    "python -m pip install pandas\n",
    "```"
   ]
  },
  {
   "cell_type": "markdown",
   "metadata": {},
   "source": [
    "### Checking installation\n",
    "\n",
    "Try importing the `pandas` module again, and see if you get an error message. If you don’t get an error message, you are ready to go!"
   ]
  },
  {
   "cell_type": "markdown",
   "metadata": {},
   "source": [
    "# Git (optional but highly recommended)\n",
    "# GitHub (optional)\n",
    "<hr style=\"height:1px;border:none\" />"
   ]
  },
  {
   "cell_type": "markdown",
   "metadata": {},
   "source": [
    "Although not directly related with Python, we will cover Git and GitHub in our class. **Git** is a version control software tool. It lets you keep track of changes you make on your codes. **GitHub** is a public repository where you can share your codes with others (e.g., example codes for the Python class)."
   ]
  },
  {
   "cell_type": "markdown",
   "metadata": {},
   "source": [
    "## Git\n",
    "To use Git, you need the Git software installed on your computer. "
   ]
  },
  {
   "cell_type": "markdown",
   "metadata": {},
   "source": [
    "### Mac\n",
    "If you are a Mac user, Git is already installed on your computer as part of the Mac OS. So you don’t have to do anything."
   ]
  },
  {
   "cell_type": "markdown",
   "metadata": {},
   "source": [
    "### Windows\n",
    "If you are a Windows computer user, you can download Git for free from its website (https://git-scm.com/downloads)."
   ]
  },
  {
   "cell_type": "markdown",
   "metadata": {},
   "source": [
    "## GitHub\n",
    "To store your codes on GitHub, you need to create an account on GitHub. You can do so at GitHub’s web site at https://github.com and sign up for an account. You can create an account for free, although GitHub offers paid services for a more secure environment. "
   ]
  }
 ],
 "metadata": {
  "kernelspec": {
   "display_name": "Python 3",
   "language": "python",
   "name": "python3"
  },
  "language_info": {
   "codemirror_mode": {
    "name": "ipython",
    "version": 3
   },
   "file_extension": ".py",
   "mimetype": "text/x-python",
   "name": "python",
   "nbconvert_exporter": "python",
   "pygments_lexer": "ipython3",
   "version": "3.5.5"
  }
 },
 "nbformat": 4,
 "nbformat_minor": 2
}
