{
 "cells": [
  {
   "cell_type": "markdown",
   "metadata": {
    "collapsed": true
   },
   "source": [
    "<p style=\"text-align:center\">\n",
    "PSY 341K <b>Python Coding for Psychological Sciences</b>, Fall 2019\n",
    "\n",
    "<img src=\"https://github.com/sathayas/JupyterPythonFall2019/blob/master/Images/PythonLogo.png?raw=true\" alt=\"Python logo\" width=\"400\">\n",
    "</p>\n",
    "\n",
    "<h1 style=\"text-align:center\"> Comparisons & if statements</h1>\n",
    "\n",
    "<h4 style=\"text-align:center\"> September 5, 2019 </h4>\n",
    "<hr style=\"height:5px;border:none\" />\n",
    "<p>"
   ]
  },
  {
   "cell_type": "markdown",
   "metadata": {},
   "source": [
    "# 1. Comparison operators\n",
    "<hr style=\"height:1px;border:none\" />"
   ]
  },
  {
   "cell_type": "markdown",
   "metadata": {},
   "source": [
    "True and False are outcomes from logical operations or comparisons. Try this."
   ]
  },
  {
   "cell_type": "code",
   "execution_count": 1,
   "metadata": {},
   "outputs": [],
   "source": [
    "age = 23"
   ]
  },
  {
   "cell_type": "markdown",
   "metadata": {},
   "source": [
    "This statement sets the variable **`age`** as 23. Then,"
   ]
  },
  {
   "cell_type": "code",
   "execution_count": 2,
   "metadata": {},
   "outputs": [
    {
     "data": {
      "text/plain": [
       "False"
      ]
     },
     "execution_count": 2,
     "metadata": {},
     "output_type": "execute_result"
    }
   ],
   "source": [
    "age == 29"
   ]
  },
  {
   "cell_type": "code",
   "execution_count": 3,
   "metadata": {},
   "outputs": [
    {
     "data": {
      "text/plain": [
       "True"
      ]
     },
     "execution_count": 3,
     "metadata": {},
     "output_type": "execute_result"
    }
   ],
   "source": [
    "age == 23"
   ]
  },
  {
   "cell_type": "markdown",
   "metadata": {},
   "source": [
    "Here, we use two equal signs (i.e., **`==`**) as a comparison operator. In the first statement, we examine whether age equals 29. In the second statement, we examine whether age equals 23. You can use the `==` operator for numbers and strings. For example,"
   ]
  },
  {
   "cell_type": "code",
   "execution_count": 4,
   "metadata": {},
   "outputs": [],
   "source": [
    "animal = 'cat'"
   ]
  },
  {
   "cell_type": "code",
   "execution_count": 5,
   "metadata": {},
   "outputs": [
    {
     "data": {
      "text/plain": [
       "False"
      ]
     },
     "execution_count": 5,
     "metadata": {},
     "output_type": "execute_result"
    }
   ],
   "source": [
    "animal == 'dog'"
   ]
  },
  {
   "cell_type": "code",
   "execution_count": 7,
   "metadata": {},
   "outputs": [
    {
     "data": {
      "text/plain": [
       "True"
      ]
     },
     "execution_count": 7,
     "metadata": {},
     "output_type": "execute_result"
    }
   ],
   "source": [
    "animal == 'cat'"
   ]
  },
  {
   "cell_type": "markdown",
   "metadata": {},
   "source": [
    "There are other comparison operators, besides ==. Here are the ones you will likely use in your programs.\n",
    "  * **`==`**: equal to\n",
    "  * **`!=`**: not equal to\n",
    "  * **`<`**: less than\n",
    "  * **`>`**: greater than\n",
    "  * **`<=`**: less than or equal to\n",
    "  * **`>=`**: greater than or equal to"
   ]
  },
  {
   "cell_type": "markdown",
   "metadata": {},
   "source": [
    "For example,"
   ]
  },
  {
   "cell_type": "code",
   "execution_count": 1,
   "metadata": {},
   "outputs": [
    {
     "data": {
      "text/plain": [
       "False"
      ]
     },
     "execution_count": 1,
     "metadata": {},
     "output_type": "execute_result"
    }
   ],
   "source": [
    "age = 23\n",
    "seniorDiscount = 65\n",
    "age >= seniorDiscount"
   ]
  },
  {
   "cell_type": "markdown",
   "metadata": {},
   "source": [
    "(examining whether the variable `age` is greater than or equal to the variable `seniorDiscount`)"
   ]
  },
  {
   "cell_type": "markdown",
   "metadata": {},
   "source": [
    "### Exercise\n",
    "Create the following variables:\n",
    "```python\n",
    "diameter = 3.6\n",
    "street = 'Speedway'\n",
    "RT = 130\n",
    "mpg = 20.3\n",
    "myName = '[fill in your name]'\n",
    "```\n",
    "\n",
    "Then write the following comparisons using the comparison operators we just learned.\n",
    "  1. If the variable **`diameter`** is greater than 6.5\n",
    "  2. If the variable **`street`** is NOT equal to 'Dean Keeton'\n",
    "  3. If the variable **`RT`** is smaller than 250\n",
    "  5. If the variable **`mpg`** is greater or equal to 25.5\n",
    "  6. If the variable **`myName`** is equal to 'Hayasaka'\n",
    "\n",
    "What are the outcomes (True or False)?\n"
   ]
  },
  {
   "cell_type": "markdown",
   "metadata": {},
   "source": [
    "## 2. Conditional execution\n",
    "<hr style=\"height:1px;border:none\" />"
   ]
  },
  {
   "cell_type": "markdown",
   "metadata": {},
   "source": [
    "So far, we've learned about how to evaluate conditions. Now, we will learn how to execute a statement only when certain conditions are met. To do so, we can use the **`if`** statement:\n",
    "```python\n",
    "if [condition]:\n",
    "    [execute something]\n",
    "```\n",
    "Only when the condition is met, the indented statement is executed. The following program is an example."
   ]
  },
  {
   "cell_type": "markdown",
   "metadata": {},
   "source": [
    "[`<IfExample1.py>`](https://github.com/sathayas/PythonClassFall2019/blob/master/ifExamples/IfExample1.py)"
   ]
  },
  {
   "cell_type": "code",
   "execution_count": 2,
   "metadata": {},
   "outputs": [
    {
     "name": "stdout",
     "output_type": "stream",
     "text": [
      "The age requirement is met\n",
      "The handedness requirement is met\n"
     ]
    }
   ],
   "source": [
    "age = 23\n",
    "hand = 'right'\n",
    "# evaluating the age requirement\n",
    "if age>=18:\n",
    "    print('The age requirement is met')\n",
    "\n",
    "# evaluating the handedness requirement\n",
    "if hand=='right':\n",
    "    print('The handedness requirement is met')"
   ]
  },
  {
   "cell_type": "markdown",
   "metadata": {},
   "source": [
    "In the `if` statement, the age requirement is evaluated (`age>=18`). In the second\n",
    "`if` statement, the handedness requirement is evaluated (`hand=='right'`).\n",
    "When you write an if statement, here are some rules you need to remember.\n",
    "\n",
    "  - After the condition, the line has to end with a colon (**`:`**).\n",
    "  - The statement to be executed has to be *indented*.\n",
    "\n",
    "An `if` statement can have multiple conditions evaluated at once. Here is an\n",
    "example."
   ]
  },
  {
   "cell_type": "markdown",
   "metadata": {},
   "source": [
    "[`<IfExample2.py>`](https://github.com/sathayas/PythonClassFall2019/blob/master/ifExamples/IfExample2.py)"
   ]
  },
  {
   "cell_type": "code",
   "execution_count": 3,
   "metadata": {},
   "outputs": [
    {
     "name": "stdout",
     "output_type": "stream",
     "text": [
      "The age is 23 years old.\n",
      "The handedness is right-handed.\n",
      "Meeting all the requirements.\n"
     ]
    }
   ],
   "source": [
    "age = 23\n",
    "hand = 'right'\n",
    "# evaluating the age and handedness requirements at once\n",
    "if (age>=18) and (hand=='right'):\n",
    "    print('The age is ' + str(age) + ' years old.')\n",
    "    print('The handedness is ' + hand + '-handed.')\n",
    "    print('Meeting all the requirements.')"
   ]
  },
  {
   "cell_type": "markdown",
   "metadata": {},
   "source": [
    "Here we use the **`and`** operator to combine two conditions (`age>=18` and `hand=='right'`). Only when both conditions are satisfied, then the the intended operation is performed. A group of indented statements are often referred as a ***block***. In Python, indented\n",
    "blocks make programs more readable.\n",
    "\n",
    "Say, if you want to evaluate at least one of these conditions is met, then you can use the **`or`** operator. In that case, satisfying only one of two conditions is necessary to execute the code block. "
   ]
  },
  {
   "cell_type": "code",
   "execution_count": 4,
   "metadata": {},
   "outputs": [],
   "source": [
    "age = 17\n",
    "hand = 'right'\n",
    "# evaluating the age or handedness requirements at once\n",
    "if (age>=18) and (hand=='right'):\n",
    "    print('The age is ' + str(age) + ' years old.')\n",
    "    print('The handedness is ' + hand + '-handed.')\n",
    "    print('At least one requirement is met.')"
   ]
  },
  {
   "cell_type": "markdown",
   "metadata": {},
   "source": [
    "### Exercise\n",
    "**Safety device**. A certain safety device for a small aircraft can be use by individuals weighing 300 pounds or less, and whose height is 78 inches (or 6'6\") or less. Write a program to ask the user to enter his/her weight (pounds) and height (inches). If the individual meets the requirements for this safety device, then the program prints out a message 'Requirements met'.\n",
    "\n",
    "***Hint:*** *The user inputs have to be converted to floats before evaluated in an `if` statement.*"
   ]
  },
  {
   "cell_type": "markdown",
   "metadata": {},
   "source": [
    "# 3. When a condition is not met\n",
    "<hr style=\"height:1px;border:none\" />"
   ]
  },
  {
   "cell_type": "markdown",
   "metadata": {},
   "source": [
    "If the condition is not met, then you still want to execute some other statements.\n",
    "In that case, we use an **`else`** statement. An `else` statement is always used with\n",
    "an `if` statement:\n",
    "```python\n",
    "if [condition]:\n",
    "    [execute something]\n",
    "else:\n",
    "    [execute other thing]\n",
    "```\n",
    "Here is an example of an `if...else` statement."
   ]
  },
  {
   "cell_type": "markdown",
   "metadata": {},
   "source": [
    "[`<IfElseExample.py>`](https://github.com/sathayas/PythonClassFall2019/blob/master/ifExamples/IfElseExample.py)"
   ]
  },
  {
   "cell_type": "code",
   "execution_count": 5,
   "metadata": {},
   "outputs": [
    {
     "name": "stdout",
     "output_type": "stream",
     "text": [
      "You did not meet the age criterion\n"
     ]
    }
   ],
   "source": [
    "age = 44\n",
    "if age<20:\n",
    "    print('You met the age criterion')\n",
    "else:\n",
    "    print('You did not meet the age criterion')"
   ]
  },
  {
   "cell_type": "markdown",
   "metadata": {},
   "source": [
    "Like `if` statements, `else` statements end with a colon followed by a block of\n",
    "indented codes. Moreover, similar to `if` statements, `else` statements can\n",
    "include a block with multiple lines. Here is an example."
   ]
  },
  {
   "cell_type": "code",
   "execution_count": 6,
   "metadata": {},
   "outputs": [
    {
     "name": "stdout",
     "output_type": "stream",
     "text": [
      "Age requirement: younger than 20\n",
      "Handedness requirement: right-handed\n",
      "You did not meet either requirement\n"
     ]
    }
   ],
   "source": [
    "age = 44\n",
    "hand = 'left'\n",
    "if (age<20) & (hand=='right'):\n",
    "    print('The age is ' + str(age) + ' years old.')\n",
    "    print('The handedness is ' + hand + '-handed.')\n",
    "    print('Meeting all the requirements.')\n",
    "else:\n",
    "    print('Age requirement: younger than 20')\n",
    "    print('Handedness requirement: right-handed')\n",
    "    print('You did not meet either requirement')"
   ]
  },
  {
   "cell_type": "markdown",
   "metadata": {},
   "source": [
    "### Exercise\n",
    "**Password**. Write a program to ask the user to enter a password. If the entered password matches the true password (stored in a variable `truePassword`), then the program prints out a message 'Correct password entered'. Otherwise the program prints out a message 'Invalid password'."
   ]
  },
  {
   "cell_type": "markdown",
   "metadata": {},
   "source": [
    "# 4. More conditions\n",
    "<hr style=\"height:1px;border:none\" />"
   ]
  },
  {
   "cell_type": "markdown",
   "metadata": {},
   "source": [
    "Say, the condition in an `if` statement is not met. Then you may want to evaluate\n",
    "another condition using another `if` statement, under the `else` statement. For\n",
    "example,"
   ]
  },
  {
   "cell_type": "markdown",
   "metadata": {},
   "source": [
    "[`<IfElifExample.py>`](https://github.com/sathayas/PythonClassFall2019/blob/master/ifExamples/IfElifExample.py)"
   ]
  },
  {
   "cell_type": "code",
   "execution_count": 7,
   "metadata": {},
   "outputs": [
    {
     "name": "stdout",
     "output_type": "stream",
     "text": [
      "Age requirement is met\n"
     ]
    }
   ],
   "source": [
    "age = 19\n",
    "hand = 'left'\n",
    "if (age<20) & (hand=='right'):\n",
    "    print('Meeting all the requirements.')\n",
    "else:\n",
    "    if age<20:\n",
    "           print('Age requirement is met')\n",
    "    else:\n",
    "        print('None of the requirements is met')"
   ]
  },
  {
   "cell_type": "markdown",
   "metadata": {},
   "source": [
    "If an `if` statement is followed immediately after an `else` statement, then you can\n",
    "combine `else` and `if` into an **`elif`** statement.\n",
    "```python\n",
    "if [condition]:\n",
    "    [execute something]\n",
    "elif [another condition]:\n",
    "    [execute other thing]\n",
    "else:\n",
    "    [execute something different]\n",
    "```\n",
    "Like `if` and `else` statements, an `elif` statement is followed by a block of\n",
    "codes to be executed only when the condition is met. Here is an example of an\n",
    "`elif` statement."
   ]
  },
  {
   "cell_type": "code",
   "execution_count": 8,
   "metadata": {},
   "outputs": [
    {
     "name": "stdout",
     "output_type": "stream",
     "text": [
      "Age requirement is met\n"
     ]
    }
   ],
   "source": [
    "age = 19\n",
    "hand = 'left'\n",
    "if (age<20) & (hand=='right'):\n",
    "    print('Meeting all the requirements.')\n",
    "elif age<20:\n",
    "    print('Age requirement is met')\n",
    "else:\n",
    "    print('None of the requirements is met')"
   ]
  },
  {
   "cell_type": "markdown",
   "metadata": {},
   "source": [
    "### Exercise\n",
    "**Safety device revisited**. Modify the program from the **safety device** exercise above to do the following using an `if`...`elif`...`else` structure:\n",
    "  * If both requirements are met, then print out a message 'Both requirements met'. No other message is printed out.\n",
    "  * If only one of the requirements is met, then print out a message 'Weight requirement met' or 'Height requirement met'. No other message is printed out.\n",
    "  * If neither requirement is met, then print out a message 'Neither requirement met'. No other message is printed out.\n",
    "  \n",
    "***Hint:*** *Start out with an `if` statement evaluating both conditions. Then use two `elif` statements to evaluate the weight and height requirements separately. Finally use the `else` statement for the case neither requirement is met."
   ]
  }
 ],
 "metadata": {
  "kernelspec": {
   "display_name": "Python 3",
   "language": "python",
   "name": "python3"
  },
  "language_info": {
   "codemirror_mode": {
    "name": "ipython",
    "version": 3
   },
   "file_extension": ".py",
   "mimetype": "text/x-python",
   "name": "python",
   "nbconvert_exporter": "python",
   "pygments_lexer": "ipython3",
   "version": "3.5.6"
  }
 },
 "nbformat": 4,
 "nbformat_minor": 2
}
