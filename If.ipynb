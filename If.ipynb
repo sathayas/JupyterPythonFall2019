{
 "cells": [
  {
   "cell_type": "markdown",
   "metadata": {
    "collapsed": true
   },
   "source": [
    "<p style=\"text-align:center\">\n",
    "PSY 341K <b>Python Coding for Psychological Sciences</b>, Fall 2018\n",
    "\n",
    "<img src=\"https://www.python.org/static/community_logos/python-logo-master-v3-TM.png\" alt=\"Python logo\" width=\"200\">\n",
    "</p>\n",
    "\n",
    "<h1 style=\"text-align:center\"> Comparisons & if statements</h1>\n",
    "\n",
    "<h4 style=\"text-align:center\"> September 6, 2018 </h4>\n",
    "<hr style=\"height:5px;border:none\" />\n",
    "<p>"
   ]
  },
  {
   "cell_type": "markdown",
   "metadata": {},
   "source": [
    "# 1. Comparison operators\n",
    "<hr style=\"height:1px;border:none\" />"
   ]
  },
  {
   "cell_type": "markdown",
   "metadata": {},
   "source": [
    "True and False are often outcome from logical statement, comparing quantities. Try this."
   ]
  },
  {
   "cell_type": "code",
   "execution_count": 1,
   "metadata": {},
   "outputs": [],
   "source": [
    "age = 23"
   ]
  },
  {
   "cell_type": "markdown",
   "metadata": {},
   "source": [
    "This statement sets the variable **`age`** as 23. Then,"
   ]
  },
  {
   "cell_type": "code",
   "execution_count": 2,
   "metadata": {},
   "outputs": [
    {
     "data": {
      "text/plain": [
       "False"
      ]
     },
     "execution_count": 2,
     "metadata": {},
     "output_type": "execute_result"
    }
   ],
   "source": [
    "age == 29"
   ]
  },
  {
   "cell_type": "code",
   "execution_count": 3,
   "metadata": {},
   "outputs": [
    {
     "data": {
      "text/plain": [
       "True"
      ]
     },
     "execution_count": 3,
     "metadata": {},
     "output_type": "execute_result"
    }
   ],
   "source": [
    "age == 23"
   ]
  },
  {
   "cell_type": "markdown",
   "metadata": {},
   "source": [
    "Here, we use two equal signs (i.e., **`==`**) as comparison operators. In the first statement, we examine whether age equals 29. In the second statement, we examine whether age equals 23. You can use the `==` operator for numbers and strings. For example,"
   ]
  },
  {
   "cell_type": "code",
   "execution_count": 4,
   "metadata": {},
   "outputs": [],
   "source": [
    "animal = 'cat'"
   ]
  },
  {
   "cell_type": "code",
   "execution_count": 5,
   "metadata": {},
   "outputs": [
    {
     "data": {
      "text/plain": [
       "False"
      ]
     },
     "execution_count": 5,
     "metadata": {},
     "output_type": "execute_result"
    }
   ],
   "source": [
    "animal == 'dog'"
   ]
  },
  {
   "cell_type": "code",
   "execution_count": 6,
   "metadata": {},
   "outputs": [
    {
     "data": {
      "text/plain": [
       "False"
      ]
     },
     "execution_count": 6,
     "metadata": {},
     "output_type": "execute_result"
    }
   ],
   "source": [
    "animal == 'horse'"
   ]
  },
  {
   "cell_type": "code",
   "execution_count": 7,
   "metadata": {},
   "outputs": [
    {
     "data": {
      "text/plain": [
       "True"
      ]
     },
     "execution_count": 7,
     "metadata": {},
     "output_type": "execute_result"
    }
   ],
   "source": [
    "animal == 'cat'"
   ]
  },
  {
   "cell_type": "markdown",
   "metadata": {},
   "source": [
    "There are other comparison operators, besides ==. Here are the ones you will likely use in your programs.\n",
    "  * **`==`**: equal to\n",
    "  * **`!=`**: not equal to\n",
    "  * **`<`**: less than\n",
    "  * **`>`**: greater than\n",
    "  * **`<=`**: less than or equal to\n",
    "  * **`>=`**: greater than or equal to"
   ]
  },
  {
   "cell_type": "markdown",
   "metadata": {},
   "source": [
    "Here are examples of comparison operators."
   ]
  },
  {
   "cell_type": "code",
   "execution_count": 8,
   "metadata": {},
   "outputs": [
    {
     "data": {
      "text/plain": [
       "True"
      ]
     },
     "execution_count": 8,
     "metadata": {},
     "output_type": "execute_result"
    }
   ],
   "source": [
    "food = 'bread'\n",
    "food != 'beans'"
   ]
  },
  {
   "cell_type": "markdown",
   "metadata": {},
   "source": [
    "(examining if the variable `food` is NOT 'beans')"
   ]
  },
  {
   "cell_type": "code",
   "execution_count": 9,
   "metadata": {},
   "outputs": [
    {
     "data": {
      "text/plain": [
       "True"
      ]
     },
     "execution_count": 9,
     "metadata": {},
     "output_type": "execute_result"
    }
   ],
   "source": [
    "age = 23\n",
    "age >= 21"
   ]
  },
  {
   "cell_type": "markdown",
   "metadata": {},
   "source": [
    "(examining if the variable `age` is greater than or equal to 21)"
   ]
  },
  {
   "cell_type": "code",
   "execution_count": 10,
   "metadata": {},
   "outputs": [
    {
     "data": {
      "text/plain": [
       "True"
      ]
     },
     "execution_count": 10,
     "metadata": {},
     "output_type": "execute_result"
    }
   ],
   "source": [
    "age < 65"
   ]
  },
  {
   "cell_type": "markdown",
   "metadata": {},
   "source": [
    "(examining if the variable `age` is less than 65)"
   ]
  },
  {
   "cell_type": "code",
   "execution_count": 11,
   "metadata": {},
   "outputs": [
    {
     "data": {
      "text/plain": [
       "False"
      ]
     },
     "execution_count": 11,
     "metadata": {},
     "output_type": "execute_result"
    }
   ],
   "source": [
    "seniorDiscount = 65\n",
    "age >= seniorDiscount"
   ]
  },
  {
   "cell_type": "markdown",
   "metadata": {},
   "source": [
    "(examining whether the variable `age` is greater than or equal to the variable `seniorDiscount`)"
   ]
  },
  {
   "cell_type": "markdown",
   "metadata": {},
   "source": [
    "### Exercise\n",
    "Create the following variables:\n",
    "```python\n",
    "diameter = 3.6\n",
    "street = 'Speedway'\n",
    "RT_Pre = 130\n",
    "RT_Post = 500\n",
    "mpg = 20.3\n",
    "myName = '[fill in your name]'\n",
    "```\n",
    "\n",
    "Then write the following comparisons using the comparison operators we just learned.\n",
    "  1. If the variable **`diameter`** is greater than 6.5\n",
    "  2. If the variable **`street`** is NOT equal to 'Dean Keeton'\n",
    "  3. If the variable **`RT_Pre`** is smaller than 250\n",
    "  4. If the variable **`RT_Post`** is greater than 500\n",
    "  5. If the variable **`mpg`** is greater or equal to 25.5\n",
    "  6. If the variable **`myName`** is equal to 'Hayasaka'\n",
    "\n",
    "What are the outcomes (True or False)?\n"
   ]
  },
  {
   "cell_type": "markdown",
   "metadata": {},
   "source": [
    "# 2. Boolean operators\n",
    "<hr style=\"height:1px;border:none\" />"
   ]
  },
  {
   "cell_type": "markdown",
   "metadata": {},
   "source": [
    "It is often the case that you want to evaluate multiple conditions together. Useful to such scenarios are **Boolean** operators, a type of logic operators evaluating multiple conditions together. Here, we focus on the **`and`**, **`or`**, and **`not`** operators.  "
   ]
  },
  {
   "cell_type": "markdown",
   "metadata": {},
   "source": [
    "### Satisfying all conditions (**`and`** operator)\n",
    "Let’s say, in your study, you want subjects who are 18 years or older and right-handed. Suppose you have these variables:\n",
    "\n",
    "  * **`age`**: Subject’s age\n",
    "  * **`hand`**:\tSubject’s handedness (either 'right' or 'left')\n",
    "\n",
    "To evaluate both conditions together, you can use the **`and`** operator."
   ]
  },
  {
   "cell_type": "code",
   "execution_count": 12,
   "metadata": {
    "collapsed": true
   },
   "outputs": [],
   "source": [
    "age = 23\n",
    "hand = 'right'"
   ]
  },
  {
   "cell_type": "code",
   "execution_count": 13,
   "metadata": {},
   "outputs": [
    {
     "data": {
      "text/plain": [
       "True"
      ]
     },
     "execution_count": 13,
     "metadata": {},
     "output_type": "execute_result"
    }
   ],
   "source": [
    "age>=18 and hand=='right'"
   ]
  },
  {
   "cell_type": "markdown",
   "metadata": {},
   "source": [
    "For the sake of readability, you can write this as"
   ]
  },
  {
   "cell_type": "code",
   "execution_count": 14,
   "metadata": {},
   "outputs": [
    {
     "data": {
      "text/plain": [
       "True"
      ]
     },
     "execution_count": 14,
     "metadata": {},
     "output_type": "execute_result"
    }
   ],
   "source": [
    "(age>=18) and (hand=='right')"
   ]
  },
  {
   "cell_type": "markdown",
   "metadata": {},
   "source": [
    "If either of these conditions is not met, then this combined condition returns `False`."
   ]
  },
  {
   "cell_type": "markdown",
   "metadata": {},
   "source": [
    "### Exercise\n",
    "Assume you have the variables `age` and `hand` defined as above. Write a combined condition to identify the following:\n",
    "  1. Left-handed subjects, 21 years or older\n",
    "  2. Left-handed subjects, younger than 65 years\n",
    "  3. Subjects with age between 18 and 64"
   ]
  },
  {
   "cell_type": "markdown",
   "metadata": {},
   "source": [
    "### Satisfying either condition (**`or`** operator)\n",
    "Let’s say, in your study, you want to identify subjects who are substance users. You want to identify subjects who drink alcohol, smoke tobacco, or use marijuana. Assume you have these variables:\n",
    "\n",
    "  - **`drink`**: The subject drinks alcohol ('yes' or 'no')\n",
    "  - **`smoke`**: The subject smokes tobacco ('yes' or 'no')\n",
    "  - **`marijuana`**: The subject uses marijuana ('yes' or 'no')\n",
    "\n",
    "Then you want to identify a subject who answers 'yes' to any of these questions. To evaluate whether either of conditions is satisfied, you can use the **`or`** operator. "
   ]
  },
  {
   "cell_type": "code",
   "execution_count": 12,
   "metadata": {},
   "outputs": [],
   "source": [
    "drink='yes'\n",
    "smoke='no'\n",
    "marijuana='no'"
   ]
  },
  {
   "cell_type": "code",
   "execution_count": 13,
   "metadata": {},
   "outputs": [
    {
     "data": {
      "text/plain": [
       "True"
      ]
     },
     "execution_count": 13,
     "metadata": {},
     "output_type": "execute_result"
    }
   ],
   "source": [
    "drink=='yes' or smoke=='yes' or marijuana=='yes'"
   ]
  },
  {
   "cell_type": "markdown",
   "metadata": {},
   "source": [
    "Or if you are interested in drinking and smoking, you can say"
   ]
  },
  {
   "cell_type": "code",
   "execution_count": 14,
   "metadata": {},
   "outputs": [
    {
     "data": {
      "text/plain": [
       "True"
      ]
     },
     "execution_count": 14,
     "metadata": {},
     "output_type": "execute_result"
    }
   ],
   "source": [
    "(drink=='yes') or (smoke=='yes')"
   ]
  },
  {
   "cell_type": "markdown",
   "metadata": {},
   "source": [
    "Only when all conditions are False, then the combined condition returns False. "
   ]
  },
  {
   "cell_type": "code",
   "execution_count": 15,
   "metadata": {},
   "outputs": [
    {
     "data": {
      "text/plain": [
       "False"
      ]
     },
     "execution_count": 15,
     "metadata": {},
     "output_type": "execute_result"
    }
   ],
   "source": [
    "drink='no'\n",
    "smoke='no'\n",
    "marijuana='no'\n",
    "drink=='yes' or smoke=='yes' or marijuana=='yes'"
   ]
  },
  {
   "cell_type": "markdown",
   "metadata": {},
   "source": [
    "### Not satisfying a condition (`not` operator)\n",
    "A **`not`** operator can be used to negate a condition. For example,"
   ]
  },
  {
   "cell_type": "code",
   "execution_count": 16,
   "metadata": {},
   "outputs": [],
   "source": [
    "state='MA'"
   ]
  },
  {
   "cell_type": "code",
   "execution_count": 17,
   "metadata": {},
   "outputs": [
    {
     "data": {
      "text/plain": [
       "False"
      ]
     },
     "execution_count": 17,
     "metadata": {},
     "output_type": "execute_result"
    }
   ],
   "source": [
    "state=='TX'"
   ]
  },
  {
   "cell_type": "code",
   "execution_count": 18,
   "metadata": {},
   "outputs": [
    {
     "data": {
      "text/plain": [
       "True"
      ]
     },
     "execution_count": 18,
     "metadata": {},
     "output_type": "execute_result"
    }
   ],
   "source": [
    "not state=='TX'"
   ]
  },
  {
   "cell_type": "markdown",
   "metadata": {},
   "source": [
    "The `not` operator may not seem very useful since the `!=` operator can produce the same outcome. "
   ]
  },
  {
   "cell_type": "code",
   "execution_count": 19,
   "metadata": {},
   "outputs": [
    {
     "data": {
      "text/plain": [
       "False"
      ]
     },
     "execution_count": 19,
     "metadata": {},
     "output_type": "execute_result"
    }
   ],
   "source": [
    "state!='MA'"
   ]
  },
  {
   "cell_type": "markdown",
   "metadata": {},
   "source": [
    "However, the `not` operator can be useful when combined with other Boolean operators. "
   ]
  },
  {
   "cell_type": "markdown",
   "metadata": {},
   "source": [
    "### Combining Boolean operators\n",
    "You can use multiple Boolean operators (**`and`**, **`or`**, & **`not`**) in a same statement. This is useful when you are interested in a complicated condition. For example,"
   ]
  },
  {
   "cell_type": "code",
   "execution_count": 20,
   "metadata": {},
   "outputs": [],
   "source": [
    "age = 23\n",
    "drink = 'yes'\n",
    "smoke = 'no'\n",
    "marijuana = 'no'"
   ]
  },
  {
   "cell_type": "code",
   "execution_count": 21,
   "metadata": {},
   "outputs": [
    {
     "data": {
      "text/plain": [
       "True"
      ]
     },
     "execution_count": 21,
     "metadata": {},
     "output_type": "execute_result"
    }
   ],
   "source": [
    "(age > 19) and (drink=='yes' or smoke=='yes' or marijuana=='yes')"
   ]
  },
  {
   "cell_type": "markdown",
   "metadata": {},
   "source": [
    "This statement evaluates whether a subject is older than 19 years and uses any substance (alcohol, tobacco, or marijuana). Or, "
   ]
  },
  {
   "cell_type": "code",
   "execution_count": 22,
   "metadata": {},
   "outputs": [
    {
     "data": {
      "text/plain": [
       "True"
      ]
     },
     "execution_count": 22,
     "metadata": {},
     "output_type": "execute_result"
    }
   ],
   "source": [
    "(age > 19) and not (drink=='no' and smoke=='no' and marijuana=='no')"
   ]
  },
  {
   "cell_type": "markdown",
   "metadata": {},
   "source": [
    "This statement evaluates whether a subject is older than 19 years and is a substance user. \n",
    "\n",
    "Like mathematical operators, Boolean operators have orders. Boolean operations are done in the following order\n",
    "\n",
    "  * Pathentheses **`()`**\n",
    "  * **`not`**\n",
    "  * **`and`**\n",
    "  * **`or`**\n",
    "\n",
    "Notice the difference:"
   ]
  },
  {
   "cell_type": "code",
   "execution_count": 25,
   "metadata": {},
   "outputs": [
    {
     "data": {
      "text/plain": [
       "True"
      ]
     },
     "execution_count": 25,
     "metadata": {},
     "output_type": "execute_result"
    }
   ],
   "source": [
    "age < 20 and smoke=='yes' or drink=='yes'"
   ]
  },
  {
   "cell_type": "code",
   "execution_count": 26,
   "metadata": {},
   "outputs": [
    {
     "data": {
      "text/plain": [
       "False"
      ]
     },
     "execution_count": 26,
     "metadata": {},
     "output_type": "execute_result"
    }
   ],
   "source": [
    "age < 20 and (smoke=='yes' or drink=='yes')"
   ]
  },
  {
   "cell_type": "markdown",
   "metadata": {},
   "source": [
    "### Exercise\n",
    "**Screening subjects**. Assume you have these variables:\n",
    "```python\n",
    "age = 33\t\t\t# age\n",
    "smoke = 'yes'\t\t# tobacco user (yes or no)\n",
    "marijuana = 'no' \t# marijuana user (yes or no)\n",
    "hand = 'right'\t\t# handedness (left or right)\n",
    "respTime = 350\t\t# response time (in ms)\n",
    "```\n",
    "Then write expressions to evaluate whether the subject meets the following inclusion criteria for a study:\n",
    "  1. Left-handed non-smokers.\n",
    "  2. Teenagers (age between 13 and 19, inclusive).\n",
    "  3. Adults 21 years or older who use both tobacco and marijuana\n",
    "  4. Older adults (65 years or older) whose response time is less than 500ms\n",
    "  5. Right-handed older adults (65 years or older) who uses either tobacco or marijuana.\n"
   ]
  },
  {
   "cell_type": "markdown",
   "metadata": {},
   "source": [
    "# 3. Conditional execution\n",
    "<hr style=\"height:1px;border:none\" />"
   ]
  },
  {
   "cell_type": "markdown",
   "metadata": {},
   "source": [
    "So far, we've learned about how to evaluate conditions. Now, we will learn how to execute a statement only when certain conditions are met. To do so, we can use the **`if`** statement:\n",
    "```python\n",
    "if [condition]:\n",
    "    [execute something]\n",
    "```\n",
    "Only when the condition is met, the indented statement is executed. The following program is an example."
   ]
  },
  {
   "cell_type": "markdown",
   "metadata": {},
   "source": [
    "`<IfExample1.py>`"
   ]
  },
  {
   "cell_type": "code",
   "execution_count": null,
   "metadata": {
    "collapsed": true
   },
   "outputs": [],
   "source": [
    "age = 23\n",
    "hand = 'right'\n",
    "# evaluating the age requirement\n",
    "if age>=18:\n",
    "    print('The age requirement is met')\n",
    "\n",
    "# evaluating the handedness requirement\n",
    "if hand=='right':\n",
    "    print('The handedness requirement is met')"
   ]
  },
  {
   "cell_type": "markdown",
   "metadata": {},
   "source": [
    "In the `if` statement, the age requirement is evaluated (`age>=18`). In the second\n",
    "`if` statement, the handedness requirement is evaluated (`hand=='right'`).\n",
    "When you write an if statement, here are some rules you need to remember.\n",
    "\n",
    "  - After the condition, the line has to end with a colon (**`:`**).\n",
    "  - The statement to be executed has to be *indented*.\n",
    "\n",
    "An `if` statement can have multiple conditions with Boolean operators. Moreover,\n",
    "you can execute multiple statements when the condition is met. Here is an\n",
    "example."
   ]
  },
  {
   "cell_type": "markdown",
   "metadata": {},
   "source": [
    "`<IfExample2.py>`"
   ]
  },
  {
   "cell_type": "code",
   "execution_count": null,
   "metadata": {
    "collapsed": true
   },
   "outputs": [],
   "source": [
    "age = 23\n",
    "hand = 'right'\n",
    "# evaluating the age and handedness requirements at once\n",
    "if (age>=18) and (hand=='right'):\n",
    "    print('The age is ' + str(age) + ' years old.')\n",
    "    print('The handedness is ' + hand + '-handed.')\n",
    "    print('Meeting all the requirements.')"
   ]
  },
  {
   "cell_type": "markdown",
   "metadata": {},
   "source": [
    "A group of indented statements are often referred as a ***block***. In Python, indented\n",
    "blocks make programs more readable."
   ]
  },
  {
   "cell_type": "markdown",
   "metadata": {},
   "source": [
    "### Exercise\n",
    "**Password**. Write a program to do the following. First, it asks the user to\n",
    "enter the password. Then the program evaluates if the entered password is the same\n",
    "as the password you have chosen before (stored in a variable **`truePassword`**). If the entered password is correct, it prints out a message \"Correct password!\"."
   ]
  },
  {
   "cell_type": "markdown",
   "metadata": {},
   "source": [
    "# 4. When a condition is not met\n",
    "<hr style=\"height:1px;border:none\" />"
   ]
  },
  {
   "cell_type": "markdown",
   "metadata": {},
   "source": [
    "If the condition is not met, then you still want to execute some other statements.\n",
    "In that case, we use an **`else`** statement. An `else` statement is always used with\n",
    "an `if` statement:\n",
    "```python\n",
    "if [condition]:\n",
    "    [execute something]\n",
    "else:\n",
    "    [execute other thing]\n",
    "```\n",
    "Here is an example of an `if...else` statement."
   ]
  },
  {
   "cell_type": "markdown",
   "metadata": {},
   "source": [
    "`<IfElseExample1.py>`"
   ]
  },
  {
   "cell_type": "code",
   "execution_count": 21,
   "metadata": {},
   "outputs": [
    {
     "name": "stdout",
     "output_type": "stream",
     "text": [
      "You did not meet the age criterion\n"
     ]
    }
   ],
   "source": [
    "age = 44\n",
    "if age<20:\n",
    "    print('You met the age criterion')\n",
    "else:\n",
    "    print('You did not meet the age criterion')"
   ]
  },
  {
   "cell_type": "markdown",
   "metadata": {},
   "source": [
    "Like `if` statements, `else` statements end with a colon followed by a block of\n",
    "indented codes. Moreover, similar to `if` statements, `else` statements can\n",
    "include a block with multiple lines. Here is an example."
   ]
  },
  {
   "cell_type": "markdown",
   "metadata": {},
   "source": [
    "`<IfElseExample2.py>`"
   ]
  },
  {
   "cell_type": "code",
   "execution_count": 22,
   "metadata": {},
   "outputs": [
    {
     "name": "stdout",
     "output_type": "stream",
     "text": [
      "Age requirement: younger than 20\n",
      "Handedness requirement: right-handed\n",
      "You did not meet either requirement\n"
     ]
    }
   ],
   "source": [
    "age = 44\n",
    "hand = 'left'\n",
    "if (age<20) & (hand=='right'):\n",
    "    print('The age is ' + str(age) + ' years old.')\n",
    "    print('The handedness is ' + hand + '-handed.')\n",
    "    print('Meeting all the requirements.')\n",
    "else:\n",
    "    print('Age requirement: younger than 20')\n",
    "    print('Handedness requirement: right-handed')\n",
    "    print('You did not meet either requirement')"
   ]
  },
  {
   "cell_type": "markdown",
   "metadata": {},
   "source": [
    "### Exercise\n",
    "1. **Reward**. A certain bookstore has a reward program. If a customer buys 8 books or more, or spends `$`150 or more, then the store will give that customer 5`%` of the spent amount as store credit. Write a program to ask the customer (1) how many books were purchased and (2) how much money, in total, was spent on that transaction. The program determines whether the customer's purchase meets the criteria for the reward. If the customer is to be rewarded, it prints out a message \"here is your reward\" along with the amount of the reward. Otherwise, it prints out a message \"no reward today, sorry\"."
   ]
  },
  {
   "cell_type": "markdown",
   "metadata": {},
   "source": [
    "# 5. More conditions\n",
    "<hr style=\"height:1px;border:none\" />"
   ]
  },
  {
   "cell_type": "markdown",
   "metadata": {},
   "source": [
    "Say, the condition in an `if` statement is not met. Then you may want to evaluate\n",
    "another condition using another `if` statement, under the `else` statement. For\n",
    "example,"
   ]
  },
  {
   "cell_type": "markdown",
   "metadata": {},
   "source": [
    "`<IfElifExample1.py>`"
   ]
  },
  {
   "cell_type": "code",
   "execution_count": null,
   "metadata": {
    "collapsed": true
   },
   "outputs": [],
   "source": [
    "age = 19\n",
    "hand = 'left'\n",
    "if (age<20) & (hand=='right'):\n",
    "    print('Meeting all the requirements.')\n",
    "else:\n",
    "    if age<20:\n",
    "           print('Age requirement is met')\n",
    "    else:\n",
    "        print('None of the requirements is met')"
   ]
  },
  {
   "cell_type": "markdown",
   "metadata": {},
   "source": [
    "If an `if` statement is followed immediately after an `else` statement, then you can\n",
    "combine `else` and `if` into an **`elif`** statement.\n",
    "```python\n",
    "if [condition]:\n",
    "    [execute something]\n",
    "elif [another condition]:\n",
    "    [execute other thing]\n",
    "else:\n",
    "    [execute something different]\n",
    "```\n",
    "Like `if` and `else` statements, an `elif` statement is followed by a block of\n",
    "codes to be executed only when the condition is met. Here is an example of an\n",
    "`elif` statement."
   ]
  },
  {
   "cell_type": "markdown",
   "metadata": {},
   "source": [
    "`<IfElifExample2.py>`"
   ]
  },
  {
   "cell_type": "code",
   "execution_count": null,
   "metadata": {
    "collapsed": true
   },
   "outputs": [],
   "source": [
    "age = 19\n",
    "hand = 'left'\n",
    "if (age<20) & (hand=='right'):\n",
    "    print('Meeting all the requirements.')\n",
    "elif age<20:\n",
    "    print('Age requirement is met')\n",
    "else:\n",
    "    print('None of the requirements is met')"
   ]
  },
  {
   "cell_type": "markdown",
   "metadata": {},
   "source": [
    "### Exercise\n",
    "1. **Shipping fee**. An online merchant charges different shipping fees depending on how much a buyer spends.\n",
    "\n",
    "|                  |              |\n",
    "| :--              | :--:         |\n",
    "| Amount spent     | Shipping fee |\n",
    "| Less than `$`50: | 6`%` of amount spent |\n",
    "| `$`50-`$`99.99:  | 4`%` of amount spent |\n",
    "| `$`100-`$`149.99:| 2`%` of amount spent |\n",
    "| `$`150 or more:  | Free         |\n",
    "\n",
    "Write a program to calculate shipping fees depending on the spending by the buyer."
   ]
  }
 ],
 "metadata": {
  "kernelspec": {
   "display_name": "Python 3",
   "language": "python",
   "name": "python3"
  },
  "language_info": {
   "codemirror_mode": {
    "name": "ipython",
    "version": 3
   },
   "file_extension": ".py",
   "mimetype": "text/x-python",
   "name": "python",
   "nbconvert_exporter": "python",
   "pygments_lexer": "ipython3",
   "version": "3.5.5"
  }
 },
 "nbformat": 4,
 "nbformat_minor": 2
}
