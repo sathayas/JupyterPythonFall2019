{
 "cells": [
  {
   "cell_type": "markdown",
   "metadata": {},
   "source": [
    "<p style=\"text-align:center\">\n",
    "PSY 341K <b>Python Coding for Psychological Sciences</b>, Fall 2019\n",
    "\n",
    "<img src=\"https://github.com/sathayas/JupyterPythonFall2019/blob/master/Images/PythonLogo.png?raw=true\" alt=\"Python logo\" width=\"400\">\n",
    "</p>\n",
    "\n",
    "<h1 style=\"text-align:center\"> String manipulation </h1>\n",
    "\n",
    "<h4 style=\"text-align:center\"> October 1, 2019 </h4>\n",
    "<hr style=\"height:5px;border:none\" />\n",
    "<p>"
   ]
  },
  {
   "cell_type": "markdown",
   "metadata": {},
   "source": [
    "# 1. Escape characters\n",
    "<hr style=\"height:1px;border:none\" />"
   ]
  },
  {
   "cell_type": "markdown",
   "metadata": {},
   "source": [
    "At the beginning of the semester, we covered that, in order to print a string with a\n",
    "quotation mark (`'`), we can use double quotations (`\"`)."
   ]
  },
  {
   "cell_type": "code",
   "execution_count": 1,
   "metadata": {},
   "outputs": [
    {
     "name": "stdout",
     "output_type": "stream",
     "text": [
      "O'Rilley Auto Parts\n"
     ]
    }
   ],
   "source": [
    "print(\"O'Rilley Auto Parts\")"
   ]
  },
  {
   "cell_type": "markdown",
   "metadata": {},
   "source": [
    "But what if we want to print double quotation marks? Here is how to do it."
   ]
  },
  {
   "cell_type": "code",
   "execution_count": 2,
   "metadata": {},
   "outputs": [
    {
     "name": "stdout",
     "output_type": "stream",
     "text": [
      "The conductor said, \"the door is closing.\"\n"
     ]
    }
   ],
   "source": [
    "print('The conductor said, \\\"the door is closing.\\\"')"
   ]
  },
  {
   "cell_type": "markdown",
   "metadata": {},
   "source": [
    "In other words, we use `\\\"` in place of `\"` to indicate a double quotation mark. This\n",
    "is an example of **escape characters**, special characters used as part of a string.\n",
    "Here are some examples.\n",
    "\n",
    "|                 |                 |\n",
    "|:--              |:--              |\n",
    "|Escape character |Printed as       |\n",
    "|`\\'`             |Single quotation |\n",
    "|`\\\"`             |Double quotation |\n",
    "|`\\t`             |Tab              |\n",
    "|`\\n`             |New line         |\n",
    "|`\\\\`             |Backslash        |\n",
    "\n"
   ]
  },
  {
   "cell_type": "markdown",
   "metadata": {},
   "source": [
    "Here are some examples of the escape characters:"
   ]
  },
  {
   "cell_type": "code",
   "execution_count": 3,
   "metadata": {},
   "outputs": [
    {
     "name": "stdout",
     "output_type": "stream",
     "text": [
      "O'Reilly Auto Parts\n"
     ]
    }
   ],
   "source": [
    "print('O\\'Reilly Auto Parts')"
   ]
  },
  {
   "cell_type": "code",
   "execution_count": 4,
   "metadata": {},
   "outputs": [
    {
     "name": "stdout",
     "output_type": "stream",
     "text": [
      "This statement \n",
      "is a multi-line \n",
      "statement.\n"
     ]
    }
   ],
   "source": [
    "print('This statement \\nis a multi-line \\nstatement.')"
   ]
  },
  {
   "cell_type": "code",
   "execution_count": 5,
   "metadata": {},
   "outputs": [
    {
     "name": "stdout",
     "output_type": "stream",
     "text": [
      "Key\tFunction\n",
      "F11\tShow desktop\n",
      "F3\tMission control\n"
     ]
    }
   ],
   "source": [
    "print('Key\\tFunction\\nF11\\tShow desktop\\nF3\\tMission control')"
   ]
  },
  {
   "cell_type": "markdown",
   "metadata": {},
   "source": [
    "### Exercise\n",
    "Write a print statement to print out the following:\n",
    "1. `A writer's block is a \"myth.\"`\n",
    "2. \n",
    "```\n",
    "Short cut    Function\n",
    "CTRL+C       Copy\n",
    "CTRL+V       Paste\n",
    "```\n"
   ]
  },
  {
   "cell_type": "markdown",
   "metadata": {},
   "source": [
    "# 2. Changing cases\n",
    "<hr style=\"height:1px;border:none\" />"
   ]
  },
  {
   "cell_type": "markdown",
   "metadata": {},
   "source": [
    "Say, you have a program to ask the user to enter his/her favorite fruit."
   ]
  },
  {
   "cell_type": "markdown",
   "metadata": {},
   "source": [
    "[`<FavoriteFruits.py>`](https://github.com/sathayas/PythonClassFall2019/blob/master/stringExamples/FavoriteFruits.py)"
   ]
  },
  {
   "cell_type": "code",
   "execution_count": null,
   "metadata": {},
   "outputs": [],
   "source": [
    "print('What is your favorite fruit?')\n",
    "userFruit = input()\n",
    "\n",
    "if userFruit == 'apple':\n",
    "    print('I like ' + userFruit + ' too.')\n",
    "else:\n",
    "    print('I eat ' + userFruit + ' occasionally')"
   ]
  },
  {
   "cell_type": "markdown",
   "metadata": {},
   "source": [
    "You can try entering `'apple'` and `'Apple'` and see what happens. If you enter\n",
    "`'apple'`, then the program prints out `'I like apple too'`. However, if you\n",
    "enter `'Apple'` instead, it prints out `'I eat Apple occasionally'` instead.\n",
    "Why? This is because string data are case sensitive in Python. In other words,\n",
    "`'apple'` and `'Apple'` are treated as two different strings.\n",
    "\n",
    "One way to overcome this challenge is to use the **`upper()`** and **`lower()`**\n",
    "methods for strings. As you can guess from their names, you can use the\n",
    "`upper()` method with a string to make it all CAPS."
   ]
  },
  {
   "cell_type": "code",
   "execution_count": 2,
   "metadata": {},
   "outputs": [
    {
     "data": {
      "text/plain": [
       "'APPLE'"
      ]
     },
     "execution_count": 2,
     "metadata": {},
     "output_type": "execute_result"
    }
   ],
   "source": [
    "'apple'.upper()"
   ]
  },
  {
   "cell_type": "code",
   "execution_count": 3,
   "metadata": {},
   "outputs": [
    {
     "data": {
      "text/plain": [
       "'apple'"
      ]
     },
     "execution_count": 3,
     "metadata": {},
     "output_type": "execute_result"
    }
   ],
   "source": [
    "'APPLE'.lower()"
   ]
  },
  {
   "cell_type": "markdown",
   "metadata": {},
   "source": [
    "And likewise the `lower()` method changes a string to all lower case. With the\n",
    "`lower()` method, we can revise the previous program as"
   ]
  },
  {
   "cell_type": "code",
   "execution_count": null,
   "metadata": {
    "collapsed": true
   },
   "outputs": [],
   "source": [
    "print('What is your favorite fruit?')\n",
    "userFruit = input().lower()\n",
    "\n",
    "if userFruit == 'apple':\n",
    "    print('I like ' + userFruit + ' too.')\n",
    "else:\n",
    "    print('I eat ' + userFruit + ' occasionally')"
   ]
  },
  {
   "cell_type": "markdown",
   "metadata": {},
   "source": [
    "and the program becomes case insensitive since the input is converted to the\n",
    "lower case.\n",
    "\n",
    "There are methods to check cases, **`isupper()`** and **`islower()`**. You can use\n",
    "whether a word consists entirely of upper or lower case letters."
   ]
  },
  {
   "cell_type": "code",
   "execution_count": 4,
   "metadata": {},
   "outputs": [
    {
     "data": {
      "text/plain": [
       "True"
      ]
     },
     "execution_count": 4,
     "metadata": {},
     "output_type": "execute_result"
    }
   ],
   "source": [
    "word = 'NCAA'\n",
    "word.isupper()"
   ]
  },
  {
   "cell_type": "code",
   "execution_count": 5,
   "metadata": {},
   "outputs": [
    {
     "data": {
      "text/plain": [
       "False"
      ]
     },
     "execution_count": 5,
     "metadata": {},
     "output_type": "execute_result"
    }
   ],
   "source": [
    "word = 'Python'\n",
    "word.isupper()"
   ]
  },
  {
   "cell_type": "code",
   "execution_count": 6,
   "metadata": {},
   "outputs": [
    {
     "data": {
      "text/plain": [
       "True"
      ]
     },
     "execution_count": 6,
     "metadata": {},
     "output_type": "execute_result"
    }
   ],
   "source": [
    "word = 'austin'\n",
    "word.islower()"
   ]
  },
  {
   "cell_type": "markdown",
   "metadata": {},
   "source": [
    "Since a string can be treated like a list, you can manipulate or evaluate a sub-string (or a part of a string)."
   ]
  },
  {
   "cell_type": "code",
   "execution_count": 7,
   "metadata": {},
   "outputs": [
    {
     "data": {
      "text/plain": [
       "'Austin'"
      ]
     },
     "execution_count": 7,
     "metadata": {},
     "output_type": "execute_result"
    }
   ],
   "source": [
    "newWord = word[0].upper() + word[1:]\n",
    "newWord"
   ]
  },
  {
   "cell_type": "code",
   "execution_count": 8,
   "metadata": {},
   "outputs": [
    {
     "data": {
      "text/plain": [
       "True"
      ]
     },
     "execution_count": 8,
     "metadata": {},
     "output_type": "execute_result"
    }
   ],
   "source": [
    "newWord[0].isupper()"
   ]
  },
  {
   "cell_type": "markdown",
   "metadata": {},
   "source": [
    "### Exercise\n",
    "1. **Day of the week**. Write a program to ask the user enter a day of the week. Regardless of upper case or low case letters in the user input, the program prints out the day of the week in the following format:\n",
    "```\n",
    "Monday\n",
    "Thursday\n",
    "...\n",
    "```\n",
    "In other words, the first character is in upper case, and the rest of the string is in lower case."
   ]
  },
  {
   "cell_type": "markdown",
   "metadata": {},
   "source": [
    "# 3. Examining character types\n",
    "<hr style=\"height:1px;border:none\" />"
   ]
  },
  {
   "cell_type": "markdown",
   "metadata": {},
   "source": [
    "There are some methods for string data, useful for examining user input.\n",
    "  * **`isalpha()`** - `True` when a string consists of letters, not blank or numbers\n",
    "  * **`isalnum()`** - `True` when a string consists of letters and numbers, *not blank or special characters*\n",
    "  * **`isdecimal()`** - `True` when a string consists of numeric characters only.\n",
    "\n",
    "Here are some examples"
   ]
  },
  {
   "cell_type": "markdown",
   "metadata": {},
   "source": [
    "[`<InputCheck.py>`](https://github.com/sathayas/PythonClassFall2019/blob/master/stringExamples/InputCheck.py)"
   ]
  },
  {
   "cell_type": "code",
   "execution_count": null,
   "metadata": {},
   "outputs": [],
   "source": [
    "while True:\n",
    "    print('Please enter your 5-digit ZIP code')\n",
    "    yourZIP = input()\n",
    "    if yourZIP.isdecimal():\n",
    "        break\n",
    "    print('A ZIP code can only have numbers')\n",
    "\n",
    "while True:\n",
    "    print('Please enter a word')\n",
    "    yourWord = input()\n",
    "    if yourWord.isalpha():\n",
    "        break\n",
    "    print('That is not a proper word. Try again')\n",
    "\n",
    "while True:\n",
    "    print('Choose a new password (letters and numbers only)')\n",
    "    yourPassword = input()\n",
    "    if yourPassword.isalnum():\n",
    "        break\n",
    "    print('That is not a proper password. Try again')"
   ]
  },
  {
   "cell_type": "markdown",
   "metadata": {},
   "source": [
    "You can try these with intentionally entering invalid entries."
   ]
  },
  {
   "cell_type": "markdown",
   "metadata": {},
   "source": [
    "### Exercise\n",
    "1. **Last name or UT EID**. Write a program to ask the user to enter his/her last name or UT EID. The program determines whether input is a last name or a UT EID, and prints out either of the following:\n",
    " * Your last name is REDENBACHER\n",
    " * Your UT EID is 'or54321'\n",
    " \n",
    "Notice that all the letters are in upper case for the last name, whereas all the letters are in lower case for the UT EID. You can assume that the last name consists solely of alphabets (no hyphens or apostrophe)."
   ]
  },
  {
   "cell_type": "markdown",
   "metadata": {},
   "source": [
    "# 4. `split()` and `join()` methods\n",
    "<hr style=\"height:1px;border:none\" />"
   ]
  },
  {
   "cell_type": "markdown",
   "metadata": {},
   "source": [
    "When you have a long string, you can split it by the **`split()`** method."
   ]
  },
  {
   "cell_type": "code",
   "execution_count": 19,
   "metadata": {},
   "outputs": [
    {
     "data": {
      "text/plain": [
       "['Python', 'is', 'a', 'widely', 'used', 'programming', 'language.']"
      ]
     },
     "execution_count": 19,
     "metadata": {},
     "output_type": "execute_result"
    }
   ],
   "source": [
    "text = 'Python is a widely used programming language.'\n",
    "text.split()"
   ]
  },
  {
   "cell_type": "markdown",
   "metadata": {},
   "source": [
    "By default, the `split()` method splits a string by white space characters\n",
    "(space, new line `\\n`, and tab `\\t`). The `split()` method produces a list of substrings.\n",
    "\n",
    "You can also specify the character separating sub-strings (also known as a\n",
    "*delimiter*). Here are examples."
   ]
  },
  {
   "cell_type": "code",
   "execution_count": 20,
   "metadata": {},
   "outputs": [
    {
     "data": {
      "text/plain": [
       "['cat', 'dog', 'horse', 'lion', 'moose']"
      ]
     },
     "execution_count": 20,
     "metadata": {},
     "output_type": "execute_result"
    }
   ],
   "source": [
    "listAnimals = 'cat,dog,horse,lion,moose'\n",
    "listAnimals.split(',')"
   ]
  },
  {
   "cell_type": "code",
   "execution_count": 22,
   "metadata": {},
   "outputs": [
    {
     "data": {
      "text/plain": [
       "['This is a multi-line text.',\n",
       " 'This includes multiple sentences on multiple lines.',\n",
       " 'Some lines may be short.',\n",
       " 'However, other lines may be longer, containing a larger number of words.',\n",
       " 'You can split this text, line by line, using the split() method.',\n",
       " '']"
      ]
     },
     "execution_count": 22,
     "metadata": {},
     "output_type": "execute_result"
    }
   ],
   "source": [
    "longText = '''This is a multi-line text.\n",
    "This includes multiple sentences on multiple lines.\n",
    "Some lines may be short.\n",
    "However, other lines may be longer, containing a larger number of words.\n",
    "You can split this text, line by line, using the split() method.\n",
    "'''\n",
    "longText.split('\\n')"
   ]
  },
  {
   "cell_type": "markdown",
   "metadata": {},
   "source": [
    "If you have a list of strings, then you can join them into a single string using the\n",
    "**`join()`** method. For example,"
   ]
  },
  {
   "cell_type": "code",
   "execution_count": 23,
   "metadata": {},
   "outputs": [
    {
     "data": {
      "text/plain": [
       "'cat, dog, horse, lion, moose'"
      ]
     },
     "execution_count": 23,
     "metadata": {},
     "output_type": "execute_result"
    }
   ],
   "source": [
    "animals = ['cat', 'dog', 'horse', 'lion', 'moose']\n",
    "', '.join(animals)"
   ]
  },
  {
   "cell_type": "code",
   "execution_count": 24,
   "metadata": {},
   "outputs": [
    {
     "data": {
      "text/plain": [
       "'cat & dog & horse & lion & moose'"
      ]
     },
     "execution_count": 24,
     "metadata": {},
     "output_type": "execute_result"
    }
   ],
   "source": [
    "' & '.join(animals)"
   ]
  },
  {
   "cell_type": "markdown",
   "metadata": {},
   "source": [
    "### Exercise\n",
    "1. **Word counter**. Write a ***function*** that takes a sentence as the input and counts the number of words in that sentence. You may assume that the sentence only includes letters and spaces. The number of words is returned from this function."
   ]
  },
  {
   "cell_type": "markdown",
   "metadata": {},
   "source": [
    "# 5. `replace()` method\n",
    "<hr style=\"height:1px;border:none\" />"
   ]
  },
  {
   "cell_type": "markdown",
   "metadata": {},
   "source": [
    "Say, you want to replace a certain sub-string from a string with another substring.\n",
    "For example, you want to replace the word \"is\" with \"was\". You can use\n",
    "the **`replace()`** method to do this."
   ]
  },
  {
   "cell_type": "code",
   "execution_count": 25,
   "metadata": {},
   "outputs": [
    {
     "data": {
      "text/plain": [
       "'This time, his bagel was freshly baked'"
      ]
     },
     "execution_count": 25,
     "metadata": {},
     "output_type": "execute_result"
    }
   ],
   "source": [
    "text = 'This time, his bagel is freshly baked'\n",
    "text.replace(' is ', ' was ')"
   ]
  },
  {
   "cell_type": "markdown",
   "metadata": {},
   "source": [
    "Noticed that a space was intentionally included before and after “is”. Without\n",
    "these spaces, the output becomes somewhat strange."
   ]
  },
  {
   "cell_type": "code",
   "execution_count": 26,
   "metadata": {},
   "outputs": [
    {
     "data": {
      "text/plain": [
       "'Thwas time, hwas bagel was freshly baked'"
      ]
     },
     "execution_count": 26,
     "metadata": {},
     "output_type": "execute_result"
    }
   ],
   "source": [
    "text.replace('is', 'was')"
   ]
  },
  {
   "cell_type": "markdown",
   "metadata": {},
   "source": [
    "Earlier you saw a sentence split into a list of words. However, the list includes\n",
    "punctuation marks."
   ]
  },
  {
   "cell_type": "code",
   "execution_count": 27,
   "metadata": {},
   "outputs": [
    {
     "data": {
      "text/plain": [
       "['Thus,',\n",
       " 'students',\n",
       " 'enjoy',\n",
       " 'learning',\n",
       " 'how',\n",
       " 'to',\n",
       " 'program',\n",
       " 'in',\n",
       " 'Python.']"
      ]
     },
     "execution_count": 27,
     "metadata": {},
     "output_type": "execute_result"
    }
   ],
   "source": [
    "statement = 'Thus, students enjoy learning how to program in Python.'\n",
    "statement.split()"
   ]
  },
  {
   "cell_type": "markdown",
   "metadata": {},
   "source": [
    "Notice `'Thus,'` instead of `'Thus'`, and `'Python.'` instead of `'Python'`. You\n",
    "can eliminate punctuation marks with the `replace()` method."
   ]
  },
  {
   "cell_type": "code",
   "execution_count": 28,
   "metadata": {},
   "outputs": [
    {
     "data": {
      "text/plain": [
       "['Thus',\n",
       " 'students',\n",
       " 'enjoy',\n",
       " 'learning',\n",
       " 'how',\n",
       " 'to',\n",
       " 'program',\n",
       " 'in',\n",
       " 'Python']"
      ]
     },
     "execution_count": 28,
     "metadata": {},
     "output_type": "execute_result"
    }
   ],
   "source": [
    "statement.replace(',','').replace('.','').split()"
   ]
  },
  {
   "cell_type": "markdown",
   "metadata": {},
   "source": [
    "### Exercise\n",
    "\n",
    "1. **De-punctuation**. Write a function that takes a sentence as an input parameter, and removes any punctuation marks\n",
    "  * `','` (comma)\n",
    "  * `'.'` (period)\n",
    "  * `'?'` (question mark)\n",
    "  * `'!'` (exclamation mark)\n",
    "  * `';'` (semicolon)\n",
    "  * `':'` (colon)\n",
    "  * `'/'` (forward slash)\n",
    "\n",
    "The function returns the processed sentence without punctuation marks."
   ]
  }
 ],
 "metadata": {
  "kernelspec": {
   "display_name": "Python 3",
   "language": "python",
   "name": "python3"
  },
  "language_info": {
   "codemirror_mode": {
    "name": "ipython",
    "version": 3
   },
   "file_extension": ".py",
   "mimetype": "text/x-python",
   "name": "python",
   "nbconvert_exporter": "python",
   "pygments_lexer": "ipython3",
   "version": "3.5.6"
  }
 },
 "nbformat": 4,
 "nbformat_minor": 2
}
