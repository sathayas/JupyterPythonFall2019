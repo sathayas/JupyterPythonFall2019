{
 "cells": [
  {
   "cell_type": "markdown",
   "metadata": {},
   "source": [
    "<p style=\"text-align:center\">\n",
    "PSY 341K <b>Python Coding for Psychological Sciences</b>, Fall 2019\n",
    "\n",
    "<img src=\"https://github.com/sathayas/JupyterPythonFall2019/blob/master/Images/PythonLogo.png?raw=true\" alt=\"Python logo\" width=\"400\">\n",
    "</p>\n",
    "\n",
    "<h1 style=\"text-align:center\"> Functions </h1>\n",
    "\n",
    "<h4 style=\"text-align:center\"> September 17, 2019 </h4>\n",
    "<hr style=\"height:5px;border:none\" />\n",
    "<p>"
   ]
  },
  {
   "cell_type": "markdown",
   "metadata": {},
   "source": [
    "# 1. Simple function\n",
    "<hr style=\"height:1px;border:none\" />"
   ]
  },
  {
   "cell_type": "markdown",
   "metadata": {},
   "source": [
    "Python has a number of built-in functions, such as `print()`, `range()`, `int()`,\n",
    "and `str()`, to name a few. You can write your own functions as well. Such\n",
    "functions are useful if you want to repeat the same process over and over again.\n",
    "To write a function, you start out with a **`def`** statement, followed by a function\n",
    "name, and a block of codes inside the function.\n",
    "```python\n",
    "def [function name]:\n",
    "    [Code block to be executed]\n",
    "```\n",
    "Here is a simple example."
   ]
  },
  {
   "cell_type": "markdown",
   "metadata": {},
   "source": [
    "[`<HelloWorld.py>`](https://github.com/sathayas/PythonClassFall2019/blob/master/funcExamples/HelloWorld.py)"
   ]
  },
  {
   "cell_type": "code",
   "execution_count": 3,
   "metadata": {},
   "outputs": [],
   "source": [
    "# function to print out Hello World!\n",
    "def HelloWorld():\n",
    "    print('Hello World!')"
   ]
  },
  {
   "cell_type": "markdown",
   "metadata": {},
   "source": [
    "One thing to note here is that running the function itself does not do anything. To execute the function, you have to **call** the function with its name."
   ]
  },
  {
   "cell_type": "code",
   "execution_count": 4,
   "metadata": {},
   "outputs": [
    {
     "name": "stdout",
     "output_type": "stream",
     "text": [
      "Hello World!\n"
     ]
    }
   ],
   "source": [
    "HelloWorld()"
   ]
  },
  {
   "cell_type": "markdown",
   "metadata": {},
   "source": [
    "Like `if`, `while`, and `for` statements, a **`def`** statement has to end with a colon\n",
    "(`:`). The function above, **`HelloWorld()`**, prints out a message \"Hello World!\" every time it is run (or often referred as *called*).\n",
    "\n",
    "You can call a function inside another function as well. For example,"
   ]
  },
  {
   "cell_type": "code",
   "execution_count": 5,
   "metadata": {},
   "outputs": [],
   "source": [
    "# function to print out Hello World! 110 times\n",
    "def HelloWorld10():\n",
    "    for i in range(10):\n",
    "        HelloWorld()"
   ]
  },
  {
   "cell_type": "markdown",
   "metadata": {},
   "source": [
    "Then executing the function **`HelloWorld10()`** results in \"Hello World!\" printed out 10 times."
   ]
  },
  {
   "cell_type": "code",
   "execution_count": 6,
   "metadata": {},
   "outputs": [
    {
     "name": "stdout",
     "output_type": "stream",
     "text": [
      "Hello World!\n",
      "Hello World!\n",
      "Hello World!\n",
      "Hello World!\n",
      "Hello World!\n",
      "Hello World!\n",
      "Hello World!\n",
      "Hello World!\n",
      "Hello World!\n",
      "Hello World!\n"
     ]
    }
   ],
   "source": [
    "HelloWorld10()"
   ]
  },
  {
   "cell_type": "markdown",
   "metadata": {},
   "source": [
    "# 2. Functions with parameters\n",
    "<hr style=\"height:1px;border:none\" />"
   ]
  },
  {
   "cell_type": "markdown",
   "metadata": {},
   "source": [
    "A function can take some inputs from a user when it is called. Such inputs are often referred as parameters. Here is a simple example."
   ]
  },
  {
   "cell_type": "markdown",
   "metadata": {},
   "source": [
    "[`<HelloName.py>`](https://github.com/sathayas/PythonClassFall2019/blob/master/funcExamples/HelloName.py)"
   ]
  },
  {
   "cell_type": "code",
   "execution_count": 1,
   "metadata": {},
   "outputs": [],
   "source": [
    "def HelloName(name):\n",
    "    print('Hello, ' + name + '!')"
   ]
  },
  {
   "cell_type": "markdown",
   "metadata": {},
   "source": [
    "When this function is called, an input parameter **`name`** is needed. For example, it can be called as"
   ]
  },
  {
   "cell_type": "code",
   "execution_count": 2,
   "metadata": {},
   "outputs": [
    {
     "name": "stdout",
     "output_type": "stream",
     "text": [
      "Hello, Satoru!\n"
     ]
    }
   ],
   "source": [
    "HelloName('Satoru')"
   ]
  },
  {
   "cell_type": "markdown",
   "metadata": {},
   "source": [
    "Or you can pass on a variable such as"
   ]
  },
  {
   "cell_type": "code",
   "execution_count": 3,
   "metadata": {},
   "outputs": [
    {
     "name": "stdout",
     "output_type": "stream",
     "text": [
      "What is your name? Hayasaka\n",
      "Hello, Hayasaka!\n"
     ]
    }
   ],
   "source": [
    "nameInput = input('What is your name? ')\n",
    "HelloName(nameInput)"
   ]
  },
  {
   "cell_type": "markdown",
   "metadata": {},
   "source": [
    "You may notice that the parameter for this function is a variable named **`nameInput`**, not **`name`**. In other words, they don’t have the same name. This is OK because the value of `nameInput` is passed on and stored in another variable `name` inside the function `HelloName()`. We will learn more about this later.\n",
    "\n",
    "Here is another example of a function. This function has more than one input parameters, separated by a comma."
   ]
  },
  {
   "cell_type": "markdown",
   "metadata": {},
   "source": [
    "[`<HandednessAge.py>`](https://github.com/sathayas/PythonClassFall2019/blob/master/funcExamples/HandednessAge.py)"
   ]
  },
  {
   "cell_type": "code",
   "execution_count": 4,
   "metadata": {},
   "outputs": [],
   "source": [
    "def HandednessAge(hand, age):\n",
    "    # hand: Handedness, 'left' or 'right'\n",
    "    # age: Age in years\n",
    "    print('You are ' + str(age) + ' years old and ' + hand + '-handed.')"
   ]
  },
  {
   "cell_type": "markdown",
   "metadata": {},
   "source": [
    "Here, the first parameter **`hand`** is the handedness (either `'left'` or `'right'`), and the second parameter **`age`** is the age in years. You can call this function as:"
   ]
  },
  {
   "cell_type": "code",
   "execution_count": 5,
   "metadata": {},
   "outputs": [
    {
     "name": "stdout",
     "output_type": "stream",
     "text": [
      "You are 33 years old and right-handed.\n"
     ]
    }
   ],
   "source": [
    "HandednessAge('right', 33)"
   ]
  },
  {
   "cell_type": "code",
   "execution_count": 6,
   "metadata": {},
   "outputs": [
    {
     "name": "stdout",
     "output_type": "stream",
     "text": [
      "You are 18 years old and left-handed.\n"
     ]
    }
   ],
   "source": [
    "HandednessAge('left',18)"
   ]
  },
  {
   "cell_type": "markdown",
   "metadata": {},
   "source": [
    "However, if you omit one of the parameters, you will get an error."
   ]
  },
  {
   "cell_type": "code",
   "execution_count": 7,
   "metadata": {},
   "outputs": [
    {
     "ename": "TypeError",
     "evalue": "HandednessAge() missing 1 required positional argument: 'age'",
     "output_type": "error",
     "traceback": [
      "\u001b[0;31m---------------------------------------------------------------------------\u001b[0m",
      "\u001b[0;31mTypeError\u001b[0m                                 Traceback (most recent call last)",
      "\u001b[0;32m<ipython-input-7-516995df6c59>\u001b[0m in \u001b[0;36m<module>\u001b[0;34m()\u001b[0m\n\u001b[0;32m----> 1\u001b[0;31m \u001b[0mHandednessAge\u001b[0m\u001b[0;34m(\u001b[0m\u001b[0;34m'right'\u001b[0m\u001b[0;34m)\u001b[0m\u001b[0;34m\u001b[0m\u001b[0m\n\u001b[0m",
      "\u001b[0;31mTypeError\u001b[0m: HandednessAge() missing 1 required positional argument: 'age'"
     ]
    }
   ],
   "source": [
    "HandednessAge('right')"
   ]
  },
  {
   "cell_type": "markdown",
   "metadata": {},
   "source": [
    "Also, the order of the parameters is important. If you switch the handedness and age, you get an error."
   ]
  },
  {
   "cell_type": "code",
   "execution_count": 8,
   "metadata": {},
   "outputs": [
    {
     "ename": "TypeError",
     "evalue": "must be str, not int",
     "output_type": "error",
     "traceback": [
      "\u001b[0;31m---------------------------------------------------------------------------\u001b[0m",
      "\u001b[0;31mTypeError\u001b[0m                                 Traceback (most recent call last)",
      "\u001b[0;32m<ipython-input-8-c80f56d5a455>\u001b[0m in \u001b[0;36m<module>\u001b[0;34m()\u001b[0m\n\u001b[0;32m----> 1\u001b[0;31m \u001b[0mHandednessAge\u001b[0m\u001b[0;34m(\u001b[0m\u001b[0;36m18\u001b[0m\u001b[0;34m,\u001b[0m\u001b[0;34m'left'\u001b[0m\u001b[0;34m)\u001b[0m\u001b[0;34m\u001b[0m\u001b[0m\n\u001b[0m",
      "\u001b[0;32m<ipython-input-4-d0520660e146>\u001b[0m in \u001b[0;36mHandednessAge\u001b[0;34m(hand, age)\u001b[0m\n\u001b[1;32m      2\u001b[0m     \u001b[0;31m# hand: Handedness, 'left' or 'right'\u001b[0m\u001b[0;34m\u001b[0m\u001b[0;34m\u001b[0m\u001b[0m\n\u001b[1;32m      3\u001b[0m     \u001b[0;31m# age: Age in years\u001b[0m\u001b[0;34m\u001b[0m\u001b[0;34m\u001b[0m\u001b[0m\n\u001b[0;32m----> 4\u001b[0;31m     \u001b[0mprint\u001b[0m\u001b[0;34m(\u001b[0m\u001b[0;34m'You are '\u001b[0m \u001b[0;34m+\u001b[0m \u001b[0mstr\u001b[0m\u001b[0;34m(\u001b[0m\u001b[0mage\u001b[0m\u001b[0;34m)\u001b[0m \u001b[0;34m+\u001b[0m \u001b[0;34m' years old and '\u001b[0m \u001b[0;34m+\u001b[0m \u001b[0mhand\u001b[0m \u001b[0;34m+\u001b[0m \u001b[0;34m'-handed.'\u001b[0m\u001b[0;34m)\u001b[0m\u001b[0;34m\u001b[0m\u001b[0m\n\u001b[0m",
      "\u001b[0;31mTypeError\u001b[0m: must be str, not int"
     ]
    }
   ],
   "source": [
    "HandednessAge(18,'left')"
   ]
  },
  {
   "cell_type": "markdown",
   "metadata": {},
   "source": [
    "However, if you specify the input parameters by their names (**`hand=`** and **`age=`**), then the order you enter the input parameters does not matter. For example,"
   ]
  },
  {
   "cell_type": "code",
   "execution_count": 9,
   "metadata": {},
   "outputs": [
    {
     "name": "stdout",
     "output_type": "stream",
     "text": [
      "You are 18 years old and left-handed.\n"
     ]
    }
   ],
   "source": [
    "HandednessAge(age=18, hand='left')"
   ]
  },
  {
   "cell_type": "markdown",
   "metadata": {},
   "source": [
    "This is particularly useful when you are dealing with a function with a large number of input parameters."
   ]
  },
  {
   "cell_type": "markdown",
   "metadata": {},
   "source": [
    "### Exercise\n",
    "1. **A phrase, repeated**. Write a function with two input parameters: a phrase (a string) and a number (integer between 1 and 9). The function then prints out the phrase repeated as many times as the integer input. For example, if the input parameters are **`'Wow!'`** and **`3`**, then the function prints out `'Wow! Wow! Wow! '` (notice the space between phrases)."
   ]
  },
  {
   "cell_type": "markdown",
   "metadata": {},
   "source": [
    "# 3. Functions returning values\n",
    "<hr style=\"height:1px;border:none\" />"
   ]
  },
  {
   "cell_type": "markdown",
   "metadata": {},
   "source": [
    "So far, the functions we have written print out the output. This may works fine if we are to call these functions just a few times. But say, if you want to run a certain function 5,000 times. Then it would be very annoying to see 5,000 lines of output displayed on your terminal.\n",
    "\n",
    "You can write functions that return values, instead of printing them out, based on the input parameters. This way, you can store values returned from a function into a variable without seeing each output line on your terminal. For example, here is a simple temperature conversion function (F to C)."
   ]
  },
  {
   "cell_type": "markdown",
   "metadata": {},
   "source": [
    "[`<TempConversion.py>`](https://github.com/sathayas/PythonClassFall2019/blob/master/funcExamples/TempConversion.py)"
   ]
  },
  {
   "cell_type": "code",
   "execution_count": 10,
   "metadata": {},
   "outputs": [],
   "source": [
    "# F to C temperature conversion function\n",
    "def FtoC(tempF):\n",
    "    tempC = (tempF - 32) * (5/9)\n",
    "    return tempC"
   ]
  },
  {
   "cell_type": "markdown",
   "metadata": {},
   "source": [
    "This function converts the temperature in Fahrenheit (the input parameter, tempF) to the temperature in Celsius, and returns it. Try using the **`FtoC`** function by running these."
   ]
  },
  {
   "cell_type": "code",
   "execution_count": 11,
   "metadata": {},
   "outputs": [
    {
     "name": "stdout",
     "output_type": "stream",
     "text": [
      "-28.88888888888889\n"
     ]
    }
   ],
   "source": [
    "print(FtoC(-20))"
   ]
  },
  {
   "cell_type": "code",
   "execution_count": 12,
   "metadata": {},
   "outputs": [
    {
     "name": "stdout",
     "output_type": "stream",
     "text": [
      "-17.77777777777778\n"
     ]
    }
   ],
   "source": [
    "print(FtoC(0))"
   ]
  },
  {
   "cell_type": "code",
   "execution_count": 13,
   "metadata": {},
   "outputs": [
    {
     "name": "stdout",
     "output_type": "stream",
     "text": [
      "37.77777777777778\n"
     ]
    }
   ],
   "source": [
    "print(FtoC(100))"
   ]
  },
  {
   "cell_type": "markdown",
   "metadata": {},
   "source": [
    "A function returns the variable(s) specified at the **`return`** statement. The `return` statement can include multiple variables. For example,"
   ]
  },
  {
   "cell_type": "code",
   "execution_count": 14,
   "metadata": {},
   "outputs": [],
   "source": [
    "# F to C temperature conversion function, returning both temperatures\n",
    "def FtoC_ReturnBoth(tempF):\n",
    "    tempC = (tempF - 32) * (5/9)\n",
    "    return tempC, tempF"
   ]
  },
  {
   "cell_type": "markdown",
   "metadata": {},
   "source": [
    "returns both temperatures in Celsius (**`tempC`**) and Fahrenheit (**`tempF`**). You can run this function by"
   ]
  },
  {
   "cell_type": "code",
   "execution_count": 15,
   "metadata": {},
   "outputs": [
    {
     "name": "stdout",
     "output_type": "stream",
     "text": [
      "90 degree Fahrenheit = 32.22222222222222 degree Celsius\n"
     ]
    }
   ],
   "source": [
    "C, F = FtoC_ReturnBoth(90)\n",
    "print(str(F) +' degree Fahrenheit = '+ str(C) +' degree Celsius')"
   ]
  },
  {
   "cell_type": "markdown",
   "metadata": {},
   "source": [
    "Notice that the returned values are stored in variables C and F. They correspond to the variables listed in the return statement, in the order listed. "
   ]
  },
  {
   "cell_type": "markdown",
   "metadata": {},
   "source": [
    "### Exercise\n",
    "1. **Metric system conversion**. Write a function that takes two input parameters: feet and inches. Then the function converts these units to the metric system and returns meters (m) and\n",
    "centimeters (cm) as return parameters. ***These are returned as return parameters, not to be printed out.*** For conversion, you may use the formula:\n",
    "\n",
    "  * 1 ft = 30.48cm\n",
    "  * 1 in = 2.54cm\n",
    "  * 1 m = 100cm\n",
    "\n",
    "  ***Hint 1***: *It is easier to determine the length in cm, then convert it to m and cm.*\n",
    "\n",
    "  ***Hint 2***: *You can use the integer division operator `//` to calculate m and the remainder operator **`%`** to calculate cm.*"
   ]
  },
  {
   "cell_type": "markdown",
   "metadata": {},
   "source": [
    "# 4. Default input value\n",
    "<hr style=\"height:1px;border:none\" />"
   ]
  },
  {
   "cell_type": "markdown",
   "metadata": {},
   "source": [
    "You can set a default value for an input parameter in a function, so that you can omit that input parameter. Here is an example."
   ]
  },
  {
   "cell_type": "markdown",
   "metadata": {},
   "source": [
    "[`<CDNtoUSD.py>`](https://github.com/sathayas/PythonClassFall2019/blob/master/funcExamples/CDNtoUSD.py)"
   ]
  },
  {
   "cell_type": "code",
   "execution_count": 16,
   "metadata": {},
   "outputs": [],
   "source": [
    "def CDNtoUSD(amountCDN, exchRate=0.75):\n",
    "    amountUSD = amountCDN * exchRate\n",
    "    return amountUSD"
   ]
  },
  {
   "cell_type": "markdown",
   "metadata": {},
   "source": [
    "This function converts an amount in Canadian dollars into US dollars, depending on the exchange rate (**`exchRate`** parameter). If the exchange rate `exchRate` is omitted from the input, then the default exchange rate of 0.75 (a Canadian dollar to US dollar) is used. To specify the exchange rate, you can specify a value. Compare these two."
   ]
  },
  {
   "cell_type": "code",
   "execution_count": 17,
   "metadata": {},
   "outputs": [
    {
     "name": "stdout",
     "output_type": "stream",
     "text": [
      "93.75\n"
     ]
    }
   ],
   "source": [
    "print(CDNtoUSD(125))"
   ]
  },
  {
   "cell_type": "code",
   "execution_count": 18,
   "metadata": {
    "scrolled": true
   },
   "outputs": [
    {
     "name": "stdout",
     "output_type": "stream",
     "text": [
      "100.0\n"
     ]
    }
   ],
   "source": [
    "print(CDNtoUSD(125,0.80))"
   ]
  },
  {
   "cell_type": "markdown",
   "metadata": {},
   "source": [
    "# 5. Global and local variables\n",
    "<hr style=\"height:1px;border:none\" />"
   ]
  },
  {
   "cell_type": "markdown",
   "metadata": {},
   "source": [
    "In Python, what happens inside a function stays inside the function. This means any variables used inside a particular function only exists inside that function. Here is a demonstration of this concept."
   ]
  },
  {
   "cell_type": "markdown",
   "metadata": {},
   "source": [
    "[`<PrintAnswer.py>`](https://github.com/sathayas/PythonClassFall2019/blob/master/funcExamples/PrintAnswer.py)"
   ]
  },
  {
   "cell_type": "code",
   "execution_count": 20,
   "metadata": {},
   "outputs": [
    {
     "name": "stdout",
     "output_type": "stream",
     "text": [
      "Variable Answer is 42\n",
      "Variable Answer inside the function is 37\n",
      "Variable Answer is 42\n"
     ]
    }
   ],
   "source": [
    "def printAnswer(Answer):\n",
    "    Answer = Answer -5\n",
    "    print('Variable Answer inside the function is ' + str(Answer))\n",
    "\n",
    "Answer = 42\n",
    "print('Variable Answer is ' + str(Answer))\n",
    "printAnswer(Answer)\n",
    "print('Variable Answer is ' + str(Answer))"
   ]
  },
  {
   "cell_type": "markdown",
   "metadata": {},
   "source": [
    "You see that the variable `Answer` inside the function (known as a ***local variable***) does not affect the value of the variable `Answer` outside the function (known as a ***global variable***). Local variables created and used inside a function disappear as soon as the function finishes running.\n",
    "\n",
    "People may have different opinions on this, but it is a good idea to name your local variables differently from your global variables to avoid confusions."
   ]
  },
  {
   "cell_type": "markdown",
   "metadata": {},
   "source": [
    "# 6. Commenting on your function\n",
    "<hr style=\"height:1px;border:none\" />"
   ]
  },
  {
   "cell_type": "markdown",
   "metadata": {},
   "source": [
    "You can add a comment to your function starting with triple quotation marks (`'''`), and ending with triple quotation marks (`'''`). You can describe what the function does, its input parameters, as well as what it returns. For example,"
   ]
  },
  {
   "cell_type": "markdown",
   "metadata": {},
   "source": [
    "[`<GradeWithComments.py>`](https://github.com/sathayas/PythonClassFall2019/blob/master/funcExamples/GradeWithComments.py)"
   ]
  },
  {
   "cell_type": "code",
   "execution_count": 21,
   "metadata": {},
   "outputs": [],
   "source": [
    "def Grade(testScore):\n",
    "    '''\n",
    "    Function Grade with comments.\n",
    "    You can describe input parameters\n",
    "    as well as the return variables associated\n",
    "    with the function here.\n",
    "    '''\n",
    "    if testScore>=90:\n",
    "        grade = 'A'\n",
    "    elif testScore>=80:\n",
    "        grade = 'B'\n",
    "    elif testScore >=70:\n",
    "        grade = 'C'\n",
    "    elif testScore >= 60:\n",
    "        grade = 'D'\n",
    "    else:\n",
    "        grade = 'F'\n",
    "    return grade"
   ]
  },
  {
   "cell_type": "markdown",
   "metadata": {},
   "source": [
    "Once the function runs, then you can see the comments by the help function. For example,"
   ]
  },
  {
   "cell_type": "code",
   "execution_count": 22,
   "metadata": {},
   "outputs": [
    {
     "name": "stdout",
     "output_type": "stream",
     "text": [
      "Help on function Grade in module __main__:\n",
      "\n",
      "Grade(testScore)\n",
      "    Function Grade with comments.\n",
      "    You can describe input parameters\n",
      "    as well as the return variables associated\n",
      "    with the function here.\n",
      "\n"
     ]
    }
   ],
   "source": [
    "help(Grade)"
   ]
  },
  {
   "cell_type": "markdown",
   "metadata": {},
   "source": [
    "# 7. Importing a module\n",
    "<hr style=\"height:1px;border:none\" />"
   ]
  },
  {
   "cell_type": "markdown",
   "metadata": {},
   "source": [
    "Some of the functions in Python (such as `print()`, `range()`) are built-in. You can also use additional functions from a collection of functions known as a **module** or a **library**. Some modules come standard with Python, while other modules may be developed and distributed by someone else.\n",
    "\n",
    "In order to use a function from a module, you have to use an **`import`** statement to import the module. For an illustration, we will import random number generator functions from a module called **`random`**. "
   ]
  },
  {
   "cell_type": "markdown",
   "metadata": {},
   "source": [
    "[`<RandImport.py>`](https://github.com/sathayas/PythonClassFall2019/blob/master/funcExamples/RandImport.py)"
   ]
  },
  {
   "cell_type": "code",
   "execution_count": 23,
   "metadata": {},
   "outputs": [
    {
     "name": "stdout",
     "output_type": "stream",
     "text": [
      "2\n",
      "6\n",
      "1\n",
      "9\n",
      "8\n",
      "6\n",
      "3\n",
      "5\n",
      "4\n",
      "1\n"
     ]
    }
   ],
   "source": [
    "import random\n",
    "for i in range(10):\n",
    "    print(random.randint(1,10))"
   ]
  },
  {
   "cell_type": "markdown",
   "metadata": {},
   "source": [
    "In the **`random`** module, there is a function called **`randint()`**; `randint(a, b)` produces a random integer between a and b, inclusive. To use it, we refer it as **`random.randint`** to specify that this function is part of the `random` module. The program above outputs 10 random numbers between 1 and 10.\n",
    "\n",
    "<img src=\"https://github.com/sathayas/JupyterPythonFall2019/blob/master/Images/function_RandomNumber.gif?raw=true\" alt=\"Random number generator\" style=\"width: 650px; float: center;\"/>\n",
    "\n",
    "Alternatively, we can import just the `randint()` function only using **`from ... import`** statement. If we use this version, then we can refer the function as `randint()` (as opposed to `random.randint`)."
   ]
  },
  {
   "cell_type": "code",
   "execution_count": 24,
   "metadata": {},
   "outputs": [
    {
     "name": "stdout",
     "output_type": "stream",
     "text": [
      "1\n",
      "3\n",
      "8\n",
      "8\n",
      "4\n",
      "4\n",
      "5\n",
      "9\n",
      "5\n",
      "10\n"
     ]
    }
   ],
   "source": [
    "# Import using from\n",
    "from random import randint\n",
    "for i in range(10):\n",
    "    print(randint(1,10))"
   ]
  },
  {
   "cell_type": "markdown",
   "metadata": {},
   "source": [
    "### Exercise\n",
    "1. **Rolling two dice**. Write a function to simulate rolling of two dice. You can call the `randint` function inside your function to generate random numbers. The function ***returns*** two resulting numbers.\n",
    "2. **Snake eyes**. Write a program with a `while` loop, simulating rolling of two dice until you roll two 1's (a.k.a., snake eyes). You can call the function you've written in the previous exercise. Print out the numbers returned from rolling of dice at each step, until you get snake eyes.\n"
   ]
  },
  {
   "cell_type": "markdown",
   "metadata": {},
   "source": [
    "# 8. `print` function and default parameters\n",
    "<hr style=\"height:1px;border:none\" />"
   ]
  },
  {
   "cell_type": "markdown",
   "metadata": {},
   "source": [
    "The **`print`** function has two default input parameters: **`end`** and **`sep`**. The **`end`** parameter refers to the last character added to the output. The default is a line break. If you run these statements"
   ]
  },
  {
   "cell_type": "code",
   "execution_count": 25,
   "metadata": {},
   "outputs": [
    {
     "name": "stdout",
     "output_type": "stream",
     "text": [
      "Line 1\n",
      "Line 2\n"
     ]
    }
   ],
   "source": [
    "print('Line 1')\n",
    "print('Line 2')"
   ]
  },
  {
   "cell_type": "markdown",
   "metadata": {},
   "source": [
    "Then a line break is added by default after \"Line 1.\" However, if you run these statements"
   ]
  },
  {
   "cell_type": "code",
   "execution_count": 26,
   "metadata": {},
   "outputs": [
    {
     "name": "stdout",
     "output_type": "stream",
     "text": [
      "Line 1Line 2\n"
     ]
    }
   ],
   "source": [
    "print('Line 1', end='')\n",
    "print('Line 2')"
   ]
  },
  {
   "cell_type": "markdown",
   "metadata": {},
   "source": [
    "The line break is suppressed (by `end=''` parameter) and the two lines are concatenated.\n",
    "\n",
    "Similarly, the parameter **`sep`** specifies the separator between two items. By default, it is a space. However, you can set a separator of your choice. For example,"
   ]
  },
  {
   "cell_type": "code",
   "execution_count": 27,
   "metadata": {},
   "outputs": [
    {
     "name": "stdout",
     "output_type": "stream",
     "text": [
      "apple orange banana\n"
     ]
    }
   ],
   "source": [
    "print('apple', 'orange', 'banana')"
   ]
  },
  {
   "cell_type": "markdown",
   "metadata": {},
   "source": [
    "Puts a space between items, whereas"
   ]
  },
  {
   "cell_type": "code",
   "execution_count": 28,
   "metadata": {},
   "outputs": [
    {
     "name": "stdout",
     "output_type": "stream",
     "text": [
      "apple, orange, banana\n"
     ]
    }
   ],
   "source": [
    "print('apple', 'orange', 'banana', sep=', ')"
   ]
  },
  {
   "cell_type": "markdown",
   "metadata": {},
   "source": [
    "Puts a comma and a space between items.\n",
    "\n",
    "Here is one example of the `print` function with a blank `end` parameter. The function **`printStars`** generates a rectangle of stars, with the numbers of rows and columns specified by **`rowStars`** and **`colStars`** parameters, respectively."
   ]
  },
  {
   "cell_type": "markdown",
   "metadata": {},
   "source": [
    "[`<PrintStars.py>`](https://github.com/sathayas/PythonClassFall2019/blob/master/funcExamples/PrintStars.py)"
   ]
  },
  {
   "cell_type": "code",
   "execution_count": 29,
   "metadata": {},
   "outputs": [],
   "source": [
    "def printStars(rowStars,colStars):\n",
    "    for i in range(rowStars):\n",
    "        for j in range(colStars):\n",
    "            print('*', end='')\n",
    "        print()"
   ]
  },
  {
   "cell_type": "markdown",
   "metadata": {},
   "source": [
    "Try running this function with different input parameters."
   ]
  },
  {
   "cell_type": "code",
   "execution_count": 30,
   "metadata": {},
   "outputs": [
    {
     "name": "stdout",
     "output_type": "stream",
     "text": [
      "********************\n",
      "********************\n",
      "********************\n",
      "********************\n",
      "********************\n"
     ]
    }
   ],
   "source": [
    "printStars(5,20)"
   ]
  }
 ],
 "metadata": {
  "kernelspec": {
   "display_name": "Python 3",
   "language": "python",
   "name": "python3"
  },
  "language_info": {
   "codemirror_mode": {
    "name": "ipython",
    "version": 3
   },
   "file_extension": ".py",
   "mimetype": "text/x-python",
   "name": "python",
   "nbconvert_exporter": "python",
   "pygments_lexer": "ipython3",
   "version": "3.6.5"
  }
 },
 "nbformat": 4,
 "nbformat_minor": 2
}
