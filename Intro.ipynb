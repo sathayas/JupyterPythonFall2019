{
 "cells": [
  {
   "cell_type": "markdown",
   "metadata": {},
   "source": [
    "<p style=\"text-align:center\">\n",
    "PSY 341K <b>Python Coding for Psychological Sciences</b>, Fall 2019\n",
    "\n",
    "<img src=\"https://github.com/sathayas/JupyterPythonFall2019/blob/master/Images/PythonLogo.png?raw=true\" alt=\"Python logo\" width=\"400\">\n",
    "</p>\n",
    "\n",
    "<h1 style=\"text-align:center\"> Introduction & programming tools </h1>\n",
    "\n",
    "<h4 style=\"text-align:center\"> August 29, 2019 </h4>\n",
    "<hr style=\"height:5px;border:none\" />\n",
    "<p>"
   ]
  },
  {
   "cell_type": "markdown",
   "metadata": {},
   "source": [
    "# 0. Disclaimer\n",
    "<hr style=\"height:1px;border:none\" />"
   ]
  },
  {
   "cell_type": "markdown",
   "metadata": {},
   "source": [
    "This course is designed for students without much prior programming experience. So I plan to cover very basic materials on simple programming, and possibly some topics pertinent to psychology studies (an emphasis on numerical data). Thus, if you have extensive prior programming experience or if you are looking for advanced materials on particular aspects of Python, this class may be too rudimentary for you. I have noticed that students with some prior programming experience tend to be bored and unhappy with this course because it is too easy and slow for them. I have also noticed that students familiar with another programming language can learn Python syntax on their own much quicker than attending a semester-long course. \n",
    "\n",
    "Please make sure this is the right course for you!"
   ]
  },
  {
   "cell_type": "markdown",
   "metadata": {},
   "source": [
    "# 1. Syllabus (executive summary)\n",
    "<hr style=\"height:1px;border:none\" />"
   ]
  },
  {
   "cell_type": "markdown",
   "metadata": {},
   "source": [
    "## Instructor\n",
    "\n",
    "### Satoru Hayasaka, Ph.D.\n",
    "\n",
    "  * Office: SEA 2.214\n",
    "  * Email: hayasaka@utexas.edu\n",
    "  * Office hours: 10:00-11:30am, Tue & Thu - Or by appointment\n"
   ]
  },
  {
   "cell_type": "markdown",
   "metadata": {},
   "source": [
    "## What will I learn?\n",
    "\n",
    "Learning Outcomes:\n",
    "1. Vocabulary and understanding of fundamental programming concepts\n",
    "2. Python coding skills for simple data handling, manipulation, and visualization\n",
    "3. Problem solving skills necessary to address a problem through Python coding\n",
    "\n",
    "<p style=\"text-align:center\">\n",
    "<img src=\"https://github.com/sathayas/JupyterPythonFall2019/blob/master/Images/Intro_HarryPotter.jpg?raw=true\" alt=\"Harry Potter speaks Python\" style=\"width: 500px;\"/>\n",
    "</p>\n"
   ]
  },
  {
   "cell_type": "markdown",
   "metadata": {},
   "source": [
    "## Required resources\n",
    "\n",
    "### Computer\n",
    "A computer with Python is required to complete in-class exercises, homework assignments, and mini-hackathons. I highly encourage you to bring your laptop (with Python installed) to the class.\n",
    "\n",
    "\n",
    "### Python\n",
    "Python 3.6 or later is required. See the **Installation Instructions** document for how to get Python.\n",
    "\n",
    "### Python libraries\n",
    "Make sure these libraries are installed on your computer:\n",
    "  * `NumPy`\n",
    "  * `SciPy`\n",
    "  * `Matplotlib`\n",
    "  * `Pandas`\n",
    "  * `Scikit-learn`\n"
   ]
  },
  {
   "cell_type": "markdown",
   "metadata": {},
   "source": [
    "## Optional Resources\n",
    "\n",
    "### Textbook\n",
    "The first half of this class is loosely based on \n",
    "```\n",
    "   Al Sweigart,\n",
    "   Automate the Boring Stuff with Python:\n",
    "   Practical Programming for Total Beginners\n",
    "   No Starch Press (2015)\n",
    "```\n",
    "\n",
    "### Jupyter notebook\n",
    "Jupyter Notebook enables you to read course notes and run Python codes on your web browser.\n",
    "\n",
    "### Git\n",
    "**Git** enables you clone (or copy) codes, notes, and data associated with this class from **GitHub**. Git is already pre-installed on Mac. For Windows users, you can download Git for free from its website\n",
    "(https://git-scm.com/downloads )."
   ]
  },
  {
   "cell_type": "markdown",
   "metadata": {},
   "source": [
    "## Course materials\n",
    "\n",
    "Course materials are available on the Instructor's GitHub repositories on the web. Links to notes and codes for particular modules are provided on Canvas.\n",
    "  * Notes: https://github.com/sathayas/JupyterPythonFall2019\n",
    "  * Codes: https://github.com/sathayas/PythonClassFall2019"
   ]
  },
  {
   "cell_type": "markdown",
   "metadata": {},
   "source": [
    "## Grading\n",
    "\n",
    "### Homework assignments (60 points)\n",
    "  * Four homework assignments\n",
    "  * Highest three scores (up to 15 points each) will be used to calculate the score for Homework\n",
    "\n",
    "### Mini-Hackathons (30 points)\n",
    "  * Group programming projects\n",
    "  * 3-4 students per group\n",
    "  * Work on a problem of your choice\n",
    "  * Code together, and present the results to the class\n",
    "  * Mid-term and final mini-hackathons\n",
    "  \n",
    "### Code presentations (10+ points)\n",
    "  * Post a solution code to an in-class exercise on Canvas\n",
    "  * One students will be selected to explain the code\n",
    "  * When selected to present, students can earn points\n",
    "     * 7 points - first presentation\n",
    "     * 3 points - second presentation\n",
    "     * 1 point - third and subsequent presentations\n",
    "  * To earn points, students have to be chosen to present a code during the class; **in other words, you have to post your code AND be selected to present your code.**\n",
    "  * If you choose not to present during the entire semester, you cannot earn points for code presentations at all. "
   ]
  },
  {
   "cell_type": "markdown",
   "metadata": {},
   "source": [
    "## Policies\n",
    "\n",
    "### Attendance\n",
    "  * Mandatory for mini-hackathons\n",
    "     * Talk to me if you have a legitimate reason and unable to attend\n",
    "  * The instructor will not track attendance\n",
    "     * If you are not in the class, you cannot earn points for in-class code presentation\n",
    "     \n",
    "### Late assignments\n",
    "   * Points will be taken off for late submissions\n",
    "   * If unable to submit before the deadline for an extenuating circumstance (e.g., sickness, family emergency), please contact me BEFORE the deadline.\n",
    "   \n",
    "### Group submissions\n",
    "   * Students may work on homework assignments together, and submit identical codes.\n",
    "   * Each student is still responsible for submitting his/her codes on Canvas\n",
    "   * Please indicate whom you worked with.\n",
    "   * Group size may not exceed 4\n",
    "   \n",
    "### Academic integrity\n",
    "   * Do not cheat!\n",
    "      * Write your own codes! You cannot submit someone else's code even if you change variable names, and/or add extra spaces / comments / line breaks. \n",
    "   * The instructor will report any incident of academic misconduct!\n",
    "   \n",
    "### Students with disabilities and different learning styles\n",
    "   * Please inform the instructor if you need specific arrangements\n",
    "\n",
    "### Preferred names & gender pronouns\n",
    "   * Please inform the instructor of an alternate name or preferred gender pronouns  "
   ]
  },
  {
   "cell_type": "markdown",
   "metadata": {},
   "source": [
    "## Schedule\n",
    "\n",
    "Please refer to the schedule on the last page of the syllabus. The up-to-date version of the syllabus can be found on Canvas."
   ]
  },
  {
   "cell_type": "markdown",
   "metadata": {},
   "source": [
    "# 2. Git & GitHub\n",
    "<hr style=\"height:1px;border:none\" />"
   ]
  },
  {
   "cell_type": "markdown",
   "metadata": {},
   "source": [
    "***There will be a module on Git and GitHub later in the semester, covering Git in great details.***\n",
    "\n",
    "## What is Git?\n",
    "\n",
    "**Git** can keep track of codes and documents you use for a particular project. Git is similar to the track change functionality on Microsoft Word, except that it can keep track of multiple documents stored in the same directory. A directory kept track by Git is referred as a *git repository*.\n",
    "\n",
    "Git also facilitates sharing of codes and documents. Via an online repository called **GitHub**, one can copy and update git repositories created by others.\n",
    "\n",
    "In this course, I will post course materials as git repositories on GitHub, so that you can copy and update course materials (notes and codes) on your computer.\n",
    "\n",
    "\n",
    "## Crash course on Git\n",
    "\n",
    "The goal here is to show you how to clone (or copy) the course material *git* repositories from GitHub, and how to update them (as I continue to add new materials).\n",
    "\n",
    "### Cloning a git repository\n",
    "\n",
    " * Mac users: Please start the terminal app.\n",
    " * Linux users: Please start a terminal.\n",
    " * Windows users: Please start Git Bash, a part of the Git software package.\n",
    "\n",
    "Then please move to the location where you want to house git repositories. To see which directory you are in, you type the command\n",
    "```\n",
    "pwd\n",
    "```\n",
    "on your terminal. You may see something like **`/home/satoru`**. To move to another directory, you need to type the command **`cd`** followed by the directory name. Say, I want to move to the directory **`Python`**. Then you need to type\n",
    "```\n",
    "cd Python\n",
    "```\n",
    "You can verify the location by typing **`pwd`** command again. If you want to create a directory called **`Python`**, then you can create a directory by\n",
    "```\n",
    "mkdir Python\n",
    "```\n",
    "Then you can move to the newly created directory **`Python`**.\n",
    "\n",
    "Now you are ready to clone git repositories. You can clone the git repository for course notes by\n",
    "```\n",
    "git clone https://github.com/sathayas/JupyterPythonFall2018.git [Directory Name]\n",
    "```\n",
    "where **`[Directory Name]`** is the directory name of your choice (e.g., \"Notes\"). You can see the content of the cloned repository by\n",
    "```\n",
    "ls -l [Directory Name]\n",
    "```\n",
    "You have successfully cloned my git repository for course notes!\n",
    "\n",
    "Similarly, you can also clone the git repository for codes by\n",
    "```\n",
    "git clone https://github.com/sathayas/PythonClassFall2018.git [Directory Name]\n",
    "```\n",
    "Here, you can name the directory with your choice (e.g., \"Codes\").\n",
    "\n",
    "\n",
    "### Updating a git repository\n",
    "\n",
    "As I mentioned, I will be adding new materials to my git repositories throughout the semester. That means the version of git repositories you cloned today may be out of date, without including any new materials. But you can **pull** (or synch) new materials from my master git repositories by a simple command. You need to move to the cloned git repository directory (e.g., `Notes` or `Codes`), then run the command\n",
    "```\n",
    "git pull\n",
    "```\n",
    "This command automatically pulls (or downloads) any changes and updates to your cloned repository, so that your clone is up to date.\n",
    "\n",
    "### Updating a git repository (overwriting)\n",
    "\n",
    "If you are to modify a note or a code in a cloned git repository on your computer, I highly recommend saving the document under a different name. This is to avoid discrepancies between my master git repositories and your cloned repositories. Say, you edit or modify some documents (notes or codes) in your local git repository, and save under the same file name. Then Git will likely give you an error when you try to pull. This is because there are two versions of the same document, and Git cannot decide which one you would like to keep.\n",
    "\n",
    "If you modify some documents in your cloned repository, then here are the steps I suggest:\n",
    "\n",
    "  1. Rename the modified documents, and save them somewhere other than your cloned git repository.\n",
    "  2. Run the following commands\n",
    "```\n",
    "git reset --hard HEAD\n",
    "git pull\n",
    "```\n",
    "\n",
    "These commands will overwrite any locally modified files with the master files on the GitHub repository.\n",
    "\n",
    "## GitHub\n",
    "\n",
    "**GitHub** is a hosting service for git repositories, accessible by a web browser. Any project you store on GitHub is available as a repository on GitHub. Your repository has its own URL to facilitate the access. You can create an account on GitHub for free, if you don't have an account already. You can do so at GitHub's web site at https://github.com and sign up for an account.\n",
    "\n",
    "GitHub offers an easy way to share your codes with others. This can be beneficial if you are part of a collaborative project. Moreover, it can be used as a platform to disseminate your programs with the general public, or at least other researchers in your field.\n",
    "\n",
    "If you are on a job market and looking for a position that requires extensive programing skills, then chances are your potential employers may check out some of your projects on GitHub. So it is an excellent way to showcase your programming skills!"
   ]
  },
  {
   "cell_type": "markdown",
   "metadata": {},
   "source": [
    "# 3. Jupyter notebook\n",
    "<hr style=\"height:1px;border:none\" />"
   ]
  },
  {
   "cell_type": "markdown",
   "metadata": {},
   "source": [
    "## What is Jupyter notebook?\n",
    "\n",
    "A **Jupyter notebook** is an interactive document that lets you run Python right there in your document. It is an ideal setting for teaching and learning how to code. You can view Jupyter notebook documents (with **`.ipynb`** extension) on **GitHub** with your web browser. However, in order to run code snippets on a Jupyter notebook document, you need to open the **`.ipynb`** document on your computer.\n",
    "\n",
    "To use Jupyter notebook, you need to install Jupyter notebook on your computer, in addition to Python. The installation instructions can be found the in the installation documentation available on Canvas."
   ]
  },
  {
   "cell_type": "markdown",
   "metadata": {},
   "source": [
    "## How to work with a Jupyter notebook\n",
    "\n",
    "### Starting up\n",
    "If you are using Anaconda, then from the Anaconda Navigator, you can launch Jupyter notebook. For any other distributions of Python, you must open a Terminal (Mac) or Command Prompt (Windows) app. Then type in the command:\n",
    "\n",
    "```\n",
    "jupyter notebook\n",
    "```\n",
    "\n",
    "This should open up a web browser, and it should look like this:\n",
    "\n",
    "<img src=\"https://github.com/sathayas/JupyterPythonFall2019/blob/master/Images/Jupyter_StartUp.png?raw=true\" alt=\"Starting up Jupyter notebook\" style=\"width: 500px;\"/>\n",
    "\n",
    "Using the file browser within your web browser, find a Jupyter notebook document. It should look something like this:\n",
    "\n",
    "<img src=\"https://github.com/sathayas/JupyterPythonFall2019/blob/master/Images/Jupyter_Notebook.png?raw=true\" alt=\"An example of Jupyter notebook\" style=\"width: 500px;\"/>\n",
    "\n",
    "### Code cells\n",
    "Within a notebook document, there are some codes that can be executed on the spot. You simply find the code snippet, a box with **`In [ ]:`** on the left margin.\n",
    "\n",
    "<img src=\"https://github.com/sathayas/JupyterPythonFall2019/blob/master/Images/Jupyter_CodeCell.png?raw=true\" alt=\"Code cell\" style=\"width: 800px;\"/>\n",
    "\n",
    "You can click on this **cell** to select. If you happen to click on the text area, then you will see the cell selected with a *green* border.\n",
    "\n",
    "<img src=\"https://github.com/sathayas/JupyterPythonFall2019/blob/master/Images/Jupyter_CodeCellGreen.png?raw=true\" alt=\"Selected code cell (green)\" width=\"800\">\n",
    "\n",
    "Or if you happen to click anywhere else on the cell, the you will see the cell with a *blue* border.\n",
    "\n",
    "<img src=\"https://github.com/sathayas/JupyterPythonFall2019/blob/master/Images/Jupyter_CodeCellBlue.png?raw=true\" alt=\"Selected code cell (blue)\" width=\"800\">\n",
    "\n",
    "### Running a code cell\n",
    "Once the cell is selected (blue or green), you can run that code by pressing the run button \n",
    "\n",
    "<img src=\"https://github.com/sathayas/JupyterPythonFall2019/blob/master/Images/Jupyter_PlayButton.png?raw=true\" alt=\"Run button\" width=\"30\">\n",
    "\n",
    "within the browser window on the top. Then the code is executed, and the output is produced. You can see the output immediately below the code cell. "
   ]
  },
  {
   "cell_type": "code",
   "execution_count": 1,
   "metadata": {},
   "outputs": [
    {
     "name": "stdout",
     "output_type": "stream",
     "text": [
      "Hello World!\n",
      "Hello, Satoru!!\n"
     ]
    }
   ],
   "source": [
    "print(\"Hello World!\")\n",
    "yourname = 'Satoru'\n",
    "print(\"Hello, \" + yourname + \"!!\")"
   ]
  },
  {
   "cell_type": "markdown",
   "metadata": {},
   "source": [
    "### Editing and re-running a code cell\n",
    "You can edit and re-run the code within the notebook as well. Just click on the text of the code cell (so that it's green) and make an edit. \n",
    "\n",
    "Here, I am changing the variable **`yourname`** from **`Satoru`** to **`Hayasaka`**. Then I can just re-run the code by clicking on the run button again."
   ]
  },
  {
   "cell_type": "code",
   "execution_count": 2,
   "metadata": {},
   "outputs": [
    {
     "name": "stdout",
     "output_type": "stream",
     "text": [
      "Hello World!\n",
      "Hello, Hayasaka!!\n"
     ]
    }
   ],
   "source": [
    "print(\"Hello World!\")\n",
    "yourname = 'Hayasaka'\n",
    "print(\"Hello, \" + yourname + \"!!\")"
   ]
  },
  {
   "cell_type": "markdown",
   "metadata": {},
   "source": [
    "Jupyter notebook by default auto-saves any edits frequently. You can also click on the Save button to save any changes made to your Jupyter notebook.\n",
    "\n",
    "### Closing a Jupyter notebook\n",
    "When you are done with a Jupyter notebook, there are multiple ways to **close** it. This is the way I do it:\n",
    "\n",
    "  1. Go to the Python shell that opened up when you started Jupyter notebook, and press **CTRL-C*.\n",
    "  2. When asked to shutdown the notebook server, answer **`y`**.\n",
    "  3. You should see a message saying that the kernel is dead. You just click on **Don't Restart** at that point. \n",
    "  4. Close the browser window associated with the Jupyter notebook.\n",
    "  5. If you do not see a prompt in the Terminal or Command Prompt window, press **CTRL-C** one more time."
   ]
  }
 ],
 "metadata": {
  "kernelspec": {
   "display_name": "Python 3",
   "language": "python",
   "name": "python3"
  },
  "language_info": {
   "codemirror_mode": {
    "name": "ipython",
    "version": 3
   },
   "file_extension": ".py",
   "mimetype": "text/x-python",
   "name": "python",
   "nbconvert_exporter": "python",
   "pygments_lexer": "ipython3",
   "version": "3.5.6"
  }
 },
 "nbformat": 4,
 "nbformat_minor": 2
}
